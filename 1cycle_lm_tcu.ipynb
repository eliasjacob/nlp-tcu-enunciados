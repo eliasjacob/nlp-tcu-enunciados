{
 "cells": [
  {
   "cell_type": "markdown",
   "metadata": {},
   "source": [
    "## Preparação de dados do TCU\n",
    "\n",
    "Versao inicial: Fernando Melo - 10/09/2018\n",
    "\n",
    "Versao atualizada: Monique Monteiro - 16/09/2018. \n",
    "\n",
    "- Uso do language model para WIKI-PT disponivel em https://github.com/monilouise/deep-learning/tree/master/nlp/language-models/pt\n",
    "- Uso de 1cycle para tunning do language model\n",
    "\n",
    "Dados disponíveis no site: https://contas.tcu.gov.br/pesquisaJurisprudencia/#/pesquisa/jurisprudencia-selecionada"
   ]
  },
  {
   "cell_type": "code",
   "execution_count": 1,
   "metadata": {},
   "outputs": [],
   "source": [
    "%matplotlib inline\n",
    "import pandas as pd\n",
    "from os import listdir\n",
    "from os.path import isfile, join\n",
    "from pathlib import Path\n",
    "import numpy as np\n",
    "from sklearn.model_selection import train_test_split"
   ]
  },
  {
   "cell_type": "code",
   "execution_count": 2,
   "metadata": {},
   "outputs": [],
   "source": [
    "from fastai.text import *\n",
    "import html\n"
   ]
  },
  {
   "cell_type": "code",
   "execution_count": 3,
   "metadata": {},
   "outputs": [
    {
     "name": "stdout",
     "output_type": "stream",
     "text": [
      "\n",
      "\u001b[93m    Warning: no model found for 'pt'\u001b[0m\n",
      "\n",
      "    Only loading the 'pt' tokenizer.\n",
      "\n"
     ]
    }
   ],
   "source": [
    "import spacy\n",
    "nlp = spacy.load('pt')"
   ]
  },
  {
   "cell_type": "code",
   "execution_count": 4,
   "metadata": {},
   "outputs": [],
   "source": [
    "BOS = 'xbos'  # beginning-of-sentence tag\n",
    "FLD = 'xfld'  # data field tag"
   ]
  },
  {
   "cell_type": "markdown",
   "metadata": {},
   "source": [
    "## Reading data "
   ]
  },
  {
   "cell_type": "code",
   "execution_count": 5,
   "metadata": {},
   "outputs": [],
   "source": [
    "# set path for classification files\n",
    "CLAS_PATH=Path('data/tcu/dist_class')\n",
    "CLAS_PATH.mkdir(exist_ok=True)\n",
    "\n",
    "# set path for language model files\n",
    "LM_PATH=Path('data/tcu/dist_lm/')\n",
    "LM_PATH.mkdir(exist_ok=True)"
   ]
  },
  {
   "cell_type": "code",
   "execution_count": 6,
   "metadata": {},
   "outputs": [],
   "source": [
    "PATH = 'data/tcu/'\n",
    "df = pd.read_csv(PATH+'tcu_jurisp.csv', index_col=0) "
   ]
  },
  {
   "cell_type": "code",
   "execution_count": 7,
   "metadata": {},
   "outputs": [
    {
     "data": {
      "text/plain": [
       "(13258, 2)"
      ]
     },
     "execution_count": 7,
     "metadata": {},
     "output_type": "execute_result"
    }
   ],
   "source": [
    "df.shape"
   ]
  },
  {
   "cell_type": "code",
   "execution_count": 8,
   "metadata": {},
   "outputs": [
    {
     "data": {
      "text/html": [
       "<div>\n",
       "<style scoped>\n",
       "    .dataframe tbody tr th:only-of-type {\n",
       "        vertical-align: middle;\n",
       "    }\n",
       "\n",
       "    .dataframe tbody tr th {\n",
       "        vertical-align: top;\n",
       "    }\n",
       "\n",
       "    .dataframe thead th {\n",
       "        text-align: right;\n",
       "    }\n",
       "</style>\n",
       "<table border=\"1\" class=\"dataframe\">\n",
       "  <thead>\n",
       "    <tr style=\"text-align: right;\">\n",
       "      <th></th>\n",
       "      <th>labels</th>\n",
       "      <th>text</th>\n",
       "    </tr>\n",
       "  </thead>\n",
       "  <tbody>\n",
       "    <tr>\n",
       "      <th>0</th>\n",
       "      <td>6</td>\n",
       "      <td>O TCU tem competência para fiscalizar a aplica...</td>\n",
       "    </tr>\n",
       "    <tr>\n",
       "      <th>1</th>\n",
       "      <td>6</td>\n",
       "      <td>Não compete ao TCU apreciar, para fins de regi...</td>\n",
       "    </tr>\n",
       "    <tr>\n",
       "      <th>2</th>\n",
       "      <td>6</td>\n",
       "      <td>Compete ao TCU a apreciação da constitucionali...</td>\n",
       "    </tr>\n",
       "    <tr>\n",
       "      <th>3</th>\n",
       "      <td>6</td>\n",
       "      <td>É possível a expedição de determinação pelo TC...</td>\n",
       "    </tr>\n",
       "    <tr>\n",
       "      <th>4</th>\n",
       "      <td>6</td>\n",
       "      <td>O TCU não tem competência, no âmbito do Progra...</td>\n",
       "    </tr>\n",
       "  </tbody>\n",
       "</table>\n",
       "</div>"
      ],
      "text/plain": [
       "   labels                                               text\n",
       "0       6  O TCU tem competência para fiscalizar a aplica...\n",
       "1       6  Não compete ao TCU apreciar, para fins de regi...\n",
       "2       6  Compete ao TCU a apreciação da constitucionali...\n",
       "3       6  É possível a expedição de determinação pelo TC...\n",
       "4       6  O TCU não tem competência, no âmbito do Progra..."
      ]
     },
     "execution_count": 8,
     "metadata": {},
     "output_type": "execute_result"
    }
   ],
   "source": [
    "df.head()"
   ]
  },
  {
   "cell_type": "code",
   "execution_count": 9,
   "metadata": {},
   "outputs": [
    {
     "data": {
      "text/plain": [
       "<matplotlib.axes._subplots.AxesSubplot at 0x7fbc354f67f0>"
      ]
     },
     "execution_count": 9,
     "metadata": {},
     "output_type": "execute_result"
    },
    {
     "data": {
      "image/png": "[encoded data removed]",
      "text/plain": [
       "<matplotlib.figure.Figure at 0x7fbcc41089e8>"
      ]
     },
     "metadata": {},
     "output_type": "display_data"
    }
   ],
   "source": [
    "df['labels'].value_counts().plot.bar()"
   ]
  },
  {
   "cell_type": "code",
   "execution_count": 10,
   "metadata": {},
   "outputs": [
    {
     "data": {
      "text/plain": [
       "0    3468\n",
       "1    2723\n",
       "2    2297\n",
       "3    1775\n",
       "4     932\n",
       "5     673\n",
       "6     572\n",
       "7     343\n",
       "8     337\n",
       "9     138\n",
       "Name: labels, dtype: int64"
      ]
     },
     "execution_count": 10,
     "metadata": {},
     "output_type": "execute_result"
    }
   ],
   "source": [
    "df['labels'].value_counts()"
   ]
  },
  {
   "cell_type": "code",
   "execution_count": 11,
   "metadata": {},
   "outputs": [],
   "source": [
    "# save new file distribuicao.csv for future use\n",
    "df.to_csv(PATH+'distrib.csv')"
   ]
  },
  {
   "cell_type": "code",
   "execution_count": 12,
   "metadata": {},
   "outputs": [
    {
     "data": {
      "text/html": [
       "<div>\n",
       "<style scoped>\n",
       "    .dataframe tbody tr th:only-of-type {\n",
       "        vertical-align: middle;\n",
       "    }\n",
       "\n",
       "    .dataframe tbody tr th {\n",
       "        vertical-align: top;\n",
       "    }\n",
       "\n",
       "    .dataframe thead th {\n",
       "        text-align: right;\n",
       "    }\n",
       "</style>\n",
       "<table border=\"1\" class=\"dataframe\">\n",
       "  <thead>\n",
       "    <tr style=\"text-align: right;\">\n",
       "      <th></th>\n",
       "      <th>labels</th>\n",
       "      <th>text</th>\n",
       "    </tr>\n",
       "  </thead>\n",
       "  <tbody>\n",
       "    <tr>\n",
       "      <th>0</th>\n",
       "      <td>6</td>\n",
       "      <td>O TCU tem competência para fiscalizar a aplica...</td>\n",
       "    </tr>\n",
       "    <tr>\n",
       "      <th>1</th>\n",
       "      <td>6</td>\n",
       "      <td>Não compete ao TCU apreciar, para fins de regi...</td>\n",
       "    </tr>\n",
       "    <tr>\n",
       "      <th>2</th>\n",
       "      <td>6</td>\n",
       "      <td>Compete ao TCU a apreciação da constitucionali...</td>\n",
       "    </tr>\n",
       "    <tr>\n",
       "      <th>3</th>\n",
       "      <td>6</td>\n",
       "      <td>É possível a expedição de determinação pelo TC...</td>\n",
       "    </tr>\n",
       "    <tr>\n",
       "      <th>4</th>\n",
       "      <td>6</td>\n",
       "      <td>O TCU não tem competência, no âmbito do Progra...</td>\n",
       "    </tr>\n",
       "  </tbody>\n",
       "</table>\n",
       "</div>"
      ],
      "text/plain": [
       "   labels                                               text\n",
       "0       6  O TCU tem competência para fiscalizar a aplica...\n",
       "1       6  Não compete ao TCU apreciar, para fins de regi...\n",
       "2       6  Compete ao TCU a apreciação da constitucionali...\n",
       "3       6  É possível a expedição de determinação pelo TC...\n",
       "4       6  O TCU não tem competência, no âmbito do Progra..."
      ]
     },
     "execution_count": 12,
     "metadata": {},
     "output_type": "execute_result"
    }
   ],
   "source": [
    "df.head()"
   ]
  },
  {
   "cell_type": "markdown",
   "metadata": {},
   "source": [
    "## Spliting data in train and test datasets for CLASSIFICATION ONLY"
   ]
  },
  {
   "cell_type": "code",
   "execution_count": 13,
   "metadata": {},
   "outputs": [],
   "source": [
    "df_reduz = pd.read_csv(PATH+'tcu_jurisp_reduzido.csv', index_col=0)"
   ]
  },
  {
   "cell_type": "code",
   "execution_count": 14,
   "metadata": {},
   "outputs": [
    {
     "data": {
      "text/plain": [
       "(10263, 2)"
      ]
     },
     "execution_count": 14,
     "metadata": {},
     "output_type": "execute_result"
    }
   ],
   "source": [
    "df_reduz.shape"
   ]
  },
  {
   "cell_type": "code",
   "execution_count": 15,
   "metadata": {},
   "outputs": [
    {
     "data": {
      "text/plain": [
       "0    3468\n",
       "1    2723\n",
       "2    2297\n",
       "3    1775\n",
       "Name: labels, dtype: int64"
      ]
     },
     "execution_count": 15,
     "metadata": {},
     "output_type": "execute_result"
    }
   ],
   "source": [
    "df_reduz['labels'].value_counts()"
   ]
  },
  {
   "cell_type": "code",
   "execution_count": 16,
   "metadata": {},
   "outputs": [],
   "source": [
    "train,test = train_test_split(df_reduz, test_size=0.1)"
   ]
  },
  {
   "cell_type": "code",
   "execution_count": 17,
   "metadata": {},
   "outputs": [],
   "source": [
    "# save train and test of tcu_jurisp.csv for future use\n",
    "# test dataset will have 10%  of the total rows of the orginal dataset.\n",
    "test.to_csv(PATH+'test_tcu_jurisp.csv')\n",
    "train.to_csv(PATH+'train_tcu_jurisp.csv')"
   ]
  },
  {
   "cell_type": "code",
   "execution_count": 18,
   "metadata": {},
   "outputs": [
    {
     "data": {
      "text/plain": [
       "(1027, 2)"
      ]
     },
     "execution_count": 18,
     "metadata": {},
     "output_type": "execute_result"
    }
   ],
   "source": [
    "test.shape"
   ]
  },
  {
   "cell_type": "code",
   "execution_count": 19,
   "metadata": {},
   "outputs": [
    {
     "data": {
      "text/plain": [
       "(9236, 2)"
      ]
     },
     "execution_count": 19,
     "metadata": {},
     "output_type": "execute_result"
    }
   ],
   "source": [
    "train.shape"
   ]
  },
  {
   "cell_type": "markdown",
   "metadata": {},
   "source": [
    "## Classification data preparation"
   ]
  },
  {
   "cell_type": "code",
   "execution_count": 20,
   "metadata": {},
   "outputs": [],
   "source": [
    "CLASSES = ['Pessoal', 'Licitação', 'Responsabilidade','Direito_Processual']"
   ]
  },
  {
   "cell_type": "code",
   "execution_count": 21,
   "metadata": {},
   "outputs": [],
   "source": [
    "# Append texts and labels from TRAIN dataset and create numpy array\n",
    "trn_texts = np.array(train['text'])\n",
    "trn_labels = np.array(train['labels'])\n",
    "# Append texts and labels from TEST dataset and create numpy array\n",
    "val_texts = np.array(test['text'])\n",
    "val_labels = np.array(test['labels'])\n"
   ]
  },
  {
   "cell_type": "code",
   "execution_count": 22,
   "metadata": {},
   "outputs": [
    {
     "data": {
      "text/plain": [
       "(9236, 1027)"
      ]
     },
     "execution_count": 22,
     "metadata": {},
     "output_type": "execute_result"
    }
   ],
   "source": [
    "len(trn_texts), len(val_texts)"
   ]
  },
  {
   "cell_type": "code",
   "execution_count": 23,
   "metadata": {},
   "outputs": [
    {
     "data": {
      "text/plain": [
       "array([ 'O desbalanceamento entre critérios de técnica e preço torna possível o direcionamento da licitação, restringindo a competitividade e, consequentemente, o número de propostas apresentadas.',\n",
       "       'Os dependentes de ex-servidores ferroviários autárquicos não têm direito à pensão custeada pelo Tesouro Nacional.',\n",
       "       'O exame de admissibilidade do recurso, no que se refere à tempestividade, estará prejudicado no caso de ausência da data do recebimento da comunicação da decisão pelo responsável.',\n",
       "       'É irregular o cumprimento de jornada de trabalho de sete horas por ocupantes de cargos em comissão e funções de confiança. Os servidores que exercem função de confiança ou ocupam cargo em comissão estão sujeitos ao cumprimento da jornada de quarenta horas semanais, por estarem submetidos a regime de integral dedicação ao serviço.',\n",
       "       'Os índices contábeis somente devem ser exigidos em nível suficiente para assegurar o cumprimento das obrigações, devendo, ainda, ser acompanhados de justificativa técnica.',\n",
       "       'É ilegal a pensão civil instituída em favor de genitores quando não comprovada a dependência econômica em relação ao instituidor.',\n",
       "       '\\r\\r\\n\\r\\r\\nSÚMULA TCU 224: É admissível, a partir de 05-10-1988, a percepção cumulativa da gratificação de função DAI e dos \"quintos\" dela advindos, desde que a aposentadoria do servidor esteja fundamentada no art. 2º da Lei nº 6.732, de 04-12-79.\\r\\r\\n',\n",
       "       'É cabível a revisão de ofício da deliberação que considerou legal ato sujeito a registro, dentro do prazo de cinco anos do julgamento, se verificada violação da ordem jurídica.',\n",
       "       'A utilização de pregão presencial em preterição ao pregão eletrônico deve ser acompanhada de justificativa nos autos do procedimento.',\n",
       "       'É legal a incorporação de parcelas de quintos, com fundamento no art. 3º da MP 2.225-45/2001 e observando-se os critérios contidos na redação original dos arts. 3º e 10 da Lei 8.911/1994, no período compreendido entre 09/04/1998 e 04/09/2001, data da edição da referida medida provisória. A partir de então, todas as parcelas incorporadas, inclusive a prevista no art. 3º da Lei 9.624/1998, são transformadas em Vantagem Pessoal Nominalmente Identificada - VPNI, admitindo-se, ainda, o cômputo do tempo residual porventura existente em 10/11/1997, desde que não empregado em qualquer incorporação, para concessão da primeira ou de mais uma parcela de quintos na data específica em que for completado o interstício de doze meses, ficando, também, essa derradeira incorporação transformada em VPNI, nos termos do subitem 8.1.2 da Decisão 925/1999 - Plenário.'], dtype=object)"
      ]
     },
     "execution_count": 23,
     "metadata": {},
     "output_type": "execute_result"
    }
   ],
   "source": [
    "trn_texts[0:10]"
   ]
  },
  {
   "cell_type": "code",
   "execution_count": 24,
   "metadata": {},
   "outputs": [
    {
     "data": {
      "text/plain": [
       "array([1, 0, 3, 0, 1, 0, 0, 0, 1, 0])"
      ]
     },
     "execution_count": 24,
     "metadata": {},
     "output_type": "execute_result"
    }
   ],
   "source": [
    "trn_labels[0:10]"
   ]
  },
  {
   "cell_type": "code",
   "execution_count": 25,
   "metadata": {},
   "outputs": [],
   "source": [
    "col_names = ['labels','text']"
   ]
  },
  {
   "cell_type": "markdown",
   "metadata": {},
   "source": [
    "Random permutation np array to shuffle the text.  \n",
    "Text and labels have to be permutated in the same way and that's why we're going to set the seed."
   ]
  },
  {
   "cell_type": "code",
   "execution_count": 26,
   "metadata": {},
   "outputs": [],
   "source": [
    "# Random permutation of train and test texts\n",
    "np.random.seed(42)\n",
    "trn_idx = np.random.permutation(len(trn_texts))\n",
    "val_idx = np.random.permutation(len(val_texts))"
   ]
  },
  {
   "cell_type": "code",
   "execution_count": 27,
   "metadata": {},
   "outputs": [],
   "source": [
    "trn_texts = trn_texts[trn_idx]\n",
    "val_texts = val_texts[val_idx]\n",
    "\n",
    "trn_labels = trn_labels[trn_idx]\n",
    "val_labels = val_labels[val_idx]"
   ]
  },
  {
   "cell_type": "code",
   "execution_count": 28,
   "metadata": {},
   "outputs": [],
   "source": [
    "df_trn = pd.DataFrame({'text':trn_texts, 'labels':trn_labels}, columns=col_names)\n",
    "df_val = pd.DataFrame({'text':val_texts, 'labels':val_labels}, columns=col_names)"
   ]
  },
  {
   "cell_type": "code",
   "execution_count": 29,
   "metadata": {},
   "outputs": [
    {
     "data": {
      "text/html": [
       "<div>\n",
       "<style scoped>\n",
       "    .dataframe tbody tr th:only-of-type {\n",
       "        vertical-align: middle;\n",
       "    }\n",
       "\n",
       "    .dataframe tbody tr th {\n",
       "        vertical-align: top;\n",
       "    }\n",
       "\n",
       "    .dataframe thead th {\n",
       "        text-align: right;\n",
       "    }\n",
       "</style>\n",
       "<table border=\"1\" class=\"dataframe\">\n",
       "  <thead>\n",
       "    <tr style=\"text-align: right;\">\n",
       "      <th></th>\n",
       "      <th>labels</th>\n",
       "      <th>text</th>\n",
       "    </tr>\n",
       "  </thead>\n",
       "  <tbody>\n",
       "    <tr>\n",
       "      <th>0</th>\n",
       "      <td>0</td>\n",
       "      <td>É ilegal a aposentadoria que não preencha o re...</td>\n",
       "    </tr>\n",
       "    <tr>\n",
       "      <th>1</th>\n",
       "      <td>0</td>\n",
       "      <td>A aplicação do princípio da segurança jurídica...</td>\n",
       "    </tr>\n",
       "    <tr>\n",
       "      <th>2</th>\n",
       "      <td>0</td>\n",
       "      <td>Com a edição da Emenda Constitucional nº 41/20...</td>\n",
       "    </tr>\n",
       "    <tr>\n",
       "      <th>3</th>\n",
       "      <td>0</td>\n",
       "      <td>Deve ser aplicado concurso público para a sele...</td>\n",
       "    </tr>\n",
       "    <tr>\n",
       "      <th>4</th>\n",
       "      <td>3</td>\n",
       "      <td>Para se configurar hipótese de impedimento do ...</td>\n",
       "    </tr>\n",
       "  </tbody>\n",
       "</table>\n",
       "</div>"
      ],
      "text/plain": [
       "   labels                                               text\n",
       "0       0  É ilegal a aposentadoria que não preencha o re...\n",
       "1       0  A aplicação do princípio da segurança jurídica...\n",
       "2       0  Com a edição da Emenda Constitucional nº 41/20...\n",
       "3       0  Deve ser aplicado concurso público para a sele...\n",
       "4       3  Para se configurar hipótese de impedimento do ..."
      ]
     },
     "execution_count": 29,
     "metadata": {},
     "output_type": "execute_result"
    }
   ],
   "source": [
    "df_val.head()"
   ]
  },
  {
   "cell_type": "markdown",
   "metadata": {},
   "source": [
    "The pandas dataframe is used to store text data in a newly evolving standard format of label followed by text columns."
   ]
  },
  {
   "cell_type": "code",
   "execution_count": 30,
   "metadata": {},
   "outputs": [],
   "source": [
    "df_trn.to_csv(CLAS_PATH/'train.csv', header=False, index=False)\n",
    "df_val.to_csv(CLAS_PATH/'test.csv', header=False, index=False)\n",
    "\n",
    "(CLAS_PATH/'classes.txt').open('w').writelines(f'{o}\\n' for o in CLASSES)"
   ]
  },
  {
   "cell_type": "markdown",
   "metadata": {},
   "source": [
    "## Language model data preparation"
   ]
  },
  {
   "cell_type": "markdown",
   "metadata": {},
   "source": [
    "Creating the data for the Language Model(LM). The LM's goal is to learn the structure of the portuguese language. It learns language by trying to predict the next word given a set of previous words(ngrams). Since the LM does not classify reviews, the labels can be ignored.\n",
    "\n",
    "The LM can benefit from all the textual data and there is no need to exclude text.\n",
    "\n",
    "We first concat all the train(81,349) and test(20,400) texts. And then, we use sklearn splitter to divide up the 101,749 texts into 90% training and 10% validation sets.  \n",
    "\n",
    "It's important to mention that this is for the LM preparation and that, for the classification we'll use test.csv, which has 20,400 rows that we prepared above."
   ]
  },
  {
   "cell_type": "code",
   "execution_count": 31,
   "metadata": {},
   "outputs": [],
   "source": [
    "df_text = np.array(df.text)"
   ]
  },
  {
   "cell_type": "code",
   "execution_count": 32,
   "metadata": {},
   "outputs": [
    {
     "data": {
      "text/plain": [
       "(13258,)"
      ]
     },
     "execution_count": 32,
     "metadata": {},
     "output_type": "execute_result"
    }
   ],
   "source": [
    "df_text.shape"
   ]
  },
  {
   "cell_type": "code",
   "execution_count": 33,
   "metadata": {},
   "outputs": [],
   "source": [
    "# trn_texts,val_texts = sklearn.model_selection.train_test_split(\n",
    "#     np.concatenate([trn_texts,val_texts]), test_size=0.1)\n",
    "\n",
    "trn_texts,val_texts = train_test_split(df_text, test_size=0.1)"
   ]
  },
  {
   "cell_type": "code",
   "execution_count": 34,
   "metadata": {},
   "outputs": [
    {
     "data": {
      "text/plain": [
       "(11932, 1326)"
      ]
     },
     "execution_count": 34,
     "metadata": {},
     "output_type": "execute_result"
    }
   ],
   "source": [
    "len(trn_texts), len(val_texts)"
   ]
  },
  {
   "cell_type": "code",
   "execution_count": 35,
   "metadata": {},
   "outputs": [],
   "source": [
    "df_trn = pd.DataFrame({'text':trn_texts, 'labels':[0]*len(trn_texts)}, columns=col_names)\n",
    "df_val = pd.DataFrame({'text':val_texts, 'labels':[0]*len(val_texts)}, columns=col_names)\n",
    "\n",
    "df_trn.to_csv(LM_PATH/'train.csv', header=False, index=False)\n",
    "df_val.to_csv(LM_PATH/'test.csv', header=False, index=False)"
   ]
  },
  {
   "cell_type": "markdown",
   "metadata": {},
   "source": [
    "## Language model tokenization"
   ]
  },
  {
   "cell_type": "code",
   "execution_count": 36,
   "metadata": {},
   "outputs": [],
   "source": [
    "chunksize=24000"
   ]
  },
  {
   "cell_type": "code",
   "execution_count": 37,
   "metadata": {},
   "outputs": [],
   "source": [
    "import re"
   ]
  },
  {
   "cell_type": "code",
   "execution_count": 38,
   "metadata": {},
   "outputs": [],
   "source": [
    "re1 = re.compile(r'  +')\n",
    "\n",
    "def fixup(x):\n",
    "    x = x.replace('#39;', \"'\").replace('amp;', '&').replace('#146;', \"'\").replace(\n",
    "        'nbsp;', ' ').replace('#36;', '$').replace('\\\\n', \"\\n\").replace('quot;', \"'\").replace(\n",
    "        '<br />', \"\\n\").replace('\\\\\"', '\"').replace('<unk>','u_n').replace(' @.@ ','.').replace(\n",
    "        ' @-@ ','-').replace('\\\\', ' \\\\ ')\n",
    "    return re1.sub(' ', html.unescape(x))"
   ]
  },
  {
   "cell_type": "code",
   "execution_count": 39,
   "metadata": {},
   "outputs": [],
   "source": [
    "def get_texts(df, n_lbls=1):\n",
    "    labels = df.iloc[:,range(n_lbls)].values.astype(np.int64)\n",
    "    texts = f'\\n{BOS} {FLD} 1 ' + df[n_lbls].astype(str)\n",
    "    for i in range(n_lbls+1, len(df.columns)): texts += f' {FLD} {i-n_lbls} ' + df[i].astype(str)\n",
    "    texts = list(texts.apply(fixup).values)\n",
    "\n",
    "    tok = Tokenizer(lang='pt').proc_all_mp(partition_by_cores(texts),lang='pt')\n",
    "    return tok, list(labels)"
   ]
  },
  {
   "cell_type": "code",
   "execution_count": 40,
   "metadata": {},
   "outputs": [],
   "source": [
    "def get_all(df, n_lbls):\n",
    "    tok, labels = [], []\n",
    "    for i, r in enumerate(df):\n",
    "        print(i)\n",
    "        tok_, labels_ = get_texts(r, n_lbls)\n",
    "        tok += tok_;\n",
    "        labels += labels_\n",
    "    return tok, labels"
   ]
  },
  {
   "cell_type": "code",
   "execution_count": 41,
   "metadata": {},
   "outputs": [
    {
     "name": "stdout",
     "output_type": "stream",
     "text": [
      "from .core import *\r\n",
      "from .learner import *\r\n",
      "from .lm_rnn import *\r\n",
      "from torch.utils.data.sampler import Sampler\r\n",
      "import spacy\r\n",
      "from spacy.symbols import ORTH\r\n",
      "\r\n",
      "re_tok = re.compile(f'([{string.punctuation}“”¨«»®´·º½¾¿¡§£₤‘’])')\r\n",
      "def tokenize(s): return re_tok.sub(r' \\1 ', s).split()\r\n",
      "\r\n",
      "def texts_labels_from_folders(path, folders):\r\n",
      "    texts,labels = [],[]\r\n",
      "    for idx,label in enumerate(folders):\r\n",
      "        for fname in glob(os.path.join(path, label, '*.*')):\r\n",
      "            texts.append(open(fname, 'r').read())\r\n",
      "            labels.append(idx)\r\n",
      "    return texts, np.array(labels).astype(np.int64)\r\n",
      "\r\n",
      "def numericalize_tok(tokens, max_vocab=50000, min_freq=0, unk_tok=\"_unk_\", pad_tok=\"_pad_\", bos_tok=\"_bos_\", eos_tok=\"_eos_\"):\r\n",
      "    \"\"\"Takes in text tokens and returns int2tok and tok2int converters\r\n",
      "\r\n",
      "        Arguments:\r\n",
      "        tokens(list): List of tokens. Can be a list of strings, or a list of lists of strings.\r\n",
      "        max_vocab(int): Number of tokens to return in the vocab (sorted by frequency)\r\n",
      "        min_freq(int): Minimum number of instances a token must be present in order to be preserved.\r\n",
      "        unk_tok(str): Token to use when unknown tokens are encountered in the source text.\r\n",
      "        pad_tok(str): Token to use when padding sequences.\r\n",
      "    \"\"\"\r\n",
      "    if isinstance(tokens, str):\r\n",
      "        raise ValueError(\"Expected to receive a list of tokens. Received a string instead\")\r\n",
      "    if isinstance(tokens[0], list):\r\n",
      "        tokens = [p for o in tokens for p in o]\r\n",
      "    freq = Counter(tokens)\r\n",
      "    int2tok = [o for o,c in freq.most_common(max_vocab) if c>min_freq]\r\n",
      "    unk_id = 3\r\n",
      "    int2tok.insert(0, bos_tok)\r\n",
      "    int2tok.insert(1, pad_tok)\r\n",
      "    int2tok.insert(2, eos_tok)\r\n",
      "    int2tok.insert(unk_id, unk_tok)\r\n",
      "    tok2int = collections.defaultdict(lambda:unk_id, {v:k for k,v in enumerate(int2tok)})\r\n",
      "    return int2tok, tok2int\r\n",
      "\r\n",
      "class Tokenizer():\r\n",
      "    def __init__(self, lang='en'):\r\n",
      "        self.re_br = re.compile(r'<\\s*br\\s*/?>', re.IGNORECASE)\r\n",
      "        self.tok = spacy.load(lang)\r\n",
      "        for w in ('<eos>','<bos>','<unk>'):\r\n",
      "            self.tok.tokenizer.add_special_case(w, [{ORTH: w}])\r\n",
      "\r\n",
      "    def sub_br(self,x): return self.re_br.sub(\"\\n\", x)\r\n",
      "\r\n",
      "    def spacy_tok(self,x):\r\n",
      "        return [t.text for t in self.tok.tokenizer(self.sub_br(x))]\r\n",
      "\r\n",
      "    re_rep = re.compile(r'(\\S)(\\1{3,})')\r\n",
      "    re_word_rep = re.compile(r'(\\b\\w+\\W+)(\\1{3,})')\r\n",
      "\r\n",
      "    @staticmethod\r\n",
      "    def replace_rep(m):\r\n",
      "        TK_REP = 'tk_rep'\r\n",
      "        c,cc = m.groups()\r\n",
      "        return f' {TK_REP} {len(cc)+1} {c} '\r\n",
      "\r\n",
      "    @staticmethod\r\n",
      "    def replace_wrep(m):\r\n",
      "        TK_WREP = 'tk_wrep'\r\n",
      "        c,cc = m.groups()\r\n",
      "        return f' {TK_WREP} {len(cc.split())+1} {c} '\r\n",
      "\r\n",
      "    @staticmethod\r\n",
      "    def do_caps(ss):\r\n",
      "        TOK_UP,TOK_SENT,TOK_MIX = ' t_up ',' t_st ',' t_mx '\r\n",
      "        res = []\r\n",
      "        prev='.'\r\n",
      "        re_word = re.compile('\\w')\r\n",
      "        re_nonsp = re.compile('\\S')\r\n",
      "        for s in re.findall(r'\\w+|\\W+', ss):\r\n",
      "            res += ([TOK_UP,s.lower()] if (s.isupper() and (len(s)>2))\r\n",
      "    #                 else [TOK_SENT,s.lower()] if (s.istitle() and re_word.search(prev))\r\n",
      "                    else [s.lower()])\r\n",
      "    #         if re_nonsp.search(s): prev = s\r\n",
      "        return ''.join(res)\r\n",
      "\r\n",
      "    def proc_text(self, s):\r\n",
      "        s = self.re_rep.sub(Tokenizer.replace_rep, s)\r\n",
      "        s = self.re_word_rep.sub(Tokenizer.replace_wrep, s)\r\n",
      "        s = Tokenizer.do_caps(s)\r\n",
      "        s = re.sub(r'([/#])', r' \\1 ', s)\r\n",
      "        s = re.sub(' {2,}', ' ', s)\r\n",
      "        return self.spacy_tok(s)\r\n",
      "\r\n",
      "    @staticmethod\r\n",
      "    def proc_all(ss, lang):\r\n",
      "        tok = Tokenizer(lang)\r\n",
      "        return [tok.proc_text(s) for s in ss]\r\n",
      "\r\n",
      "    @staticmethod\r\n",
      "    def proc_all_mp(ss, lang='en', ncpus = None):\r\n",
      "        ncpus = ncpus or num_cpus()//2\r\n",
      "        with ProcessPoolExecutor(ncpus) as e:\r\n",
      "            return sum(e.map(Tokenizer.proc_all, ss, [lang]*len(ss)), [])\r\n",
      "\r\n",
      "\r\n",
      "class TextDataset(Dataset):\r\n",
      "    def __init__(self, x, y, backwards=False, sos=None, eos=None):\r\n",
      "        self.x,self.y,self.backwards,self.sos,self.eos = x,y,backwards,sos,eos\r\n",
      "\r\n",
      "    def __getitem__(self, idx):\r\n",
      "        x = self.x[idx]\r\n",
      "        if self.backwards: x = list(reversed(x))\r\n",
      "        if self.eos is not None: x = x + [self.eos]\r\n",
      "        if self.sos is not None: x = [self.sos]+x\r\n",
      "        return np.array(x),self.y[idx]\r\n",
      "\r\n",
      "    def __len__(self): return len(self.x)\r\n",
      "\r\n",
      "\r\n",
      "class SortSampler(Sampler):\r\n",
      "    def __init__(self, data_source, key): self.data_source,self.key = data_source,key\r\n",
      "    def __len__(self): return len(self.data_source)\r\n",
      "    def __iter__(self):\r\n",
      "        return iter(sorted(range(len(self.data_source)), key=self.key, reverse=True))\r\n",
      "\r\n",
      "\r\n",
      "class SortishSampler(Sampler):\r\n",
      "    \"\"\"Returns an iterator that traverses the the data in randomly ordered batches that are approximately the same size.\r\n",
      "    The max key size batch is always returned in the first call because of pytorch cuda memory allocation sequencing.\r\n",
      "    Without that max key returned first multiple buffers may be allocated when the first created isn't large enough\r\n",
      "    to hold the next in the sequence.\r\n",
      "    \"\"\"\r\n",
      "    def __init__(self, data_source, key, bs):\r\n",
      "        self.data_source,self.key,self.bs = data_source,key,bs\r\n",
      "\r\n",
      "    def __len__(self): return len(self.data_source)\r\n",
      "\r\n",
      "    def __iter__(self):\r\n",
      "        idxs = np.random.permutation(len(self.data_source))\r\n",
      "        sz = self.bs*50\r\n",
      "        ck_idx = [idxs[i:i+sz] for i in range(0, len(idxs), sz)]\r\n",
      "        sort_idx = np.concatenate([sorted(s, key=self.key, reverse=True) for s in ck_idx])\r\n",
      "        sz = self.bs\r\n",
      "        ck_idx = [sort_idx[i:i+sz] for i in range(0, len(sort_idx), sz)]\r\n",
      "        max_ck = np.argmax([ck[0] for ck in ck_idx])  # find the chunk with the largest key,\r\n",
      "        ck_idx[0],ck_idx[max_ck] = ck_idx[max_ck],ck_idx[0]  # then make sure it goes first.\r\n",
      "        sort_idx = np.concatenate(np.random.permutation(ck_idx[1:]))\r\n",
      "        sort_idx = np.concatenate((ck_idx[0], sort_idx))\r\n",
      "        return iter(sort_idx)\r\n",
      "\r\n",
      "\r\n",
      "class LanguageModelLoader():\r\n",
      "    \"\"\" Returns a language model iterator that iterates through batches that are of length N(bptt,5)\r\n",
      "    The first batch returned is always bptt+25; the max possible width.  This is done because of they way that pytorch\r\n",
      "    allocates cuda memory in order to prevent multiple buffers from being created as the batch width grows.\r\n",
      "    \"\"\"\r\n",
      "    def __init__(self, nums, bs, bptt, backwards=False):\r\n",
      "        self.bs,self.bptt,self.backwards = bs,bptt,backwards\r\n",
      "        self.data = self.batchify(nums)\r\n",
      "        self.i,self.iter = 0,0\r\n",
      "        self.n = len(self.data)\r\n",
      "\r\n",
      "    def __iter__(self):\r\n",
      "        self.i,self.iter = 0,0\r\n",
      "        while self.i < self.n-1 and self.iter<len(self):\r\n",
      "            if self.i == 0:\r\n",
      "                seq_len = self.bptt + 5 * 5\r\n",
      "            else:\r\n",
      "                bptt = self.bptt if np.random.random() < 0.95 else self.bptt / 2.\r\n",
      "                seq_len = max(5, int(np.random.normal(bptt, 5)))\r\n",
      "            res = self.get_batch(self.i, seq_len)\r\n",
      "            self.i += seq_len\r\n",
      "            self.iter += 1\r\n",
      "            yield res\r\n",
      "\r\n",
      "    def __len__(self): return self.n // self.bptt - 1\r\n",
      "\r\n",
      "    def batchify(self, data):\r\n",
      "        nb = data.shape[0] // self.bs\r\n",
      "        data = np.array(data[:nb*self.bs])\r\n",
      "        data = data.reshape(self.bs, -1).T\r\n",
      "        if self.backwards: data=data[::-1]\r\n",
      "        return T(data)\r\n",
      "\r\n",
      "    def get_batch(self, i, seq_len):\r\n",
      "        source = self.data\r\n",
      "        seq_len = min(seq_len, len(source) - 1 - i)\r\n",
      "        return source[i:i+seq_len], source[i+1:i+1+seq_len].view(-1)\r\n",
      "\r\n",
      "\r\n",
      "class LanguageModel(BasicModel):\r\n",
      "    def get_layer_groups(self):\r\n",
      "        m = self.model[0]\r\n",
      "        return [*zip(m.rnns, m.dropouths), (self.model[1], m.dropouti)]\r\n",
      "\r\n",
      "\r\n",
      "class LanguageModelData():\r\n",
      "    def __init__(self, path, pad_idx, n_tok, trn_dl, val_dl, test_dl=None, **kwargs):\r\n",
      "        self.path,self.pad_idx,self.n_tok = path,pad_idx,n_tok\r\n",
      "        self.trn_dl,self.val_dl,self.test_dl = trn_dl,val_dl,test_dl\r\n",
      "\r\n",
      "    def get_model(self, opt_fn, emb_sz, n_hid, n_layers, **kwargs):\r\n",
      "        m = get_language_model(self.n_tok, emb_sz, n_hid, n_layers, self.pad_idx, **kwargs)\r\n",
      "        model = LanguageModel(to_gpu(m))\r\n",
      "        return RNN_Learner(self, model, opt_fn=opt_fn)\r\n",
      "\r\n",
      "\r\n",
      "class RNN_Learner(Learner):\r\n",
      "    def __init__(self, data, models, **kwargs):\r\n",
      "        super().__init__(data, models, **kwargs)\r\n",
      "\r\n",
      "    def _get_crit(self, data): return F.cross_entropy\r\n",
      "\r\n",
      "    def save_encoder(self, name): save_model(self.model[0], self.get_model_path(name))\r\n",
      "    def load_encoder(self, name): load_model(self.model[0], self.get_model_path(name))\r\n",
      "\r\n",
      "\r\n",
      "class TextModel(BasicModel):\r\n",
      "    def get_layer_groups(self):\r\n",
      "        m = self.model[0]\r\n",
      "        return [(m.encoder, m.dropouti), *zip(m.rnns, m.dropouths), (self.model[1])]\r\n",
      "\r\n"
     ]
    }
   ],
   "source": [
    "!cat ~/fastai/courses/dl2/fastai/text.py"
   ]
  },
  {
   "cell_type": "code",
   "execution_count": 42,
   "metadata": {},
   "outputs": [],
   "source": [
    "df_trn = pd.read_csv(LM_PATH/'train.csv', header=None, chunksize=chunksize)\n",
    "df_val = pd.read_csv(LM_PATH/'test.csv', header=None, chunksize=chunksize)"
   ]
  },
  {
   "cell_type": "code",
   "execution_count": 43,
   "metadata": {
    "scrolled": false
   },
   "outputs": [
    {
     "name": "stdout",
     "output_type": "stream",
     "text": [
      "0\n",
      "\n",
      "\u001b[93m    Warning: no model found for 'pt'\u001b[0m\n",
      "\n",
      "    Only loading the 'pt' tokenizer.\n",
      "\n",
      "\n",
      "\u001b[93m    Warning: no model found for 'pt'\u001b[0m\n",
      "\u001b[93m    Warning: no model found for 'pt'\u001b[0m\n",
      "\u001b[93m    Warning: no model found for 'pt'\u001b[0m\n",
      "\u001b[93m    Warning: no model found for 'pt'\u001b[0m\n",
      "\n",
      "\n",
      "\n",
      "\n",
      "    Only loading the 'pt' tokenizer.\n",
      "\n",
      "    Only loading the 'pt' tokenizer.\n",
      "\n",
      "\n",
      "    Only loading the 'pt' tokenizer.\n",
      "\n",
      "\n",
      "\n",
      "    Only loading the 'pt' tokenizer.\n",
      "\n",
      "\n",
      "\u001b[93m    Warning: no model found for 'pt'\u001b[0m\n",
      "\n",
      "\n",
      "    Only loading the 'pt' tokenizer.\n",
      "\n",
      "\u001b[93m    Warning: no model found for 'pt'\u001b[0m\n",
      "\n",
      "\n",
      "    Only loading the 'pt' tokenizer.\n",
      "\n",
      "\u001b[93m    Warning: no model found for 'pt'\u001b[0m\n",
      "\u001b[93m    Warning: no model found for 'pt'\u001b[0m\n",
      "\n",
      "\n",
      "    Only loading the 'pt' tokenizer.\n",
      "\n",
      "    Only loading the 'pt' tokenizer.\n",
      "\n",
      "\n",
      "0\n",
      "\n",
      "\u001b[93m    Warning: no model found for 'pt'\u001b[0m\n",
      "\n",
      "    Only loading the 'pt' tokenizer.\n",
      "\n",
      "\n",
      "\u001b[93m    Warning: no model found for 'pt'\u001b[0m\n",
      "\u001b[93m    Warning: no model found for 'pt'\u001b[0m\n",
      "\n",
      "    Only loading the 'pt' tokenizer.\n",
      "\n",
      "\n",
      "\n",
      "    Only loading the 'pt' tokenizer.\n",
      "\n",
      "\n",
      "\u001b[93m    Warning: no model found for 'pt'\u001b[0m\n",
      "\n",
      "    Only loading the 'pt' tokenizer.\n",
      "\n",
      "\n",
      "\u001b[93m    Warning: no model found for 'pt'\u001b[0m\n",
      "\n",
      "    Only loading the 'pt' tokenizer.\n",
      "\n",
      "\n",
      "\u001b[93m    Warning: no model found for 'pt'\u001b[0m\n",
      "\n",
      "    Only loading the 'pt' tokenizer.\n",
      "\n",
      "\n",
      "\u001b[93m    Warning: no model found for 'pt'\u001b[0m\n",
      "\n",
      "    Only loading the 'pt' tokenizer.\n",
      "\n",
      "\n",
      "\u001b[93m    Warning: no model found for 'pt'\u001b[0m\n",
      "\n",
      "\n",
      "\u001b[93m    Warning: no model found for 'pt'\u001b[0m\n",
      "    Only loading the 'pt' tokenizer.\n",
      "\n",
      "\n",
      "    Only loading the 'pt' tokenizer.\n",
      "\n"
     ]
    }
   ],
   "source": [
    "tok_trn, trn_labels = get_all(df_trn, 1)\n",
    "tok_val, val_labels = get_all(df_val, 1)"
   ]
  },
  {
   "cell_type": "code",
   "execution_count": 44,
   "metadata": {},
   "outputs": [],
   "source": [
    "(LM_PATH/'tmp').mkdir(exist_ok=True)"
   ]
  },
  {
   "cell_type": "code",
   "execution_count": 45,
   "metadata": {},
   "outputs": [],
   "source": [
    "np.save(LM_PATH/'tmp'/'tok_trn.npy', tok_trn)\n",
    "np.save(LM_PATH/'tmp'/'tok_val.npy', tok_val)"
   ]
  },
  {
   "cell_type": "code",
   "execution_count": 46,
   "metadata": {},
   "outputs": [],
   "source": [
    "tok_trn = np.load(LM_PATH/'tmp'/'tok_trn.npy')\n",
    "tok_val = np.load(LM_PATH/'tmp'/'tok_val.npy')"
   ]
  },
  {
   "cell_type": "code",
   "execution_count": 47,
   "metadata": {
    "scrolled": true
   },
   "outputs": [
    {
     "data": {
      "text/plain": [
       "[('de', 38627),\n",
       " (',', 36991),\n",
       " ('a', 28455),\n",
       " ('.', 17706),\n",
       " ('o', 15294),\n",
       " ('da', 14275),\n",
       " ('do', 12986),\n",
       " ('1', 12050),\n",
       " ('\\n', 11932),\n",
       " ('xbos', 11932),\n",
       " ('xfld', 11932),\n",
       " ('e', 10487),\n",
       " ('que', 8291),\n",
       " ('em', 7128),\n",
       " ('não', 7028),\n",
       " ('/', 6573),\n",
       " ('para', 5930),\n",
       " ('os', 5402),\n",
       " ('t_up', 5344),\n",
       " ('no', 4913),\n",
       " ('se', 4421),\n",
       " ('ou', 4377),\n",
       " ('com', 4376),\n",
       " ('à', 4297),\n",
       " ('dos', 4173)]"
      ]
     },
     "execution_count": 47,
     "metadata": {},
     "output_type": "execute_result"
    }
   ],
   "source": [
    "freq = Counter(p for o in tok_trn for p in o)\n",
    "freq.most_common(25)"
   ]
  },
  {
   "cell_type": "markdown",
   "metadata": {},
   "source": [
    "The *vocab* is the **unique set of all tokens** in our dataset. The vocab provides us a way for us to simply replace each word in our datasets with a unique integer called an index.\n",
    "\n",
    "In a large corpus of data one might find some rare words which are only used a few times in the whole dataset. We discard such rare words and avoid trying to learn meaningful patterns out of them.\n",
    "\n",
    "Here we have set a minimum frequency of occurence to 2 times. It has been observed by NLP practicioners that a maximum vocab of 60k usually yields good results for classification tasks. So we set maz_vocab to 60000."
   ]
  },
  {
   "cell_type": "code",
   "execution_count": 48,
   "metadata": {},
   "outputs": [],
   "source": [
    "max_vocab = 60000\n",
    "min_freq = 2"
   ]
  },
  {
   "cell_type": "code",
   "execution_count": 49,
   "metadata": {},
   "outputs": [],
   "source": [
    "itos = [o for o,c in freq.most_common(max_vocab) if c>min_freq]\n",
    "itos.insert(0, '_pad_')\n",
    "itos.insert(0, '_unk_')"
   ]
  },
  {
   "cell_type": "markdown",
   "metadata": {},
   "source": [
    "We create a reverse mapping called stoi which is useful to lookup the index of a given token. stoi also has the same number of elements as itos. We use a high performance container called [collections.defaultdict](https://docs.python.org/2/library/collections.html#collections.defaultdict) to store our stoi mapping."
   ]
  },
  {
   "cell_type": "code",
   "execution_count": 50,
   "metadata": {},
   "outputs": [
    {
     "data": {
      "text/plain": [
       "8290"
      ]
     },
     "execution_count": 50,
     "metadata": {},
     "output_type": "execute_result"
    }
   ],
   "source": [
    "stoi = collections.defaultdict(lambda:0, {v:k for k,v in enumerate(itos)})\n",
    "len(itos)"
   ]
  },
  {
   "cell_type": "code",
   "execution_count": 51,
   "metadata": {},
   "outputs": [],
   "source": [
    "trn_lm = np.array([[stoi[o] for o in p] for p in tok_trn])\n",
    "val_lm = np.array([[stoi[o] for o in p] for p in tok_val])"
   ]
  },
  {
   "cell_type": "code",
   "execution_count": 52,
   "metadata": {},
   "outputs": [],
   "source": [
    "np.save(LM_PATH/'tmp'/'trn_ids.npy', trn_lm)\n",
    "np.save(LM_PATH/'tmp'/'val_ids.npy', val_lm)\n",
    "pickle.dump(itos, open(LM_PATH/'tmp'/'itos.pkl', 'wb'))"
   ]
  },
  {
   "cell_type": "code",
   "execution_count": 53,
   "metadata": {},
   "outputs": [],
   "source": [
    "trn_lm = np.load(LM_PATH/'tmp'/'trn_ids.npy')\n",
    "val_lm = np.load(LM_PATH/'tmp'/'val_ids.npy')\n",
    "itos = pickle.load(open(LM_PATH/'tmp'/'itos.pkl', 'rb'))"
   ]
  },
  {
   "cell_type": "code",
   "execution_count": 54,
   "metadata": {},
   "outputs": [
    {
     "data": {
      "text/plain": [
       "(8290, 11932)"
      ]
     },
     "execution_count": 54,
     "metadata": {},
     "output_type": "execute_result"
    }
   ],
   "source": [
    "vs=len(itos)\n",
    "vs,len(trn_lm)"
   ]
  },
  {
   "cell_type": "code",
   "execution_count": 55,
   "metadata": {},
   "outputs": [
    {
     "data": {
      "text/plain": [
       "'\\n xbos xfld 1 quando deliberação do t_up tcu atingir interesse subjetivo de servidores de categoria profissional representada por sindicato , deve ser autorizada a habilitação da entidade representativa nos autos como interessado , para o exercício de prerrogativas processuais . \\n xbos xfld 1 o teor do memorial previsto no art . 160 , § 3º , do regimento interno do t_up tcu pode ser considerado ou ignorado pelo relator , a seu exclusivo juízo , sem que a negativa represente prejuízo à defesa ou nulidade da deliberação proferida , porque essa peça , de caráter meramente informativo , não se confunde com aquela prevista no art . 454 , § 3º , do t_up cpc . \\n xbos xfld 1 caso comprovado que o ente federado se beneficiou pela aplicação irregular dos recursos , o t_up tcu , a o proferir o julgamento de mérito , deverá condenar diretamente o estado , o distrito federal ou o município , ou a entidade de sua administração , a o pagamento do débito . \\n xbos xfld 1 as microempresas , a o prestarem serviços que envolvam cessão de mão de obra , não podem valer - se dos benefícios tributários inerentes a o simples nacional , em razão da vedação contida no art . 17 , inciso t_up xii , da lei complementar 123 / 2006 . suas propostas apresentadas em licitações , portanto , devem computar as contribuições para o < i>“sistema s ” < / i > e os tributos federais . \\n xbos xfld 1 a citação efetuada a o gestor , por via editalícia , após seu falecimento , não se configura válida , sendo necessário , n esse caso , a citação do espólio , por meio de seu inventariante , ou dos herdeiros ou legítimos sucessores .'"
      ]
     },
     "execution_count": 55,
     "metadata": {},
     "output_type": "execute_result"
    }
   ],
   "source": [
    "' '.join(tok_trn[0]+tok_trn[1]+tok_trn[2]+tok_trn[3]+tok_trn[4])"
   ]
  },
  {
   "cell_type": "code",
   "execution_count": 56,
   "metadata": {},
   "outputs": [
    {
     "data": {
      "text/plain": [
       "'[10, 11, 12, 9, 48, 395, 8, 20, 38, 3840, 226, 1499, 2, 95, 2, 1158, 305, 0, 29, 5709, 3, 39, 33, 2186, 4, 332, 7, 121, 7123, 47, 319, 43, 465, 3, 18, 6, 94, 2, 3647, 1434, 5] [10, 11, 12, 9, 6, 1673, 8, 3306, 314, 21, 32, 5, 3051, 3, 53, 192, 3, 8, 462, 298, 8, 20, 38, 63, 33, 677, 23, 4518, 40, 901, 3, 4, 100, 1927, 511, 3, 60, 14, 4, 1366, 3841, 228, 25, 203, 23, 796, 7, 395, 1612, 3, 1517, 144, 2840, 3, 2, 188, 987, 4855, 3, 16, 22, 1613, 24, 760, 132, 21, 32, 5, 0, 3, 53, 192, 3, 8, 20, 1548, 5] [10, 11, 12, 9, 61, 889, 14, 6, 303, 950, 22, 2762, 41, 58, 165, 26, 42, 3, 6, 20, 38, 3, 4, 6, 6295, 6, 126, 2, 344, 3, 640, 3842, 658, 6, 523, 3, 6, 687, 51, 23, 6, 529, 3, 23, 4, 121, 2, 52, 44, 3, 4, 6, 72, 8, 79, 5] [10, 11, 12, 9, 36, 2510, 3, 4, 6, 6296, 46, 14, 2022, 1240, 2, 823, 2, 137, 3, 16, 234, 3477, 30, 22, 26, 454, 3052, 1319, 4, 6, 786, 235, 3, 15, 218, 7, 824, 1674, 21, 32, 5, 1734, 3, 55, 20, 4856, 3, 7, 28, 315, 1675, 17, 705, 5, 271, 289, 1892, 15, 208, 3, 595, 3, 56, 2946, 36, 988, 18, 6, 130, 0, 89, 494, 130, 17, 82, 139, 13, 19, 1708, 177, 5]'"
      ]
     },
     "execution_count": 56,
     "metadata": {},
     "output_type": "execute_result"
    }
   ],
   "source": [
    "' '.join(str(o) for o in trn_lm[0:4])"
   ]
  },
  {
   "cell_type": "markdown",
   "metadata": {},
   "source": [
    "## Wikipedia model: ptwiki_nandobr conversion"
   ]
  },
  {
   "cell_type": "markdown",
   "metadata": {},
   "source": [
    "The pre-trained wiki LM weights have an embedding size of 400, 1150 hidden units and just 3 layers. We need to match these values  with the target TCU LM so that the weights can be loaded up."
   ]
  },
  {
   "cell_type": "code",
   "execution_count": 57,
   "metadata": {},
   "outputs": [],
   "source": [
    "em_sz,nh,nl = 400,1150,3"
   ]
  },
  {
   "cell_type": "code",
   "execution_count": 58,
   "metadata": {},
   "outputs": [],
   "source": [
    "#PRE_PATH = Path('data/wiki/pt/models/')\n",
    "#PRE_LM_PATH = PRE_PATH/'ptwiki_nandobrbest.h5'\n",
    "\n",
    "PRE_PATH = Path('/home/paperspace/fastai/courses/dl2/lm/pt/data/models/')\n",
    "PRE_LM_PATH = PRE_PATH/'lm_PT_1_cycle_10_epochs_from_scratch.h5'"
   ]
  },
  {
   "cell_type": "code",
   "execution_count": 59,
   "metadata": {},
   "outputs": [
    {
     "data": {
      "text/plain": [
       "PosixPath('/home/paperspace/fastai/courses/dl2/lm/pt/data/models/lm_PT_1_cycle_10_epochs_from_scratch.h5')"
      ]
     },
     "execution_count": 59,
     "metadata": {},
     "output_type": "execute_result"
    }
   ],
   "source": [
    "PRE_LM_PATH"
   ]
  },
  {
   "cell_type": "code",
   "execution_count": 60,
   "metadata": {},
   "outputs": [],
   "source": [
    "wgts = torch.load(PRE_LM_PATH, map_location=lambda storage, loc: storage)"
   ]
  },
  {
   "cell_type": "markdown",
   "metadata": {},
   "source": [
    "We calculate the mean of the layer0 encoder weights. This can be used to assign weights to unknown tokens when we transfer to target TCU LM."
   ]
  },
  {
   "cell_type": "code",
   "execution_count": 61,
   "metadata": {},
   "outputs": [],
   "source": [
    "enc_wgts = to_np(wgts['0.encoder.weight'])\n",
    "row_m = enc_wgts.mean(0)"
   ]
  },
  {
   "cell_type": "code",
   "execution_count": 62,
   "metadata": {},
   "outputs": [],
   "source": [
    "itos2 = pickle.load(Path('/home/paperspace/fastai/courses/dl2/lm/pt/pt_lm/tmp/itos.pkl').open('rb'))\n",
    "stoi2 = collections.defaultdict(lambda:-1, {v:k for k,v in enumerate(itos2)})"
   ]
  },
  {
   "cell_type": "markdown",
   "metadata": {},
   "source": [
    "Before we try to transfer the knowledge from wikitext to the TCU LM, we match up the vocab words and their indexes. \n",
    "We use the defaultdict container once again, to assign mean weights to unknown Senado tokens that do not exist in ptwiki_nandobr."
   ]
  },
  {
   "cell_type": "code",
   "execution_count": 63,
   "metadata": {},
   "outputs": [],
   "source": [
    "new_w = np.zeros((vs, em_sz), dtype=np.float32)\n",
    "for i,w in enumerate(itos):\n",
    "    r = stoi2[w]\n",
    "    new_w[i] = enc_wgts[r] if r>=0 else row_m"
   ]
  },
  {
   "cell_type": "markdown",
   "metadata": {},
   "source": [
    "We now overwrite the weights into the wgts odict.\n",
    "The decoder module, which we will explore in detail is also loaded with the same weights due to an idea called weight tying."
   ]
  },
  {
   "cell_type": "code",
   "execution_count": 64,
   "metadata": {},
   "outputs": [],
   "source": [
    "wgts['0.encoder.weight'] = T(new_w)\n",
    "wgts['0.encoder_with_dropout.embed.weight'] = T(np.copy(new_w))\n",
    "wgts['1.decoder.weight'] = T(np.copy(new_w))"
   ]
  },
  {
   "cell_type": "markdown",
   "metadata": {},
   "source": [
    "Now that we have the weights prepared, we are ready to create and start training our new TCU language pytorch model!"
   ]
  },
  {
   "cell_type": "markdown",
   "metadata": {},
   "source": [
    "## TCU Language model"
   ]
  },
  {
   "cell_type": "markdown",
   "metadata": {},
   "source": [
    "It is fairly straightforward to create a new language model using the fastai library. Like every other lesson, our model will have a backbone and a custom head. The backbone in our case is the Senado LM pre-trained with wikitext and the custom head is a linear classifier. In this section we will focus on the backbone LM and the next section will talk about the classifier custom head.\n",
    "\n",
    "bptt (*also known traditionally in NLP LM as ngrams*) in fastai LMs is approximated to a std. deviation around 70, by perturbing the sequence length on a per-batch basis. This is akin to shuffling our data in computer vision, only that in NLP we cannot shuffle inputs and we have to maintain statefulness. \n",
    "\n",
    "Since we are predicting words using ngrams, we want our next batch to line up with the end-points of the previous mini-batch's items. batch-size is constant and but the fastai library expands and contracts bptt each mini-batch using a clever stochastic implementation of a batch. (original credits attributed to [Smerity](https://twitter.com/jeremyphoward/status/980227258395770882))"
   ]
  },
  {
   "cell_type": "code",
   "execution_count": 65,
   "metadata": {},
   "outputs": [],
   "source": [
    "wd=1e-7\n",
    "bptt=70\n",
    "bs=52\n",
    "opt_fn = partial(optim.SGD, momentum=0.9)"
   ]
  },
  {
   "cell_type": "markdown",
   "metadata": {},
   "source": [
    "The goal of the LM is to learn to predict a word/token given a preceeding set of words(tokens). We take all the movie reviews in both the 90k training set and 10k validation set and concatenate them to form long strings of tokens. In fastai, we use the `LanguageModelLoader` to create a data loader which makes it easy to create and use bptt sized mini batches. The  `LanguageModelLoader` takes a concatenated string of tokens and returns a loader.\n",
    "\n",
    "We have a special modeldata object class for LMs called `LanguageModelData` to which we can pass the training and validation loaders and get in return the model itself."
   ]
  },
  {
   "cell_type": "code",
   "execution_count": 66,
   "metadata": {},
   "outputs": [],
   "source": [
    "trn_dl = LanguageModelLoader(np.concatenate(trn_lm), bs, bptt)\n",
    "val_dl = LanguageModelLoader(np.concatenate(val_lm), bs, bptt)\n",
    "md = LanguageModelData(PATH, 1, vs, trn_dl, val_dl, bs=bs, bptt=bptt)"
   ]
  },
  {
   "cell_type": "markdown",
   "metadata": {},
   "source": [
    "We setup the dropouts for the model - these values have been chosen after experimentation. If you need to update them for custom LMs, you can change the weighting factor (0.7 here) based on the amount of data you have. For more data, you can reduce dropout factor and for small datasets, you can reduce overfitting by choosing a higher dropout factor. *No other dropout value requires tuning*"
   ]
  },
  {
   "cell_type": "code",
   "execution_count": 68,
   "metadata": {},
   "outputs": [],
   "source": [
    "drops = np.array([0.25, 0.1, 0.2, 0.02, 0.15])*0.7"
   ]
  },
  {
   "cell_type": "markdown",
   "metadata": {},
   "source": [
    "We first tune the last embedding layer so that the missing tokens initialized with mean weights get tuned properly. So we freeze everything except the last layer.\n",
    "\n",
    "We also keep track of the *accuracy* metric."
   ]
  },
  {
   "cell_type": "code",
   "execution_count": 90,
   "metadata": {},
   "outputs": [],
   "source": [
    "learner= md.get_model(opt_fn, em_sz, nh, nl, \n",
    "    dropouti=drops[0], dropout=drops[1], wdrop=drops[2], dropoute=drops[3], dropouth=drops[4])\n",
    "\n",
    "learner.metrics = [accuracy]\n",
    "learner.freeze_to(-1)"
   ]
  },
  {
   "cell_type": "code",
   "execution_count": 91,
   "metadata": {},
   "outputs": [],
   "source": [
    "learner.model.load_state_dict(wgts)"
   ]
  },
  {
   "cell_type": "markdown",
   "metadata": {},
   "source": [
    "We set learning rates and fit our IMDB LM. We first run one epoch to tune the last layer which contains the embedding weights. This should help the missing tokens in the wikitext103 learn better weights."
   ]
  },
  {
   "cell_type": "code",
   "execution_count": 92,
   "metadata": {},
   "outputs": [],
   "source": [
    "lr=1e-3\n",
    "lrs = lr"
   ]
  },
  {
   "cell_type": "code",
   "execution_count": 93,
   "metadata": {},
   "outputs": [
    {
     "data": {
      "application/vnd.jupyter.widget-view+json": {
       "model_id": "a1e85cc848f84cafa753c464615765dc",
       "version_major": 2,
       "version_minor": 0
      },
      "text/html": [
       "<p>Failed to display Jupyter Widget of type <code>HBox</code>.</p>\n",
       "<p>\n",
       "  If you're reading this message in the Jupyter Notebook or JupyterLab Notebook, it may mean\n",
       "  that the widgets JavaScript is still loading. If this message persists, it\n",
       "  likely means that the widgets JavaScript library is either not installed or\n",
       "  not enabled. See the <a href=\"https://ipywidgets.readthedocs.io/en/stable/user_install.html\">Jupyter\n",
       "  Widgets Documentation</a> for setup instructions.\n",
       "</p>\n",
       "<p>\n",
       "  If you're reading this message in another frontend (for example, a static\n",
       "  rendering on GitHub or <a href=\"https://nbviewer.jupyter.org/\">NBViewer</a>),\n",
       "  it may mean that your frontend doesn't currently support widgets.\n",
       "</p>\n"
      ],
      "text/plain": [
       "HBox(children=(IntProgress(value=0, description='Epoch', max=8), HTML(value='')))"
      ]
     },
     "metadata": {},
     "output_type": "display_data"
    },
    {
     "name": "stdout",
     "output_type": "stream",
     "text": [
      " 69%|██████▉   | 126/182 [00:28<00:12,  4.45it/s, loss=3.93]"
     ]
    }
   ],
   "source": [
    "learner.lr_find2(num_it=1400)"
   ]
  },
  {
   "cell_type": "code",
   "execution_count": 94,
   "metadata": {},
   "outputs": [
    {
     "data": {
      "image/png": "[encoded data removed]",
      "text/plain": [
       "<matplotlib.figure.Figure at 0x7fbc316420b8>"
      ]
     },
     "metadata": {},
     "output_type": "display_data"
    }
   ],
   "source": [
    "learner.sched.plot()"
   ]
  },
  {
   "cell_type": "code",
   "execution_count": 97,
   "metadata": {},
   "outputs": [],
   "source": [
    "lr = 8"
   ]
  },
  {
   "cell_type": "code",
   "execution_count": 98,
   "metadata": {},
   "outputs": [
    {
     "data": {
      "application/vnd.jupyter.widget-view+json": {
       "model_id": "9fc5cd72f7704327a67b2bc64f8c6c02",
       "version_major": 2,
       "version_minor": 0
      },
      "text/html": [
       "<p>Failed to display Jupyter Widget of type <code>HBox</code>.</p>\n",
       "<p>\n",
       "  If you're reading this message in the Jupyter Notebook or JupyterLab Notebook, it may mean\n",
       "  that the widgets JavaScript is still loading. If this message persists, it\n",
       "  likely means that the widgets JavaScript library is either not installed or\n",
       "  not enabled. See the <a href=\"https://ipywidgets.readthedocs.io/en/stable/user_install.html\">Jupyter\n",
       "  Widgets Documentation</a> for setup instructions.\n",
       "</p>\n",
       "<p>\n",
       "  If you're reading this message in another frontend (for example, a static\n",
       "  rendering on GitHub or <a href=\"https://nbviewer.jupyter.org/\">NBViewer</a>),\n",
       "  it may mean that your frontend doesn't currently support widgets.\n",
       "</p>\n"
      ],
      "text/plain": [
       "HBox(children=(IntProgress(value=0, description='Epoch', max=1), HTML(value='')))"
      ]
     },
     "metadata": {},
     "output_type": "display_data"
    },
    {
     "name": "stdout",
     "output_type": "stream",
     "text": [
      "  4%|▍         | 8/182 [00:01<00:27,  6.25it/s, loss=5.32]  \n",
      "  5%|▍         | 9/182 [00:01<00:27,  6.31it/s, loss=5.28]"
     ]
    },
    {
     "name": "stderr",
     "output_type": "stream",
     "text": [
      "Exception in thread Thread-19:\n",
      "Traceback (most recent call last):\n",
      "  File \"/home/paperspace/anaconda3/envs/fastai/lib/python3.6/threading.py\", line 916, in _bootstrap_inner\n",
      "    self.run()\n",
      "  File \"/home/paperspace/anaconda3/envs/fastai/lib/python3.6/site-packages/tqdm/_tqdm.py\", line 144, in run\n",
      "    for instance in self.tqdm_cls._instances:\n",
      "  File \"/home/paperspace/anaconda3/envs/fastai/lib/python3.6/_weakrefset.py\", line 60, in __iter__\n",
      "    for itemref in self.data:\n",
      "RuntimeError: Set changed size during iteration\n",
      "\n"
     ]
    },
    {
     "name": "stdout",
     "output_type": "stream",
     "text": [
      "epoch      trn_loss   val_loss   accuracy                   \n",
      "    0      3.975717   3.529724   0.348647  \n",
      "\n",
      "CPU times: user 23.5 s, sys: 4.57 s, total: 28 s\n",
      "Wall time: 27.9 s\n"
     ]
    },
    {
     "data": {
      "text/plain": [
       "[array([ 3.52972]), 0.34864699738869803]"
      ]
     },
     "execution_count": 98,
     "metadata": {},
     "output_type": "execute_result"
    }
   ],
   "source": [
    "%%time\n",
    "learner.fit(lr, 1, use_clr_beta=(10,10,0.95,0.85), cycle_len=1)\n"
   ]
  },
  {
   "cell_type": "markdown",
   "metadata": {},
   "source": [
    "Note that we print out accuracy and keep track of how often we end up predicting the target word correctly. While this is a good metric to check, it is not part of our loss function as it can get quite bumpy. We only minimize cross-entropy loss in the LM.\n",
    "\n",
    "The exponent of the cross-entropy loss is called the perplexity of the LM. (low perplexity is better)."
   ]
  },
  {
   "cell_type": "code",
   "execution_count": 99,
   "metadata": {},
   "outputs": [],
   "source": [
    "learner.save('lm_last_ft_1cycle')"
   ]
  },
  {
   "cell_type": "code",
   "execution_count": 102,
   "metadata": {},
   "outputs": [],
   "source": [
    "learner.load('lm_last_ft_1cycle')"
   ]
  },
  {
   "cell_type": "code",
   "execution_count": 103,
   "metadata": {},
   "outputs": [],
   "source": [
    "learner.unfreeze()"
   ]
  },
  {
   "cell_type": "code",
   "execution_count": 104,
   "metadata": {
    "scrolled": false
   },
   "outputs": [
    {
     "data": {
      "application/vnd.jupyter.widget-view+json": {
       "model_id": "f094be5e203b43fe8352c9c79b890152",
       "version_major": 2,
       "version_minor": 0
      },
      "text/html": [
       "<p>Failed to display Jupyter Widget of type <code>HBox</code>.</p>\n",
       "<p>\n",
       "  If you're reading this message in the Jupyter Notebook or JupyterLab Notebook, it may mean\n",
       "  that the widgets JavaScript is still loading. If this message persists, it\n",
       "  likely means that the widgets JavaScript library is either not installed or\n",
       "  not enabled. See the <a href=\"https://ipywidgets.readthedocs.io/en/stable/user_install.html\">Jupyter\n",
       "  Widgets Documentation</a> for setup instructions.\n",
       "</p>\n",
       "<p>\n",
       "  If you're reading this message in another frontend (for example, a static\n",
       "  rendering on GitHub or <a href=\"https://nbviewer.jupyter.org/\">NBViewer</a>),\n",
       "  it may mean that your frontend doesn't currently support widgets.\n",
       "</p>\n"
      ],
      "text/plain": [
       "HBox(children=(IntProgress(value=0, description='Epoch', max=15), HTML(value='')))"
      ]
     },
     "metadata": {},
     "output_type": "display_data"
    },
    {
     "name": "stdout",
     "output_type": "stream",
     "text": [
      "epoch      trn_loss   val_loss   accuracy                   \n",
      "    0      3.540647   3.214119   0.38048   \n",
      "    1      3.284075   3.023267   0.403596                   \n",
      "    2      3.084933   2.895162   0.41856                    \n",
      "    3      2.924411   2.794134   0.429844                   \n",
      "    4      2.784499   2.722496   0.441786                   \n",
      "    5      2.697022   2.668724   0.447352                   \n",
      "    6      2.578886   2.627656   0.455371                   \n",
      "    7      2.483772   2.603563   0.460834                   \n",
      "    8      2.434822   2.554955   0.470049                   \n",
      "    9      2.324437   2.540149   0.474669                   \n",
      "    10     2.244621   2.515474   0.479029                   \n",
      "    11     2.15786    2.497137   0.485367                   \n",
      "    12     2.08489    2.476832   0.48989                    \n",
      "    13     1.999878   2.45102    0.496323                   \n",
      "    14     1.946395   2.435392   0.500882                   \n",
      "\n",
      "CPU times: user 7min 31s, sys: 1min 34s, total: 9min 6s\n",
      "Wall time: 9min 7s\n"
     ]
    },
    {
     "data": {
      "text/plain": [
       "[array([ 2.43539]), 0.50088159639240704]"
      ]
     },
     "execution_count": 104,
     "metadata": {},
     "output_type": "execute_result"
    }
   ],
   "source": [
    "%%time\n",
    "learner.fit(lr, 1, use_clr_beta=(10,10,0.95,0.85), cycle_len=15)"
   ]
  },
  {
   "cell_type": "markdown",
   "metadata": {},
   "source": [
    "We save the trained model weights and separately save the encoder part of the LM model as well. This will serve as our backbone in the classification task model."
   ]
  },
  {
   "cell_type": "code",
   "execution_count": 105,
   "metadata": {},
   "outputs": [],
   "source": [
    "learner.save('lm1_1cycle')"
   ]
  },
  {
   "cell_type": "code",
   "execution_count": 106,
   "metadata": {},
   "outputs": [],
   "source": [
    "learner.save_encoder('lm1_enc_1cycle')"
   ]
  },
  {
   "cell_type": "code",
   "execution_count": 107,
   "metadata": {},
   "outputs": [
    {
     "data": {
      "image/png": "[encoded data removed]",
      "text/plain": [
       "<matplotlib.figure.Figure at 0x7fbc314a19e8>"
      ]
     },
     "metadata": {},
     "output_type": "display_data"
    }
   ],
   "source": [
    "learner.sched.plot_loss()"
   ]
  },
  {
   "cell_type": "markdown",
   "metadata": {},
   "source": [
    "## Classifier tokens"
   ]
  },
  {
   "cell_type": "markdown",
   "metadata": {},
   "source": [
    "The classifier model is basically a linear layer custom head on top of the LM backbone. Setting up the classifier data is similar to the LM data setup except that we cannot use the unsup movie reviews this time."
   ]
  },
  {
   "cell_type": "code",
   "execution_count": 108,
   "metadata": {},
   "outputs": [],
   "source": [
    "chunksize=24000"
   ]
  },
  {
   "cell_type": "code",
   "execution_count": 109,
   "metadata": {},
   "outputs": [],
   "source": [
    "df_trn = pd.read_csv(CLAS_PATH/'train.csv', header=None, chunksize=chunksize)\n",
    "df_val = pd.read_csv(CLAS_PATH/'test.csv', header=None, chunksize=chunksize)"
   ]
  },
  {
   "cell_type": "code",
   "execution_count": 110,
   "metadata": {},
   "outputs": [
    {
     "name": "stdout",
     "output_type": "stream",
     "text": [
      "0\n",
      "\n",
      "\u001b[93m    Warning: no model found for 'pt'\u001b[0m\n",
      "\n",
      "    Only loading the 'pt' tokenizer.\n",
      "\n",
      "\n",
      "\u001b[93m    Warning: no model found for 'pt'\u001b[0m\n",
      "\n",
      "\u001b[93m    Warning: no model found for 'pt'\u001b[0m\n",
      "    Only loading the 'pt' tokenizer.\n",
      "\n",
      "\n",
      "\n",
      "    Only loading the 'pt' tokenizer.\n",
      "\n",
      "\u001b[93m    Warning: no model found for 'pt'\u001b[0m\n",
      "\n",
      "    Only loading the 'pt' tokenizer.\n",
      "\n",
      "\n",
      "\n",
      "\u001b[93m    Warning: no model found for 'pt'\u001b[0m\n",
      "\n",
      "    Only loading the 'pt' tokenizer.\n",
      "\n",
      "\n",
      "\u001b[93m    Warning: no model found for 'pt'\u001b[0m\n",
      "\n",
      "\n",
      "    Only loading the 'pt' tokenizer.\n",
      "\n",
      "\u001b[93m    Warning: no model found for 'pt'\u001b[0m\n",
      "\n",
      "\n",
      "    Only loading the 'pt' tokenizer.\n",
      "\n",
      "\u001b[93m    Warning: no model found for 'pt'\u001b[0m\n",
      "\n",
      "\n",
      "    Only loading the 'pt' tokenizer.\n",
      "\n",
      "\u001b[93m    Warning: no model found for 'pt'\u001b[0m\n",
      "\n",
      "    Only loading the 'pt' tokenizer.\n",
      "\n",
      "0\n",
      "\n",
      "\u001b[93m    Warning: no model found for 'pt'\u001b[0m\n",
      "\n",
      "    Only loading the 'pt' tokenizer.\n",
      "\n",
      "\n",
      "\u001b[93m    Warning: no model found for 'pt'\u001b[0m\n",
      "\u001b[93m    Warning: no model found for 'pt'\u001b[0m\n",
      "\n",
      "\u001b[93m    Warning: no model found for 'pt'\u001b[0m\n",
      "    Only loading the 'pt' tokenizer.\n",
      "\n",
      "\n",
      "\u001b[93m    Warning: no model found for 'pt'\u001b[0m\n",
      "\n",
      "\n",
      "    Only loading the 'pt' tokenizer.\n",
      "\n",
      "\n",
      "\n",
      "    Only loading the 'pt' tokenizer.\n",
      "\n",
      "    Only loading the 'pt' tokenizer.\n",
      "\n",
      "\n",
      "\n",
      "\u001b[93m    Warning: no model found for 'pt'\u001b[0m\n",
      "\n",
      "    Only loading the 'pt' tokenizer.\n",
      "\n",
      "\n",
      "\u001b[93m    Warning: no model found for 'pt'\u001b[0m\n",
      "\n",
      "    Only loading the 'pt' tokenizer.\n",
      "\n",
      "\n",
      "\u001b[93m    Warning: no model found for 'pt'\u001b[0m\n",
      "\u001b[93m    Warning: no model found for 'pt'\u001b[0m\n",
      "\n",
      "    Only loading the 'pt' tokenizer.\n",
      "\n",
      "\n",
      "\n",
      "    Only loading the 'pt' tokenizer.\n",
      "\n"
     ]
    }
   ],
   "source": [
    "tok_trn, trn_labels = get_all(df_trn, 1)\n",
    "tok_val, val_labels = get_all(df_val, 1)"
   ]
  },
  {
   "cell_type": "code",
   "execution_count": 111,
   "metadata": {},
   "outputs": [],
   "source": [
    "(CLAS_PATH/'tmp').mkdir(exist_ok=True)\n",
    "\n",
    "np.save(CLAS_PATH/'tmp'/'tok_trn.npy', tok_trn)\n",
    "np.save(CLAS_PATH/'tmp'/'tok_val.npy', tok_val)\n",
    "\n",
    "np.save(CLAS_PATH/'tmp'/'trn_labels.npy', trn_labels)\n",
    "np.save(CLAS_PATH/'tmp'/'val_labels.npy', val_labels)"
   ]
  },
  {
   "cell_type": "code",
   "execution_count": 112,
   "metadata": {},
   "outputs": [],
   "source": [
    "tok_trn = np.load(CLAS_PATH/'tmp'/'tok_trn.npy')\n",
    "tok_val = np.load(CLAS_PATH/'tmp'/'tok_val.npy')"
   ]
  },
  {
   "cell_type": "code",
   "execution_count": 113,
   "metadata": {},
   "outputs": [
    {
     "data": {
      "text/plain": [
       "8290"
      ]
     },
     "execution_count": 113,
     "metadata": {},
     "output_type": "execute_result"
    }
   ],
   "source": [
    "itos = pickle.load((LM_PATH/'tmp'/'itos.pkl').open('rb'))\n",
    "stoi = collections.defaultdict(lambda:0, {v:k for k,v in enumerate(itos)})\n",
    "len(itos)"
   ]
  },
  {
   "cell_type": "code",
   "execution_count": 114,
   "metadata": {},
   "outputs": [],
   "source": [
    "trn_clas = np.array([[stoi[o] for o in p] for p in tok_trn])\n",
    "val_clas = np.array([[stoi[o] for o in p] for p in tok_val])"
   ]
  },
  {
   "cell_type": "code",
   "execution_count": 115,
   "metadata": {},
   "outputs": [],
   "source": [
    "np.save(CLAS_PATH/'tmp'/'trn_ids.npy', trn_clas)\n",
    "np.save(CLAS_PATH/'tmp'/'val_ids.npy', val_clas)"
   ]
  },
  {
   "cell_type": "markdown",
   "metadata": {},
   "source": [
    "## Classifier"
   ]
  },
  {
   "cell_type": "markdown",
   "metadata": {},
   "source": [
    "Now we can create our final model, a classifier which is really a custom linear head over our trained IMDB backbone. The steps to create the classifier model are similar to the ones for the LM."
   ]
  },
  {
   "cell_type": "code",
   "execution_count": 116,
   "metadata": {},
   "outputs": [],
   "source": [
    "trn_clas = np.load(CLAS_PATH/'tmp'/'trn_ids.npy')\n",
    "val_clas = np.load(CLAS_PATH/'tmp'/'val_ids.npy')"
   ]
  },
  {
   "cell_type": "code",
   "execution_count": 117,
   "metadata": {},
   "outputs": [],
   "source": [
    "trn_labels = np.squeeze(np.load(CLAS_PATH/'tmp'/'trn_labels.npy'))\n",
    "val_labels = np.squeeze(np.load(CLAS_PATH/'tmp'/'val_labels.npy'))"
   ]
  },
  {
   "cell_type": "code",
   "execution_count": 118,
   "metadata": {},
   "outputs": [],
   "source": [
    "bptt,em_sz,nh,nl = 70,400,1150,3\n",
    "vs = len(itos)\n",
    "opt_fn = partial(optim.Adam, betas=(0.8, 0.99))\n",
    "bs = 48"
   ]
  },
  {
   "cell_type": "code",
   "execution_count": 119,
   "metadata": {},
   "outputs": [],
   "source": [
    "min_lbl = trn_labels.min()\n",
    "trn_labels -= min_lbl\n",
    "val_labels -= min_lbl\n",
    "c=int(trn_labels.max())+1"
   ]
  },
  {
   "cell_type": "markdown",
   "metadata": {},
   "source": [
    "In the classifier, unlike LM, we need to read a movie review at a time and learn to predict the it's sentiment as pos/neg. We do not deal with equal bptt size batches, so we have to pad the sequences to the same length in each batch. To create batches of similar sized movie reviews, we use a sortish sampler method invented by [@Smerity](https://twitter.com/Smerity) and [@jekbradbury](https://twitter.com/jekbradbury)\n",
    "\n",
    "The sortishSampler cuts down the overall number of padding tokens the classifier ends up seeing."
   ]
  },
  {
   "cell_type": "code",
   "execution_count": 120,
   "metadata": {},
   "outputs": [],
   "source": [
    "trn_ds = TextDataset(trn_clas, trn_labels)\n",
    "val_ds = TextDataset(val_clas, val_labels)\n",
    "trn_samp = SortishSampler(trn_clas, key=lambda x: len(trn_clas[x]), bs=bs//2)\n",
    "val_samp = SortSampler(val_clas, key=lambda x: len(val_clas[x]))\n",
    "trn_dl = DataLoader(trn_ds, bs//2, transpose=True, num_workers=1, pad_idx=1, sampler=trn_samp)\n",
    "val_dl = DataLoader(val_ds, bs, transpose=True, num_workers=1, pad_idx=1, sampler=val_samp)\n",
    "md = ModelData(PATH, trn_dl, val_dl)"
   ]
  },
  {
   "cell_type": "code",
   "execution_count": 121,
   "metadata": {},
   "outputs": [],
   "source": [
    "# part 1\n",
    "dps = np.array([0.4, 0.5, 0.05, 0.3, 0.1])"
   ]
  },
  {
   "cell_type": "code",
   "execution_count": 122,
   "metadata": {},
   "outputs": [],
   "source": [
    "dps = np.array([0.4,0.5,0.05,0.3,0.4])*0.5"
   ]
  },
  {
   "cell_type": "code",
   "execution_count": 123,
   "metadata": {},
   "outputs": [],
   "source": [
    "m = get_rnn_classifer(bptt, 20*70, c, vs, emb_sz=em_sz, n_hid=nh, n_layers=nl, pad_token=1,\n",
    "          layers=[em_sz*3, 50, c], drops=[dps[4], 0.1],\n",
    "          dropouti=dps[0], wdrop=dps[1], dropoute=dps[2], dropouth=dps[3])"
   ]
  },
  {
   "cell_type": "code",
   "execution_count": 124,
   "metadata": {},
   "outputs": [],
   "source": [
    "opt_fn = partial(optim.Adam, betas=(0.7, 0.99))"
   ]
  },
  {
   "cell_type": "code",
   "execution_count": 125,
   "metadata": {},
   "outputs": [],
   "source": [
    "learn = RNN_Learner(md, TextModel(to_gpu(m)), opt_fn=opt_fn)\n",
    "learn.reg_fn = partial(seq2seq_reg, alpha=2, beta=1)\n",
    "learn.clip=25.\n",
    "learn.metrics = [accuracy]"
   ]
  },
  {
   "cell_type": "code",
   "execution_count": 126,
   "metadata": {},
   "outputs": [],
   "source": [
    "lr=3e-3\n",
    "lrm = 2.6\n",
    "lrs = np.array([lr/(lrm**4), lr/(lrm**3), lr/(lrm**2), lr/lrm, lr])"
   ]
  },
  {
   "cell_type": "code",
   "execution_count": 127,
   "metadata": {},
   "outputs": [],
   "source": [
    "lrs=np.array([1e-4,1e-4,1e-4,1e-3,1e-2])"
   ]
  },
  {
   "cell_type": "code",
   "execution_count": 128,
   "metadata": {},
   "outputs": [],
   "source": [
    "wd = 1e-7\n",
    "wd = 0\n",
    "learn.load_encoder('lm1_enc_1cycle')"
   ]
  },
  {
   "cell_type": "code",
   "execution_count": 129,
   "metadata": {},
   "outputs": [],
   "source": [
    "learn.freeze_to(-1)"
   ]
  },
  {
   "cell_type": "code",
   "execution_count": 130,
   "metadata": {},
   "outputs": [
    {
     "data": {
      "application/vnd.jupyter.widget-view+json": {
       "model_id": "847ec10538da42f2b0d583c1e123e69a",
       "version_major": 2,
       "version_minor": 0
      },
      "text/html": [
       "<p>Failed to display Jupyter Widget of type <code>HBox</code>.</p>\n",
       "<p>\n",
       "  If you're reading this message in the Jupyter Notebook or JupyterLab Notebook, it may mean\n",
       "  that the widgets JavaScript is still loading. If this message persists, it\n",
       "  likely means that the widgets JavaScript library is either not installed or\n",
       "  not enabled. See the <a href=\"https://ipywidgets.readthedocs.io/en/stable/user_install.html\">Jupyter\n",
       "  Widgets Documentation</a> for setup instructions.\n",
       "</p>\n",
       "<p>\n",
       "  If you're reading this message in another frontend (for example, a static\n",
       "  rendering on GitHub or <a href=\"https://nbviewer.jupyter.org/\">NBViewer</a>),\n",
       "  it may mean that your frontend doesn't currently support widgets.\n",
       "</p>\n"
      ],
      "text/plain": [
       "HBox(children=(IntProgress(value=0, description='Epoch', max=1), HTML(value='')))"
      ]
     },
     "metadata": {},
     "output_type": "display_data"
    },
    {
     "name": "stdout",
     "output_type": "stream",
     "text": [
      " 77%|███████▋  | 298/385 [00:13<00:04, 21.39it/s, loss=2.44] "
     ]
    },
    {
     "data": {
      "image/png": "[encoded data removed]",
      "text/plain": [
       "<matplotlib.figure.Figure at 0x7fbc1e9e7898>"
      ]
     },
     "metadata": {},
     "output_type": "display_data"
    }
   ],
   "source": [
    "learn.lr_find(lrs/1000)\n",
    "learn.sched.plot()"
   ]
  },
  {
   "cell_type": "code",
   "execution_count": 131,
   "metadata": {},
   "outputs": [
    {
     "data": {
      "application/vnd.jupyter.widget-view+json": {
       "model_id": "79116712ee8449f99963c483eca06cb6",
       "version_major": 2,
       "version_minor": 0
      },
      "text/html": [
       "<p>Failed to display Jupyter Widget of type <code>HBox</code>.</p>\n",
       "<p>\n",
       "  If you're reading this message in the Jupyter Notebook or JupyterLab Notebook, it may mean\n",
       "  that the widgets JavaScript is still loading. If this message persists, it\n",
       "  likely means that the widgets JavaScript library is either not installed or\n",
       "  not enabled. See the <a href=\"https://ipywidgets.readthedocs.io/en/stable/user_install.html\">Jupyter\n",
       "  Widgets Documentation</a> for setup instructions.\n",
       "</p>\n",
       "<p>\n",
       "  If you're reading this message in another frontend (for example, a static\n",
       "  rendering on GitHub or <a href=\"https://nbviewer.jupyter.org/\">NBViewer</a>),\n",
       "  it may mean that your frontend doesn't currently support widgets.\n",
       "</p>\n"
      ],
      "text/plain": [
       "HBox(children=(IntProgress(value=0, description='Epoch', max=1), HTML(value='')))"
      ]
     },
     "metadata": {},
     "output_type": "display_data"
    },
    {
     "name": "stdout",
     "output_type": "stream",
     "text": [
      " 35%|███▌      | 136/385 [00:05<00:10, 23.23it/s, loss=0.477]\n",
      " 36%|███▋      | 140/385 [00:05<00:10, 23.47it/s, loss=0.489]"
     ]
    },
    {
     "name": "stderr",
     "output_type": "stream",
     "text": [
      "Exception in thread Thread-45:\n",
      "Traceback (most recent call last):\n",
      "  File \"/home/paperspace/anaconda3/envs/fastai/lib/python3.6/threading.py\", line 916, in _bootstrap_inner\n",
      "    self.run()\n",
      "  File \"/home/paperspace/anaconda3/envs/fastai/lib/python3.6/site-packages/tqdm/_tqdm.py\", line 144, in run\n",
      "    for instance in self.tqdm_cls._instances:\n",
      "  File \"/home/paperspace/anaconda3/envs/fastai/lib/python3.6/_weakrefset.py\", line 60, in __iter__\n",
      "    for itemref in self.data:\n",
      "RuntimeError: Set changed size during iteration\n",
      "\n"
     ]
    },
    {
     "name": "stdout",
     "output_type": "stream",
     "text": [
      "epoch      trn_loss   val_loss   accuracy                    \n",
      "    0      0.378833   0.206064   0.932245  \n",
      "\n",
      "CPU times: user 14.7 s, sys: 2.6 s, total: 17.3 s\n",
      "Wall time: 17.3 s\n"
     ]
    },
    {
     "data": {
      "text/plain": [
       "[array([ 0.20606]), 0.9322446334732355]"
      ]
     },
     "execution_count": 131,
     "metadata": {},
     "output_type": "execute_result"
    }
   ],
   "source": [
    "%%time\n",
    "learn.fit(lrs, 1, wds=wd, cycle_len=1, use_clr=(8,3))"
   ]
  },
  {
   "cell_type": "code",
   "execution_count": 132,
   "metadata": {},
   "outputs": [],
   "source": [
    "learn.save('clas_0_1cycle_lm')"
   ]
  },
  {
   "cell_type": "code",
   "execution_count": 133,
   "metadata": {},
   "outputs": [],
   "source": [
    "learn.load('clas_0_1cycle_lm')"
   ]
  },
  {
   "cell_type": "code",
   "execution_count": 134,
   "metadata": {},
   "outputs": [],
   "source": [
    "learn.freeze_to(-2)"
   ]
  },
  {
   "cell_type": "code",
   "execution_count": 135,
   "metadata": {},
   "outputs": [
    {
     "data": {
      "application/vnd.jupyter.widget-view+json": {
       "model_id": "d0986a51da4549248bd35fff3038f6d4",
       "version_major": 2,
       "version_minor": 0
      },
      "text/html": [
       "<p>Failed to display Jupyter Widget of type <code>HBox</code>.</p>\n",
       "<p>\n",
       "  If you're reading this message in the Jupyter Notebook or JupyterLab Notebook, it may mean\n",
       "  that the widgets JavaScript is still loading. If this message persists, it\n",
       "  likely means that the widgets JavaScript library is either not installed or\n",
       "  not enabled. See the <a href=\"https://ipywidgets.readthedocs.io/en/stable/user_install.html\">Jupyter\n",
       "  Widgets Documentation</a> for setup instructions.\n",
       "</p>\n",
       "<p>\n",
       "  If you're reading this message in another frontend (for example, a static\n",
       "  rendering on GitHub or <a href=\"https://nbviewer.jupyter.org/\">NBViewer</a>),\n",
       "  it may mean that your frontend doesn't currently support widgets.\n",
       "</p>\n"
      ],
      "text/plain": [
       "HBox(children=(IntProgress(value=0, description='Epoch', max=1), HTML(value='')))"
      ]
     },
     "metadata": {},
     "output_type": "display_data"
    },
    {
     "name": "stdout",
     "output_type": "stream",
     "text": [
      "epoch      trn_loss   val_loss   accuracy                    \n",
      "    0      0.344361   0.174365   0.938508  \n",
      "\n",
      "CPU times: user 17.8 s, sys: 3.1 s, total: 20.9 s\n",
      "Wall time: 20.4 s\n"
     ]
    },
    {
     "data": {
      "text/plain": [
       "[array([ 0.17437]), 0.938508090932341]"
      ]
     },
     "execution_count": 135,
     "metadata": {},
     "output_type": "execute_result"
    }
   ],
   "source": [
    "%%time\n",
    "learn.fit(lrs, 1, wds=wd, cycle_len=1, use_clr=(8,3))"
   ]
  },
  {
   "cell_type": "code",
   "execution_count": 136,
   "metadata": {},
   "outputs": [],
   "source": [
    "learn.save('clas_1_1cycle_lm')"
   ]
  },
  {
   "cell_type": "code",
   "execution_count": 137,
   "metadata": {},
   "outputs": [],
   "source": [
    "learn.load('clas_1_1cycle_lm')"
   ]
  },
  {
   "cell_type": "code",
   "execution_count": 138,
   "metadata": {},
   "outputs": [],
   "source": [
    "learn.unfreeze()"
   ]
  },
  {
   "cell_type": "code",
   "execution_count": 139,
   "metadata": {},
   "outputs": [],
   "source": [
    "bs=24"
   ]
  },
  {
   "cell_type": "code",
   "execution_count": 140,
   "metadata": {},
   "outputs": [
    {
     "data": {
      "application/vnd.jupyter.widget-view+json": {
       "model_id": "7a6222321bda4b789743f228b9b4aef9",
       "version_major": 2,
       "version_minor": 0
      },
      "text/html": [
       "<p>Failed to display Jupyter Widget of type <code>HBox</code>.</p>\n",
       "<p>\n",
       "  If you're reading this message in the Jupyter Notebook or JupyterLab Notebook, it may mean\n",
       "  that the widgets JavaScript is still loading. If this message persists, it\n",
       "  likely means that the widgets JavaScript library is either not installed or\n",
       "  not enabled. See the <a href=\"https://ipywidgets.readthedocs.io/en/stable/user_install.html\">Jupyter\n",
       "  Widgets Documentation</a> for setup instructions.\n",
       "</p>\n",
       "<p>\n",
       "  If you're reading this message in another frontend (for example, a static\n",
       "  rendering on GitHub or <a href=\"https://nbviewer.jupyter.org/\">NBViewer</a>),\n",
       "  it may mean that your frontend doesn't currently support widgets.\n",
       "</p>\n"
      ],
      "text/plain": [
       "HBox(children=(IntProgress(value=0, description='Epoch', max=14), HTML(value='')))"
      ]
     },
     "metadata": {},
     "output_type": "display_data"
    },
    {
     "name": "stdout",
     "output_type": "stream",
     "text": [
      "epoch      trn_loss   val_loss   accuracy                    \n",
      "    0      0.291551   0.178712   0.930048  \n",
      "    1      0.280122   0.163826   0.943516                    \n",
      "    2      0.217225   0.138512   0.949557                    \n",
      "    3      0.191473   0.132768   0.952385                    \n",
      "    4      0.171641   0.123101   0.95458                     \n",
      "    5      0.133568   0.13198    0.953363                    \n",
      "    6      0.122197   0.118418   0.957824                    \n",
      "    7      0.11683    0.122831   0.954388                     \n",
      "    8      0.089443   0.112468   0.9618                       \n",
      "    9      0.08371    0.1294     0.959057                     \n",
      "    10     0.07602    0.120658   0.957809                     \n",
      "    11     0.058307   0.124705   0.95995                      \n",
      "    12     0.071666   0.123347   0.957955                     \n",
      "    13     0.075409   0.124092   0.958132                     \n",
      "\n",
      "CPU times: user 8min 32s, sys: 1min 32s, total: 10min 4s\n",
      "Wall time: 10min 4s\n"
     ]
    },
    {
     "data": {
      "text/plain": [
       "[array([ 0.12409]), 0.95813220276458733]"
      ]
     },
     "execution_count": 140,
     "metadata": {},
     "output_type": "execute_result"
    }
   ],
   "source": [
    "%%time\n",
    "learn.fit(lrs, 1, wds=wd, cycle_len=14, use_clr=(32,10))"
   ]
  },
  {
   "cell_type": "code",
   "execution_count": 141,
   "metadata": {},
   "outputs": [
    {
     "data": {
      "image/png": "[encoded data removed]",
      "text/plain": [
       "<matplotlib.figure.Figure at 0x7fbc1fec9cc0>"
      ]
     },
     "metadata": {},
     "output_type": "display_data"
    }
   ],
   "source": [
    "learn.sched.plot_loss()"
   ]
  },
  {
   "cell_type": "code",
   "execution_count": 142,
   "metadata": {},
   "outputs": [],
   "source": [
    "learn.save('clas_2_1cycle_lm')"
   ]
  },
  {
   "cell_type": "markdown",
   "metadata": {},
   "source": [
    "The previous state of the art result was 94.1% accuracy (5.9% error). With bidir we get 95.4% accuracy (4.6% error)."
   ]
  },
  {
   "cell_type": "markdown",
   "metadata": {},
   "source": [
    "## End"
   ]
  },
  {
   "cell_type": "code",
   "execution_count": null,
   "metadata": {},
   "outputs": [],
   "source": []
  }
 ],
 "metadata": {
  "kernelspec": {
   "display_name": "Python 3",
   "language": "python",
   "name": "python3"
  },
  "language_info": {
   "codemirror_mode": {
    "name": "ipython",
    "version": 3
   },
   "file_extension": ".py",
   "mimetype": "text/x-python",
   "name": "python",
   "nbconvert_exporter": "python",
   "pygments_lexer": "ipython3",
   "version": "3.6.4"
  }
 },
 "nbformat": 4,
 "nbformat_minor": 2
}
