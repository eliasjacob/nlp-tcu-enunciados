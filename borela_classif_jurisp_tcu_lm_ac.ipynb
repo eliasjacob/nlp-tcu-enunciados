{
 "cells": [
  {
   "cell_type": "markdown",
   "metadata": {},
   "source": [
    "## Reaproveitando LM de acórdãos\n",
    "\n",
    "Borela - 14/09/2018\n",
    "Objetivo: Rodar um classificador reaproveitando LM de acórdãos\n",
    "\n",
    "Dados disponíveis no site: https://contas.tcu.gov.br/pesquisaJurisprudencia/#/pesquisa/jurisprudencia-selecionada"
   ]
  },
  {
   "cell_type": "code",
   "execution_count": 1,
   "metadata": {},
   "outputs": [],
   "source": [
    "%matplotlib inline\n",
    "import pandas as pd\n",
    "from os import listdir\n",
    "from os.path import isfile, join\n",
    "from pathlib import Path\n",
    "import numpy as np\n",
    "from sklearn.model_selection import train_test_split"
   ]
  },
  {
   "cell_type": "code",
   "execution_count": 2,
   "metadata": {},
   "outputs": [],
   "source": [
    "# Random permutation of train and test texts\n",
    "np.random.seed(42)"
   ]
  },
  {
   "cell_type": "code",
   "execution_count": 3,
   "metadata": {},
   "outputs": [
    {
     "name": "stderr",
     "output_type": "stream",
     "text": [
      "/home/borela/anaconda3/envs/fastai/lib/python3.6/site-packages/requests/__init__.py:80: RequestsDependencyWarning: urllib3 (1.22) or chardet (2.3.0) doesn't match a supported version!\n",
      "  RequestsDependencyWarning)\n"
     ]
    }
   ],
   "source": [
    "from fastai.text import *\n",
    "import html\n"
   ]
  },
  {
   "cell_type": "code",
   "execution_count": 4,
   "metadata": {},
   "outputs": [],
   "source": [
    "import spacy\n",
    "nlp = spacy.load('pt')"
   ]
  },
  {
   "cell_type": "code",
   "execution_count": 5,
   "metadata": {},
   "outputs": [],
   "source": [
    "BOS = 'xbos'  # beginning-of-sentence tag\n",
    "FLD = 'xfld'  # data field tag"
   ]
  },
  {
   "cell_type": "markdown",
   "metadata": {},
   "source": [
    "## Definindo paths"
   ]
  },
  {
   "cell_type": "code",
   "execution_count": 6,
   "metadata": {},
   "outputs": [],
   "source": [
    "# set path for classification files\n",
    "CLAS_PATH=Path('data/tcu/dist_class')\n",
    "CLAS_PATH.mkdir(exist_ok=True)\n",
    "\n"
   ]
  },
  {
   "cell_type": "code",
   "execution_count": 7,
   "metadata": {},
   "outputs": [],
   "source": [
    "# set path for language model files\n",
    "LM_PATH=Path('data/tcu/dist_lm')\n",
    "LM_PATH.mkdir(exist_ok=True)\n",
    "PATH = 'data/tcu/ac'"
   ]
  },
  {
   "cell_type": "markdown",
   "metadata": {},
   "source": [
    "## Classification data preparation"
   ]
  },
  {
   "cell_type": "code",
   "execution_count": 8,
   "metadata": {},
   "outputs": [],
   "source": [
    "CLASSES = ['Pessoal', 'Licitação', 'Responsabilidade','Direito_Processual']"
   ]
  },
  {
   "cell_type": "markdown",
   "metadata": {},
   "source": [
    "## Language model tokenization"
   ]
  },
  {
   "cell_type": "code",
   "execution_count": 9,
   "metadata": {},
   "outputs": [],
   "source": [
    "itos = pickle.load(open(LM_PATH/'tmp'/'itos.pkl', 'rb'))\n",
    "stoi = collections.defaultdict(lambda:-1, {v:k for k,v in enumerate(itos)})"
   ]
  },
  {
   "cell_type": "code",
   "execution_count": 13,
   "metadata": {},
   "outputs": [],
   "source": [
    "assert(stoi['_pad_']==1)\n",
    "assert(stoi['_unk_']==0)"
   ]
  },
  {
   "cell_type": "code",
   "execution_count": 14,
   "metadata": {},
   "outputs": [
    {
     "data": {
      "text/plain": [
       "8603"
      ]
     },
     "execution_count": 14,
     "metadata": {},
     "output_type": "execute_result"
    }
   ],
   "source": [
    "vs=len(itos)\n",
    "vs"
   ]
  },
  {
   "cell_type": "markdown",
   "metadata": {},
   "source": [
    "## Language model treinado em acórdãos"
   ]
  },
  {
   "cell_type": "markdown",
   "metadata": {},
   "source": [
    "The pre-trained wiki LM weights have an embedding size of 400, 1150 hidden units and just 3 layers. We need to match these values  with the target TCU LM so that the weights can be loaded up."
   ]
  },
  {
   "cell_type": "markdown",
   "metadata": {},
   "source": [
    "Passo para rexecução "
   ]
  },
  {
   "cell_type": "code",
   "execution_count": 15,
   "metadata": {},
   "outputs": [],
   "source": [
    "em_sz,nh,nl = 400,1150,3"
   ]
  },
  {
   "cell_type": "markdown",
   "metadata": {},
   "source": [
    "PRE_PATH = Path('data/wiki/pt/models/')\n",
    "PRE_LM_PATH = PRE_PATH/'ptwiki_nandobrbest.h5'\n",
    "lm_PT_1_cycle_10_epochs_from_scratch"
   ]
  },
  {
   "cell_type": "code",
   "execution_count": 16,
   "metadata": {},
   "outputs": [],
   "source": [
    "PRE_PATH = Path('/home/borela/modelolinguagemacordao/LmLibText/tmp')\n",
    "PRE_LM_PATH = PRE_PATH/'lm_1epoca.h5'\n"
   ]
  },
  {
   "cell_type": "code",
   "execution_count": 17,
   "metadata": {},
   "outputs": [
    {
     "data": {
      "text/plain": [
       "PosixPath('/home/borela/modelolinguagemacordao/LmLibText/tmp/lm_1epoca.h5')"
      ]
     },
     "execution_count": 17,
     "metadata": {},
     "output_type": "execute_result"
    }
   ],
   "source": [
    "PRE_LM_PATH"
   ]
  },
  {
   "cell_type": "code",
   "execution_count": 18,
   "metadata": {},
   "outputs": [],
   "source": [
    "wgts = torch.load(PRE_LM_PATH, map_location=lambda storage, loc: storage)"
   ]
  },
  {
   "cell_type": "markdown",
   "metadata": {},
   "source": [
    "We calculate the mean of the layer0 encoder weights. This can be used to assign weights to unknown tokens when we transfer to target TCU LM."
   ]
  },
  {
   "cell_type": "code",
   "execution_count": 19,
   "metadata": {},
   "outputs": [],
   "source": [
    "enc_wgts = to_np(wgts['0.encoder.weight'])\n",
    "row_m = enc_wgts.mean(0)"
   ]
  },
  {
   "cell_type": "code",
   "execution_count": 20,
   "metadata": {},
   "outputs": [
    {
     "data": {
      "text/plain": [
       "OrderedDict([('0.encoder.weight', \n",
       "              -2.4362e-01  9.8448e-02  8.2343e-02  ...   2.4960e-01 -5.6796e-03  4.6838e-02\n",
       "              -5.1188e-02 -3.8364e-02 -4.3567e-01  ...  -5.9254e-02  6.2971e-03 -4.7083e-03\n",
       "               1.6230e-01 -1.4819e-01 -1.3446e-01  ...   3.7861e-02 -1.4444e-01 -1.8709e-01\n",
       "                              ...                   ⋱                   ...                \n",
       "              -5.1185e-02 -3.8409e-02 -4.3562e-01  ...  -5.9461e-02  5.4418e-03 -4.7251e-03\n",
       "              -5.1120e-02 -3.8391e-02 -4.3569e-01  ...  -5.9230e-02  5.9446e-03 -4.3717e-03\n",
       "              -5.1101e-02 -3.8425e-02 -4.3558e-01  ...  -5.9469e-02  6.3223e-03 -4.6796e-03\n",
       "              [torch.FloatTensor of size 57567x400]),\n",
       "             ('0.encoder_with_dropout.embed.weight', \n",
       "              -2.4362e-01  9.8448e-02  8.2343e-02  ...   2.4960e-01 -5.6796e-03  4.6838e-02\n",
       "              -5.1188e-02 -3.8364e-02 -4.3567e-01  ...  -5.9254e-02  6.2971e-03 -4.7083e-03\n",
       "               1.6230e-01 -1.4819e-01 -1.3446e-01  ...   3.7861e-02 -1.4444e-01 -1.8709e-01\n",
       "                              ...                   ⋱                   ...                \n",
       "              -5.1185e-02 -3.8409e-02 -4.3562e-01  ...  -5.9461e-02  5.4418e-03 -4.7251e-03\n",
       "              -5.1120e-02 -3.8391e-02 -4.3569e-01  ...  -5.9230e-02  5.9446e-03 -4.3717e-03\n",
       "              -5.1101e-02 -3.8425e-02 -4.3558e-01  ...  -5.9469e-02  6.3223e-03 -4.6796e-03\n",
       "              [torch.FloatTensor of size 57567x400]),\n",
       "             ('0.rnns.0.module.weight_ih_l0', \n",
       "               9.2201e-02  5.0418e-02  1.0044e-02  ...  -1.5243e-01 -6.3355e-02  1.8644e-01\n",
       "               1.1587e-01  1.1236e-01  4.8728e-02  ...   1.4253e-01  1.1272e-02 -1.4503e-01\n",
       "               4.2957e-02  7.4864e-04 -4.0929e-02  ...  -8.8532e-02 -7.5207e-02  1.1121e-01\n",
       "                              ...                   ⋱                   ...                \n",
       "              -6.3147e-02 -1.0776e-01  8.4903e-03  ...  -3.8101e-02 -4.5869e-03 -3.2804e-02\n",
       "              -8.3687e-02 -1.2541e-01 -2.5931e-01  ...  -6.0297e-02 -8.0749e-02  4.3903e-03\n",
       "               9.0732e-02  3.6011e-02  1.4562e-02  ...   1.8525e-02  1.1072e-01  1.6946e-02\n",
       "              [torch.FloatTensor of size 4600x400]),\n",
       "             ('0.rnns.0.module.bias_ih_l0', \n",
       "              -0.0509\n",
       "               0.2922\n",
       "              -0.0400\n",
       "                 ⋮   \n",
       "               0.1207\n",
       "               0.0426\n",
       "               0.0259\n",
       "              [torch.FloatTensor of size 4600]),\n",
       "             ('0.rnns.0.module.bias_hh_l0', \n",
       "              -3.8698e-02\n",
       "               2.6968e-01\n",
       "              -1.9762e-02\n",
       "                   ⋮     \n",
       "               1.1821e-01\n",
       "               1.6768e-02\n",
       "               5.6927e-02\n",
       "              [torch.FloatTensor of size 4600]),\n",
       "             ('0.rnns.0.module.weight_hh_l0_raw', \n",
       "              -3.8329e-02  2.3987e-02  6.7509e-02  ...  -6.0326e-02 -4.2645e-02  6.1501e-03\n",
       "               8.9527e-02 -8.4604e-02 -1.8366e-01  ...   7.3041e-03  4.6521e-02 -4.7203e-03\n",
       "               2.0801e-02  5.0306e-02 -3.0557e-02  ...  -3.8397e-02  1.0237e-02  7.6957e-02\n",
       "                              ...                   ⋱                   ...                \n",
       "               2.3537e-02 -1.2721e-01 -7.5506e-02  ...  -4.0642e-02  5.3309e-02  1.9655e-02\n",
       "               2.2084e-02  5.0942e-02 -2.3870e-02  ...   5.4950e-02  1.0076e-02  7.3476e-02\n",
       "               8.5773e-02  1.7844e-02 -1.1160e-01  ...   4.7121e-02 -2.2021e-02  9.1508e-03\n",
       "              [torch.FloatTensor of size 4600x1150]),\n",
       "             ('0.rnns.1.module.weight_ih_l0', \n",
       "               4.4539e-02  3.5245e-02 -3.4014e-02  ...  -5.0218e-03  3.2394e-02  1.5900e-02\n",
       "              -4.3403e-04 -2.5448e-02 -9.3271e-02  ...   1.6936e-02  7.7308e-02 -1.7972e-02\n",
       "               2.9657e-02 -8.2400e-03 -2.0074e-02  ...   2.0148e-02  3.9463e-03 -9.7338e-05\n",
       "                              ...                   ⋱                   ...                \n",
       "              -7.6832e-03 -3.1763e-02  3.4603e-02  ...   2.3455e-02  4.7604e-02  1.0909e-01\n",
       "               8.6798e-03  3.3171e-01  1.8027e-02  ...  -3.6746e-02 -8.4997e-02 -1.2482e-01\n",
       "              -7.1560e-02 -9.6192e-02  1.4699e-02  ...   8.7072e-03 -3.8680e-02  2.0846e-02\n",
       "              [torch.FloatTensor of size 4600x1150]),\n",
       "             ('0.rnns.1.module.bias_ih_l0', \n",
       "               0.0537\n",
       "              -0.0087\n",
       "               0.0268\n",
       "                 ⋮   \n",
       "               0.0447\n",
       "              -0.0733\n",
       "               0.0218\n",
       "              [torch.FloatTensor of size 4600]),\n",
       "             ('0.rnns.1.module.bias_hh_l0', \n",
       "               0.0344\n",
       "              -0.0352\n",
       "               0.0580\n",
       "                 ⋮   \n",
       "               0.0887\n",
       "              -0.0381\n",
       "               0.0471\n",
       "              [torch.FloatTensor of size 4600]),\n",
       "             ('0.rnns.1.module.weight_hh_l0_raw', \n",
       "               7.6175e-02 -2.8975e-02  1.6440e-02  ...   2.3202e-02 -3.3575e-03  2.8412e-02\n",
       "              -8.7673e-02  4.1590e-03 -7.8335e-03  ...  -2.1493e-02 -4.6690e-02 -1.7298e-02\n",
       "               8.8495e-03 -8.6372e-02 -4.0356e-02  ...   2.5890e-02 -2.9735e-02  4.3313e-02\n",
       "                              ...                   ⋱                   ...                \n",
       "               8.4476e-05 -1.2085e-02  8.4314e-02  ...   3.7939e-02 -1.0327e-01  1.2771e-01\n",
       "               4.7174e-02  2.0432e-02 -7.3964e-02  ...   1.8212e-02  3.6571e-02 -2.7727e-04\n",
       "               2.5652e-02 -2.8497e-02  6.9943e-02  ...  -2.6300e-02 -3.5718e-03 -3.1918e-02\n",
       "              [torch.FloatTensor of size 4600x1150]),\n",
       "             ('0.rnns.2.module.weight_ih_l0', \n",
       "               3.0612e-02 -8.2748e-02  4.2672e-02  ...  -9.3876e-02 -9.6808e-02  1.3702e-02\n",
       "              -1.1283e-01 -4.0172e-02  6.3361e-02  ...  -5.0282e-02 -7.9151e-03 -2.3417e-01\n",
       "               3.5156e-03  4.4838e-03  3.3200e-02  ...  -2.0310e-02  4.7090e-02 -4.2086e-03\n",
       "                              ...                   ⋱                   ...                \n",
       "               4.9748e-02 -8.0790e-02  6.9684e-02  ...   1.5787e-02 -1.2237e-01  6.1354e-02\n",
       "               3.8719e-03  2.4525e-02 -6.6043e-02  ...  -5.8893e-02 -4.3176e-02 -2.4565e-02\n",
       "               9.1108e-02 -8.7401e-02  3.8622e-02  ...  -1.0565e-01 -5.5344e-02  1.0138e-01\n",
       "              [torch.FloatTensor of size 1600x1150]),\n",
       "             ('0.rnns.2.module.bias_ih_l0', \n",
       "               0.0552\n",
       "              -0.0121\n",
       "               0.0031\n",
       "                 ⋮   \n",
       "               0.1257\n",
       "               0.1097\n",
       "               0.0995\n",
       "              [torch.FloatTensor of size 1600]),\n",
       "             ('0.rnns.2.module.bias_hh_l0', \n",
       "               0.0177\n",
       "               0.0620\n",
       "               0.0208\n",
       "                 ⋮   \n",
       "               0.1375\n",
       "               0.0994\n",
       "               0.1274\n",
       "              [torch.FloatTensor of size 1600]),\n",
       "             ('0.rnns.2.module.weight_hh_l0_raw', \n",
       "               3.7857e-02  1.8701e-03 -4.9172e-03  ...   6.1163e-03 -1.2239e-02  9.3976e-02\n",
       "              -1.3468e-02  5.0524e-02  1.0234e-01  ...  -3.4938e-02 -8.7868e-02 -2.4595e-02\n",
       "               2.4373e-02 -1.1393e-02  1.1691e-01  ...  -6.7824e-02  1.4283e-02 -1.0310e-02\n",
       "                              ...                   ⋱                   ...                \n",
       "              -5.9037e-02  1.9170e-02  8.1580e-02  ...   5.7554e-02 -6.3806e-03  1.6764e-02\n",
       "               1.4181e-01  6.4035e-02  3.5102e-02  ...  -1.8933e-02  1.7842e-02 -1.5910e-02\n",
       "               1.0309e-01  7.6621e-03  1.5513e-01  ...  -2.9553e-02  6.6563e-02  4.5021e-02\n",
       "              [torch.FloatTensor of size 1600x400]),\n",
       "             ('1.decoder.weight', \n",
       "              -2.4362e-01  9.8448e-02  8.2343e-02  ...   2.4960e-01 -5.6796e-03  4.6838e-02\n",
       "              -5.1188e-02 -3.8364e-02 -4.3567e-01  ...  -5.9254e-02  6.2971e-03 -4.7083e-03\n",
       "               1.6230e-01 -1.4819e-01 -1.3446e-01  ...   3.7861e-02 -1.4444e-01 -1.8709e-01\n",
       "                              ...                   ⋱                   ...                \n",
       "              -5.1185e-02 -3.8409e-02 -4.3562e-01  ...  -5.9461e-02  5.4418e-03 -4.7251e-03\n",
       "              -5.1120e-02 -3.8391e-02 -4.3569e-01  ...  -5.9230e-02  5.9446e-03 -4.3717e-03\n",
       "              -5.1101e-02 -3.8425e-02 -4.3558e-01  ...  -5.9469e-02  6.3223e-03 -4.6796e-03\n",
       "              [torch.FloatTensor of size 57567x400])])"
      ]
     },
     "execution_count": 20,
     "metadata": {},
     "output_type": "execute_result"
    }
   ],
   "source": [
    "wgts"
   ]
  },
  {
   "cell_type": "code",
   "execution_count": 21,
   "metadata": {},
   "outputs": [],
   "source": [
    "itos2 = pickle.load((PRE_PATH/'itos.pkl').open('rb'))\n",
    "stoi2 = collections.defaultdict(lambda:-1, {v:k8603 for k,v in enumerate(itos2)})"
   ]
  },
  {
   "cell_type": "code",
   "execution_count": 22,
   "metadata": {},
   "outputs": [
    {
     "data": {
      "text/plain": [
       "57567"
      ]
     },
     "execution_count": 22,
     "metadata": {},
     "output_type": "execute_result"
    }
   ],
   "source": [
    "len(itos2)"
   ]
  },
  {
   "cell_type": "code",
   "execution_count": 23,
   "metadata": {},
   "outputs": [],
   "source": [
    "assert(stoi['_pad_']==1)\n",
    "assert(stoi['_unk_']==0)"
   ]
  },
  {
   "cell_type": "code",
   "execution_count": 24,
   "metadata": {},
   "outputs": [
    {
     "data": {
      "text/plain": [
       "4094"
      ]
     },
     "execution_count": 24,
     "metadata": {},
     "output_type": "execute_result"
    }
   ],
   "source": [
    "stoi2['cargo']"
   ]
  },
  {
   "cell_type": "code",
   "execution_count": 25,
   "metadata": {},
   "outputs": [
    {
     "data": {
      "text/plain": [
       "86"
      ]
     },
     "execution_count": 25,
     "metadata": {},
     "output_type": "execute_result"
    }
   ],
   "source": [
    "stoi['cargo']"
   ]
  },
  {
   "cell_type": "code",
   "execution_count": 26,
   "metadata": {
    "scrolled": true
   },
   "outputs": [
    {
     "data": {
      "text/plain": [
       "array([-0.05406, -0.10682, -0.13684,  0.04729, -0.17081,  0.10067,  0.07969,  0.08316,  0.10928, -0.09523,\n",
       "       -0.09609,  0.07988, -0.02701,  0.05547, -0.0044 ,  0.00164, -0.04653,  0.02699, -0.08813,  0.07403,\n",
       "       -0.17501,  0.02291,  0.05781, -0.01792,  0.07677, -0.00183,  0.03587,  0.17099, -0.03995, -0.0582 ,\n",
       "       -0.12001, -0.04285,  0.12813, -0.11678,  0.02031, -0.10737,  0.18531,  0.04181,  0.03314,  0.04069,\n",
       "        0.02321, -0.03589,  0.02847,  0.1163 ,  0.02538, -0.09682,  0.07854,  0.00813, -0.05809, -0.03296,\n",
       "        0.07301,  0.13031,  0.09603, -0.01998, -0.1144 ,  0.0571 , -0.22418, -0.05606, -0.04296, -0.01443,\n",
       "        0.12083,  0.05386, -0.00277, -0.03233, -0.13574, -0.08797,  0.01036,  0.00046,  0.16372,  0.10024,\n",
       "       -0.02981, -0.00706,  0.10422, -0.15235, -0.05361, -0.15311, -0.04882, -0.1499 ,  0.10566, -0.00029,\n",
       "       -0.04939,  0.05636,  0.01247, -0.09659, -0.07416,  0.02241,  0.0644 , -0.1348 ,  0.05603, -0.03074,\n",
       "        0.0495 , -0.03736, -0.00382,  0.17167,  0.07661,  0.03146,  0.00037, -0.00213, -0.09753, -0.03004,\n",
       "       -0.12197,  0.01229, -0.09636,  0.07225,  0.12998,  0.2638 ,  0.07549, -0.07598,  0.14284,  0.00825,\n",
       "        0.09373, -0.11088,  0.04605,  0.02932,  0.01062, -0.07153, -0.04768,  0.03157, -0.12063, -0.03126,\n",
       "       -0.08783, -0.14447,  0.0363 , -0.0706 , -0.08594,  0.04578,  0.02481, -0.02998, -0.17201,  0.08839,\n",
       "        0.00642,  0.06518,  0.06583, -0.08741, -0.03252,  0.0308 , -0.07184,  0.13155,  0.00608,  0.1003 ,\n",
       "       -0.0423 , -0.13569,  0.06122,  0.05336,  0.30395, -0.02337, -0.08269,  0.04508, -0.01991,  0.0366 ,\n",
       "       -0.16951, -0.16591, -0.05956, -0.00609, -0.05078,  0.00014,  0.02036, -0.09798,  0.14282, -0.02251,\n",
       "       -0.03727,  0.04291,  0.05191, -0.02017, -0.03815, -0.01187,  0.03878,  0.06903,  0.04062, -0.10396,\n",
       "        0.1346 , -0.05838,  0.01349,  0.14092, -0.04219,  0.05216,  0.01674,  0.08533, -0.31059, -0.0197 ,\n",
       "       -0.02419, -0.04031, -0.00893, -0.08365,  0.00587, -0.03575, -0.03219,  0.19408, -0.12279,  0.12792,\n",
       "       -0.02402,  0.02138, -0.06208,  0.09929,  0.0129 ,  0.04176, -0.0021 , -0.04145, -0.1494 , -0.02811,\n",
       "       -0.01635, -0.0331 , -0.08641,  0.04709, -0.03456, -0.01909,  0.10636,  0.05459, -0.05444, -0.10243,\n",
       "       -0.00501, -0.04587,  0.07875, -0.04014,  0.10639, -0.04179, -0.01411,  0.0191 , -0.04443,  0.03125,\n",
       "       -0.10926,  0.06773, -0.02835,  0.07758,  0.16519,  0.09842, -0.0697 ,  0.01699,  0.10808,  0.03875,\n",
       "        0.02921, -0.02808,  0.09094, -0.01389,  0.00611,  0.06452, -0.0262 , -0.14146,  0.02321,  0.05769,\n",
       "       -0.03815, -0.26499, -0.18231,  0.00494, -0.08327,  0.08636,  0.04854,  0.10544,  0.05841,  0.0217 ,\n",
       "       -0.03437,  0.06641,  0.08052, -0.10242, -0.08781, -0.0647 ,  0.07392, -0.03199,  0.24975, -0.01651,\n",
       "        0.13525,  0.01305,  0.00244, -0.09572, -0.0819 ,  0.07003,  0.03508, -0.09188, -0.01308, -0.16565,\n",
       "       -0.04307, -0.13991,  0.04444,  0.05782,  0.13342,  0.04832, -0.04454,  0.01833,  0.01255,  0.14731,\n",
       "       -0.01999,  0.03689, -0.04988, -0.07929,  0.05608, -0.0471 , -0.00638,  0.05355, -0.05126, -0.01894,\n",
       "        0.02126,  0.12577,  0.0636 , -0.10977,  0.14644, -0.11049,  0.06214, -0.1135 ,  0.09612,  0.2228 ,\n",
       "        0.14394,  0.06277,  0.09462, -0.06453,  0.04373, -0.05915, -0.17705, -0.11386, -0.09588,  0.07351,\n",
       "        0.04608, -0.01957,  0.09227, -0.12356,  0.01627,  0.05917,  0.13488, -0.01082,  0.03217, -0.02947,\n",
       "        0.06498,  0.03228, -0.10601,  0.15213,  0.0592 , -0.00546,  0.02308, -0.03611, -0.07722,  0.02817,\n",
       "       -0.05513,  0.10217,  0.02204, -0.08048, -0.12397, -0.03029, -0.22455, -0.11769,  0.02041,  0.13304,\n",
       "        0.0239 , -0.0139 ,  0.04683, -0.01625,  0.03475,  0.03855, -0.03184, -0.03674, -0.08594, -0.01795,\n",
       "        0.0835 ,  0.10121,  0.03366,  0.02371,  0.07849,  0.16888, -0.10099, -0.00662,  0.03619, -0.10406,\n",
       "       -0.03567, -0.15037, -0.06986,  0.06277,  0.08127,  0.02139,  0.03096, -0.05244,  0.05867,  0.05634,\n",
       "       -0.05033, -0.0233 ,  0.09277,  0.2304 ,  0.06855, -0.04162,  0.00571,  0.04529, -0.07909,  0.06513,\n",
       "        0.0848 , -0.13332, -0.03736, -0.05024,  0.00204, -0.02875, -0.05718,  0.14155,  0.04926,  0.0337 ,\n",
       "        0.06649, -0.01408, -0.06301,  0.09454, -0.03879,  0.15648, -0.08521,  0.07277,  0.00052,  0.03797],\n",
       "      dtype=float32)"
      ]
     },
     "execution_count": 26,
     "metadata": {},
     "output_type": "execute_result"
    }
   ],
   "source": [
    "enc_wgts[stoi2['cargo']]"
   ]
  },
  {
   "cell_type": "markdown",
   "metadata": {},
   "source": [
    "Before we try to transfer the knowledge from wikitext to the TCU LM, we match up the vocab words and their indexes. \n",
    "We use the defaultdict container once again, to assign mean weights to unknown Senado tokens that do not exist in ptwiki_nandobr."
   ]
  },
  {
   "cell_type": "markdown",
   "metadata": {},
   "source": [
    "Alterei código abaixo para saber qtds (Borela)"
   ]
  },
  {
   "cell_type": "code",
   "execution_count": 27,
   "metadata": {
    "scrolled": true
   },
   "outputs": [
    {
     "name": "stdout",
     "output_type": "stream",
     "text": [
      "palavra não havia no modelo reaproveitado 12 xfld\n",
      "palavra não havia no modelo reaproveitado 485 ”\n",
      "palavra não havia no modelo reaproveitado 509 “\n",
      "palavra não havia no modelo reaproveitado 1007 –\n",
      "palavra não havia no modelo reaproveitado 1647 ‘\n",
      "palavra não havia no modelo reaproveitado 1916 p><p\n",
      "palavra não havia no modelo reaproveitado 2364 dsic\n",
      "palavra não havia no modelo reaproveitado 2417 gsipr\n",
      "palavra não havia no modelo reaproveitado 2446 montepio\n",
      "palavra não havia no modelo reaproveitado 2480 in01\n",
      "palavra não havia no modelo reaproveitado 2563 27.002\n",
      "palavra não havia no modelo reaproveitado 2621 i>.\n",
      "palavra não havia no modelo reaproveitado 2858 9.030\n",
      "palavra não havia no modelo reaproveitado 3094 3.738\n",
      "palavra não havia no modelo reaproveitado 3442 combatentes\n",
      "palavra não havia no modelo reaproveitado 3678 dai\n",
      "palavra não havia no modelo reaproveitado 3694 4.242\n",
      "palavra não havia no modelo reaproveitado 3917 \r\n",
      "\n",
      "palavra não havia no modelo reaproveitado 3986 27002\n",
      "palavra não havia no modelo reaproveitado 4047 vestibular\n",
      "palavra não havia no modelo reaproveitado 4049 gel\n",
      "palavra não havia no modelo reaproveitado 4064 9.277\n",
      "palavra não havia no modelo reaproveitado 4219 31.922\n",
      "palavra não havia no modelo reaproveitado 4220 guanabara\n",
      "palavra não havia no modelo reaproveitado 4275 betuminosos\n",
      "palavra não havia no modelo reaproveitado 4321 p><p><b\n",
      "palavra não havia no modelo reaproveitado 4345 contributivas\n",
      "palavra não havia no modelo reaproveitado 4463 conseqüente\n",
      "palavra não havia no modelo reaproveitado 4489 subseqüente\n",
      "palavra não havia no modelo reaproveitado 4556 8.248\n",
      "palavra não havia no modelo reaproveitado 4647 7.174\n",
      "palavra não havia no modelo reaproveitado 4683 exercentes\n",
      "palavra não havia no modelo reaproveitado 4729 inventariados\n",
      "palavra não havia no modelo reaproveitado 4794 federalista\n",
      "palavra não havia no modelo reaproveitado 4880 8.935\n",
      "palavra não havia no modelo reaproveitado 4897 conviveu\n",
      "palavra não havia no modelo reaproveitado 4901 7.923\n",
      "palavra não havia no modelo reaproveitado 4944 recibado\n",
      "palavra não havia no modelo reaproveitado 4951 empreitadas\n",
      "palavra não havia no modelo reaproveitado 4984 6.223\n",
      "palavra não havia no modelo reaproveitado 5002 10.486\n",
      "palavra não havia no modelo reaproveitado 5048 solteiras\n",
      "palavra não havia no modelo reaproveitado 5099 equiparam\n",
      "palavra não havia no modelo reaproveitado 5141 po4.3\n",
      "palavra não havia no modelo reaproveitado 5227 pan\n",
      "palavra não havia no modelo reaproveitado 5229 opas\n",
      "palavra não havia no modelo reaproveitado 5267 27.002:2005\n",
      "palavra não havia no modelo reaproveitado 5326 po4.12\n",
      "palavra não havia no modelo reaproveitado 5361 notários\n",
      "palavra não havia no modelo reaproveitado 5362 tabeliães\n",
      "palavra não havia no modelo reaproveitado 5363 serventias\n",
      "palavra não havia no modelo reaproveitado 5413 contributiva\n",
      "palavra não havia no modelo reaproveitado 5453 arquiva\n",
      "palavra não havia no modelo reaproveitado 5481 irreversivelmente\n",
      "palavra não havia no modelo reaproveitado 5510 8.069\n",
      "palavra não havia no modelo reaproveitado 5602 coativo\n",
      "palavra não havia no modelo reaproveitado 5604 conformam\n",
      "palavra não havia no modelo reaproveitado 5609 quintos’\n",
      "palavra não havia no modelo reaproveitado 5615 modifiquem\n",
      "palavra não havia no modelo reaproveitado 5634 po1\n",
      "palavra não havia no modelo reaproveitado 5644 8.387\n",
      "palavra não havia no modelo reaproveitado 5660 12.618\n",
      "palavra não havia no modelo reaproveitado 5726 11.143\n",
      "palavra não havia no modelo reaproveitado 5786 personalística\n",
      "palavra não havia no modelo reaproveitado 5823 congressistas\n",
      "palavra não havia no modelo reaproveitado 5887 gdac\n",
      "palavra não havia no modelo reaproveitado 5905 27002:2005\n",
      "palavra não havia no modelo reaproveitado 5930 9.985\n",
      "palavra não havia no modelo reaproveitado 5941 6.786\n",
      "palavra não havia no modelo reaproveitado 5947 satisfaçam\n",
      "palavra não havia no modelo reaproveitado 5957 po4.2\n",
      "palavra não havia no modelo reaproveitado 5958 permuta\n",
      "palavra não havia no modelo reaproveitado 5985 praticarem\n",
      "palavra não havia no modelo reaproveitado 6017 euvaldo\n",
      "palavra não havia no modelo reaproveitado 6063 gozadas\n",
      "palavra não havia no modelo reaproveitado 6078 i><b\n",
      "palavra não havia no modelo reaproveitado 6082 4.328\n",
      "palavra não havia no modelo reaproveitado 6102 po5.3\n",
      "palavra não havia no modelo reaproveitado 6113 indicarem\n",
      "palavra não havia no modelo reaproveitado 6119 ds9\n",
      "palavra não havia no modelo reaproveitado 6129 empate\n",
      "palavra não havia no modelo reaproveitado 6134 impossibilite\n",
      "palavra não havia no modelo reaproveitado 6137 chancelatório\n",
      "palavra não havia no modelo reaproveitado 6168 delegatárias\n",
      "palavra não havia no modelo reaproveitado 6258 simultaneidade\n",
      "palavra não havia no modelo reaproveitado 6264 descaracterize\n",
      "palavra não havia no modelo reaproveitado 6276 excederem\n",
      "palavra não havia no modelo reaproveitado 6296 vestibulares\n",
      "palavra não havia no modelo reaproveitado 6303 12.232\n",
      "palavra não havia no modelo reaproveitado 6306 subestimado\n",
      "palavra não havia no modelo reaproveitado 6340 revenda\n",
      "palavra não havia no modelo reaproveitado 6344 protegendo\n",
      "palavra não havia no modelo reaproveitado 6345 17799:2005\n",
      "palavra não havia no modelo reaproveitado 6348 ict\n",
      "palavra não havia no modelo reaproveitado 6365 quantitativamente\n",
      "palavra não havia no modelo reaproveitado 6366 inviabilize\n",
      "palavra não havia no modelo reaproveitado 6381 4.553\n",
      "palavra não havia no modelo reaproveitado 6397 recompensa\n",
      "palavra não havia no modelo reaproveitado 6465 acumulável\n",
      "palavra não havia no modelo reaproveitado 6471 interfiram\n",
      "palavra não havia no modelo reaproveitado 6484 gerirem\n",
      "palavra não havia no modelo reaproveitado 6491 mlpua\n",
      "palavra não havia no modelo reaproveitado 6497 monitoria\n",
      "palavra não havia no modelo reaproveitado 6509 5.057\n",
      "palavra não havia no modelo reaproveitado 6540 partilhar\n",
      "palavra não havia no modelo reaproveitado 6542 púbicos\n",
      "palavra não havia no modelo reaproveitado 6549 mensalidades\n",
      "palavra não havia no modelo reaproveitado 6656 gozarem\n",
      "palavra não havia no modelo reaproveitado 6660 fistel\n",
      "palavra não havia no modelo reaproveitado 6662 fust\n",
      "palavra não havia no modelo reaproveitado 6677 locatária\n",
      "palavra não havia no modelo reaproveitado 6683 turn\n",
      "palavra não havia no modelo reaproveitado 6684 key\n",
      "palavra não havia no modelo reaproveitado 6685 54.466\n",
      "palavra não havia no modelo reaproveitado 6689 assumam\n",
      "palavra não havia no modelo reaproveitado 6695 protótipos\n",
      "palavra não havia no modelo reaproveitado 6713 eletivos\n",
      "palavra não havia no modelo reaproveitado 6757 sucumbente\n",
      "palavra não havia no modelo reaproveitado 6782 mlpg\n",
      "palavra não havia no modelo reaproveitado 6784 consanguíneos\n",
      "palavra não havia no modelo reaproveitado 6788 po10.2\n",
      "palavra não havia no modelo reaproveitado 6796 prescindem\n",
      "palavra não havia no modelo reaproveitado 6803 p><p>​\n",
      "palavra não havia no modelo reaproveitado 6831 excepcionada\n",
      "palavra não havia no modelo reaproveitado 6837 —\n",
      "palavra não havia no modelo reaproveitado 6876 4.978\n",
      "palavra não havia no modelo reaproveitado 6909 geap\n",
      "palavra não havia no modelo reaproveitado 6913 6.701\n",
      "palavra não havia no modelo reaproveitado 6915 conjugal\n",
      "palavra não havia no modelo reaproveitado 6918 5.3.7.2\n",
      "palavra não havia no modelo reaproveitado 6921 solicitador\n",
      "palavra não havia no modelo reaproveitado 6940 sobreaviso\n",
      "palavra não havia no modelo reaproveitado 6947 po7.4\n",
      "palavra não havia no modelo reaproveitado 6970 6.525\n",
      "palavra não havia no modelo reaproveitado 6990 9.655\n",
      "palavra não havia no modelo reaproveitado 7035 doador\n",
      "palavra não havia no modelo reaproveitado 7053 competidor\n",
      "palavra não havia no modelo reaproveitado 7069 ds8\n",
      "palavra não havia no modelo reaproveitado 7073 togados\n",
      "palavra não havia no modelo reaproveitado 7081 falsificado\n",
      "palavra não havia no modelo reaproveitado 7110 traduza\n",
      "palavra não havia no modelo reaproveitado 7138 cmmi\n",
      "palavra não havia no modelo reaproveitado 7139 mps.br\n",
      "palavra não havia no modelo reaproveitado 7162 participarão\n",
      "palavra não havia no modelo reaproveitado 7165 redutores\n",
      "palavra não havia no modelo reaproveitado 7172 pleiteante\n",
      "palavra não havia no modelo reaproveitado 7234 ds5.2\n",
      "palavra não havia no modelo reaproveitado 7235 itgi\n",
      "palavra não havia no modelo reaproveitado 7239 6.683\n",
      "palavra não havia no modelo reaproveitado 7243 10.176\n",
      "palavra não havia no modelo reaproveitado 7244 11.077\n",
      "palavra não havia no modelo reaproveitado 7248 jetons\n",
      "palavra não havia no modelo reaproveitado 7260 9000\n",
      "palavra não havia no modelo reaproveitado 7283 9.702\n",
      "palavra não havia no modelo reaproveitado 7300 subpreços\n",
      "palavra não havia no modelo reaproveitado 7307 9.528\n",
      "palavra não havia no modelo reaproveitado 7308 incapacitação\n",
      "palavra não havia no modelo reaproveitado 7368 representem\n",
      "palavra não havia no modelo reaproveitado 7372 escapa\n",
      "palavra não havia no modelo reaproveitado 7381 bios\n",
      "palavra não havia no modelo reaproveitado 7382 inexeqüibilidade\n",
      "palavra não havia no modelo reaproveitado 7386 9.472\n",
      "palavra não havia no modelo reaproveitado 7391 1.709\n",
      "palavra não havia no modelo reaproveitado 7401 gaj\n",
      "palavra não havia no modelo reaproveitado 7407 preexistentes\n",
      "palavra não havia no modelo reaproveitado 7416 cessando\n",
      "palavra não havia no modelo reaproveitado 7425 preceda\n",
      "palavra não havia no modelo reaproveitado 7434 exonera\n",
      "palavra não havia no modelo reaproveitado 7456 privativamente\n",
      "palavra não havia no modelo reaproveitado 7461 4.069\n",
      "palavra não havia no modelo reaproveitado 7468 9.849\n",
      "palavra não havia no modelo reaproveitado 7477 3.917\n",
      "palavra não havia no modelo reaproveitado 7480 situem\n",
      "palavra não havia no modelo reaproveitado 7489 6.620\n",
      "palavra não havia no modelo reaproveitado 7514 ostentarem\n",
      "palavra não havia no modelo reaproveitado 7520 \r\n",
      "\r\n",
      " \n",
      "palavra não havia no modelo reaproveitado 7525 vulnerar\n",
      "palavra não havia no modelo reaproveitado 7533 cub\n",
      "palavra não havia no modelo reaproveitado 7541 funpen\n",
      "palavra não havia no modelo reaproveitado 7543 componham\n",
      "palavra não havia no modelo reaproveitado 7555 gold\n",
      "palavra não havia no modelo reaproveitado 7558 criativo\n",
      "palavra não havia no modelo reaproveitado 7559 nortearão\n",
      "palavra não havia no modelo reaproveitado 7564 3.594\n",
      "palavra não havia no modelo reaproveitado 7576 redigidos\n",
      "palavra não havia no modelo reaproveitado 7581 coquetéis\n",
      "palavra não havia no modelo reaproveitado 7602 po5.5\n",
      "palavra não havia no modelo reaproveitado 7617 12.349\n",
      "palavra não havia no modelo reaproveitado 7623 3.058\n",
      "palavra não havia no modelo reaproveitado 7642 ai6.1\n",
      "palavra não havia no modelo reaproveitado 7643 ai6.5\n",
      "palavra não havia no modelo reaproveitado 7653 superavaliados\n",
      "palavra não havia no modelo reaproveitado 7654 subavaliados\n",
      "palavra não havia no modelo reaproveitado 7673 pbqp\n",
      "palavra não havia no modelo reaproveitado 7677 refaça\n",
      "palavra não havia no modelo reaproveitado 7680 alternância\n",
      "palavra não havia no modelo reaproveitado 7689 89.496\n",
      "palavra não havia no modelo reaproveitado 7691 arrecadarem\n",
      "palavra não havia no modelo reaproveitado 7706 ilididas\n",
      "palavra não havia no modelo reaproveitado 7707 cbpf\n",
      "palavra não havia no modelo reaproveitado 7718 transigências\n",
      "palavra não havia no modelo reaproveitado 7720 stip\n",
      "palavra não havia no modelo reaproveitado 7721 uber\n",
      "palavra não havia no modelo reaproveitado 7722 cabify\n",
      "palavra não havia no modelo reaproveitado 7748 implicarem\n",
      "palavra não havia no modelo reaproveitado 7764 quinquênios\n",
      "palavra não havia no modelo reaproveitado 7765 ita\n",
      "palavra não havia no modelo reaproveitado 7766 subavaliação\n",
      "palavra não havia no modelo reaproveitado 7767 analogias\n",
      "palavra não havia no modelo reaproveitado 7772 irredutível\n",
      "palavra não havia no modelo reaproveitado 7773 diversificadas\n",
      "palavra não havia no modelo reaproveitado 7796 7.333\n",
      "palavra não havia no modelo reaproveitado 7803 cotistas\n",
      "palavra não havia no modelo reaproveitado 7830 dificultem\n",
      "palavra não havia no modelo reaproveitado 7849 po7.2\n",
      "palavra não havia no modelo reaproveitado 7850 pbqph\n",
      "palavra não havia no modelo reaproveitado 7853 obreiro\n",
      "palavra não havia no modelo reaproveitado 7880 exploradoras\n",
      "palavra não havia no modelo reaproveitado 7881 assegurava\n",
      "palavra não havia no modelo reaproveitado 7903 licenciar\n",
      "palavra não havia no modelo reaproveitado 7908 banido\n",
      "palavra não havia no modelo reaproveitado 7914 po4.8\n",
      "palavra não havia no modelo reaproveitado 7915 po9.6\n",
      "palavra não havia no modelo reaproveitado 7923 viole\n",
      "palavra não havia no modelo reaproveitado 7924 esporádica\n",
      "palavra não havia no modelo reaproveitado 7927 2⁰\n",
      "palavra não havia no modelo reaproveitado 7931 14.1.4\n",
      "palavra não havia no modelo reaproveitado 7932 14.1.5\n",
      "palavra não havia no modelo reaproveitado 7935 prismas\n",
      "palavra não havia no modelo reaproveitado 7936 vantajosamente\n",
      "palavra não havia no modelo reaproveitado 7938 retribuições\n",
      "palavra não havia no modelo reaproveitado 7946 induza\n",
      "palavra não havia no modelo reaproveitado 7962 onerosidade\n",
      "palavra não havia no modelo reaproveitado 7964 licito\n",
      "palavra não havia no modelo reaproveitado 7976 inquestionavelmente\n",
      "palavra não havia no modelo reaproveitado 7990 gal\n",
      "palavra não havia no modelo reaproveitado 8025 imprecisos\n",
      "palavra não havia no modelo reaproveitado 8026 filantrópica\n",
      "palavra não havia no modelo reaproveitado 8027 1.015\n",
      "palavra não havia no modelo reaproveitado 8038 vendidas\n",
      "palavra não havia no modelo reaproveitado 8040 aliados\n",
      "palavra não havia no modelo reaproveitado 8044 ds4\n",
      "palavra não havia no modelo reaproveitado 8046 vedem\n",
      "palavra não havia no modelo reaproveitado 8059 2º-e\n",
      "palavra não havia no modelo reaproveitado 8086 ionizante\n",
      "palavra não havia no modelo reaproveitado 8091 falecendo\n",
      "palavra não havia no modelo reaproveitado 8100 computa\n",
      "palavra não havia no modelo reaproveitado 8137 etílico\n",
      "palavra não havia no modelo reaproveitado 8149 revisores\n",
      "palavra não havia no modelo reaproveitado 8152 contrabalanceada\n",
      "palavra não havia no modelo reaproveitado 8153 barganha\n",
      "palavra não havia no modelo reaproveitado 8154 depreciações\n",
      "palavra não havia no modelo reaproveitado 8155 ultrapassadas\n",
      "palavra não havia no modelo reaproveitado 8168 inacessível\n",
      "palavra não havia no modelo reaproveitado 8173 padronizável\n",
      "palavra não havia no modelo reaproveitado 8182 17799\n",
      "palavra não havia no modelo reaproveitado 8188 reabre\n",
      "palavra não havia no modelo reaproveitado 8194 pae\n",
      "palavra não havia no modelo reaproveitado 8200 licenciador\n",
      "palavra não havia no modelo reaproveitado 8203 lanchonetes\n",
      "palavra não havia no modelo reaproveitado 8210 9.640\n",
      "palavra não havia no modelo reaproveitado 8212 oracle\n",
      "palavra não havia no modelo reaproveitado 8214 reexamine\n",
      "palavra não havia no modelo reaproveitado 8220 10.633\n",
      "palavra não havia no modelo reaproveitado 8225 conduzirá\n",
      "palavra não havia no modelo reaproveitado 8230 5.3.7.3\n",
      "palavra não havia no modelo reaproveitado 8231 contaminam\n",
      "palavra não havia no modelo reaproveitado 8255 afrontem\n",
      "palavra não havia no modelo reaproveitado 8263 13.464\n",
      "palavra não havia no modelo reaproveitado 8270 b>.\n",
      "palavra não havia no modelo reaproveitado 8278 abranja\n",
      "palavra não havia no modelo reaproveitado 8283 indenizatórias\n",
      "palavra não havia no modelo reaproveitado 8290 equiparado\n",
      "palavra não havia no modelo reaproveitado 8323 despreza\n",
      "palavra não havia no modelo reaproveitado 8337 8.216\n",
      "palavra não havia no modelo reaproveitado 8367 contrarremuneração\n",
      "palavra não havia no modelo reaproveitado 8370 cascalheiras\n",
      "palavra não havia no modelo reaproveitado 8385 avisar\n",
      "palavra não havia no modelo reaproveitado 8394 especialíssimos\n",
      "palavra não havia no modelo reaproveitado 8400 imissão\n",
      "palavra não havia no modelo reaproveitado 8418 depositário\n",
      "palavra não havia no modelo reaproveitado 8431 reingressaram\n",
      "palavra não havia no modelo reaproveitado 8436 48-a\n",
      "palavra não havia no modelo reaproveitado 8437 consentâneos\n",
      "palavra não havia no modelo reaproveitado 8452 assinam\n",
      "palavra não havia no modelo reaproveitado 8461 preceder\n",
      "palavra não havia no modelo reaproveitado 8469 po8.3\n",
      "palavra não havia no modelo reaproveitado 8479 paralímpicos\n",
      "palavra não havia no modelo reaproveitado 8480 ineditismo\n",
      "palavra não havia no modelo reaproveitado 8488 10.559\n",
      "palavra não havia no modelo reaproveitado 8496 custeando\n",
      "palavra não havia no modelo reaproveitado 8502 1⁰\n",
      "palavra não havia no modelo reaproveitado 8504 desprezando\n",
      "palavra não havia no modelo reaproveitado 8536 discrimine\n",
      "palavra não havia no modelo reaproveitado 8548 desconstituam\n",
      "palavra não havia no modelo reaproveitado 8568 inverossímeis\n",
      "palavra não havia no modelo reaproveitado 8569 proporcionam\n",
      "palavra não havia no modelo reaproveitado 8576 60950\n",
      "palavra não havia no modelo reaproveitado 8577 indenizados\n",
      "palavra não havia no modelo reaproveitado 8580 leiloeiro\n",
      "qtd ausente: 300\n"
     ]
    }
   ],
   "source": [
    "new_w = np.zeros((vs, em_sz), dtype=np.float32)\n",
    "qtd_ausente = 0\n",
    "for i,w in enumerate(itos):\n",
    "    r = stoi2[w]\n",
    "    if r>=0:\n",
    "        new_w[i] = enc_wgts[r]  \n",
    "    else:\n",
    "        new_w[i] = row_m\n",
    "        #print('palavra não havia na wiki', i, w, freq[w])\n",
    "        print('palavra não havia no modelo reaproveitado', i, w)\n",
    "        qtd_ausente += 1\n",
    "print('qtd ausente:', qtd_ausente)"
   ]
  },
  {
   "cell_type": "markdown",
   "metadata": {},
   "source": [
    "300 (3%) palavras ausentes: xfld, montepio, assinam, etc\n",
    "(Anotação de Borela)"
   ]
  },
  {
   "cell_type": "markdown",
   "metadata": {},
   "source": [
    "We now overwrite the weights into the wgts odict.\n",
    "The decoder module, which we will explore in detail is also loaded with the same weights due to an idea called weight tying."
   ]
  },
  {
   "cell_type": "code",
   "execution_count": 24,
   "metadata": {},
   "outputs": [],
   "source": [
    "??T"
   ]
  },
  {
   "cell_type": "markdown",
   "metadata": {},
   "source": [
    "Coloquei cuda=False para não dar erro de memória"
   ]
  },
  {
   "cell_type": "code",
   "execution_count": 28,
   "metadata": {},
   "outputs": [
    {
     "data": {
      "text/plain": [
       "\n",
       "-2.4362e-01  9.8448e-02  8.2343e-02  ...   2.4960e-01 -5.6796e-03  4.6838e-02\n",
       "-5.1188e-02 -3.8364e-02 -4.3567e-01  ...  -5.9254e-02  6.2971e-03 -4.7083e-03\n",
       "-5.4711e-02  2.2545e-02 -1.9539e-01  ...   8.2766e-02 -3.8843e-02  7.3945e-02\n",
       "                ...                   ⋱                   ...                \n",
       "-1.6831e-01 -1.1835e-02 -4.7351e-01  ...  -8.5141e-02  2.7722e-02 -7.8397e-03\n",
       "-7.7045e-02 -5.8913e-02 -4.7609e-01  ...  -4.5969e-02  2.0786e-02 -2.5464e-02\n",
       "-1.1505e-01  3.8582e-02 -4.8247e-01  ...  -1.3447e-01 -2.4166e-02  7.1570e-02\n",
       "[torch.cuda.FloatTensor of size 8603x400 (GPU 0)]"
      ]
     },
     "execution_count": 28,
     "metadata": {},
     "output_type": "execute_result"
    }
   ],
   "source": [
    "T(new_w)"
   ]
  },
  {
   "cell_type": "code",
   "execution_count": 29,
   "metadata": {
    "scrolled": true
   },
   "outputs": [],
   "source": [
    "wgts['0.encoder.weight'] = T(new_w) #, cuda=False)\n"
   ]
  },
  {
   "cell_type": "markdown",
   "metadata": {},
   "source": [
    "Now that we have the weights prepared, we are ready to create and start training our new TCU language pytorch model!"
   ]
  },
  {
   "cell_type": "code",
   "execution_count": 30,
   "metadata": {},
   "outputs": [],
   "source": [
    "wgts['0.encoder_with_dropout.embed.weight'] = T(np.copy(new_w)) # , cuda=False)\n",
    "wgts['1.decoder.weight'] = T(np.copy(new_w)) #, cuda=False)"
   ]
  },
  {
   "cell_type": "markdown",
   "metadata": {},
   "source": [
    "## TCU Language model"
   ]
  },
  {
   "cell_type": "markdown",
   "metadata": {},
   "source": [
    "It is fairly straightforward to create a new language model using the fastai library. Like every other lesson, our model will have a backbone and a custom head. The backbone in our case is the Senado LM pre-trained with wikitext and the custom head is a linear classifier. In this section we will focus on the backbone LM and the next section will talk about the classifier custom head.\n",
    "\n",
    "bptt (*also known traditionally in NLP LM as ngrams*) in fastai LMs is approximated to a std. deviation around 70, by perturbing the sequence length on a per-batch basis. This is akin to shuffling our data in computer vision, only that in NLP we cannot shuffle inputs and we have to maintain statefulness. \n",
    "\n",
    "Since we are predicting words using ngrams, we want our next batch to line up with the end-points of the previous mini-batch's items. batch-size is constant and but the fastai library expands and contracts bptt each mini-batch using a clever stochastic implementation of a batch. (original credits attributed to [Smerity](https://twitter.com/jeremyphoward/status/980227258395770882))"
   ]
  },
  {
   "cell_type": "markdown",
   "metadata": {},
   "source": [
    "Passo para rexecução "
   ]
  },
  {
   "cell_type": "code",
   "execution_count": 31,
   "metadata": {},
   "outputs": [],
   "source": [
    "wd=1e-7\n",
    "bptt=70\n",
    "bs=52\n",
    "opt_fn = partial(optim.Adam, betas=(0.8, 0.99))"
   ]
  },
  {
   "cell_type": "markdown",
   "metadata": {},
   "source": [
    "The goal of the LM is to learn to predict a word/token given a preceeding set of words(tokens). We take all the movie reviews in both the 90k training set and 10k validation set and concatenate them to form long strings of tokens. In fastai, we use the `LanguageModelLoader` to create a data loader which makes it easy to create and use bptt sized mini batches. The  `LanguageModelLoader` takes a concatenated string of tokens and returns a loader.\n",
    "\n",
    "We have a special modeldata object class for LMs called `LanguageModelData` to which we can pass the training and validation loaders and get in return the model itself."
   ]
  },
  {
   "cell_type": "markdown",
   "metadata": {},
   "source": [
    "Passo para rexecução "
   ]
  },
  {
   "cell_type": "code",
   "execution_count": 32,
   "metadata": {},
   "outputs": [],
   "source": [
    "trn_lm = np.load(LM_PATH/'tmp'/'trn_ids.npy')\n",
    "val_lm = np.load(LM_PATH/'tmp'/'val_ids.npy')"
   ]
  },
  {
   "cell_type": "code",
   "execution_count": 33,
   "metadata": {},
   "outputs": [],
   "source": [
    "trn_dl = LanguageModelLoader(np.concatenate(trn_lm), bs, bptt)\n",
    "val_dl = LanguageModelLoader(np.concatenate(val_lm), bs, bptt)"
   ]
  },
  {
   "cell_type": "code",
   "execution_count": 34,
   "metadata": {},
   "outputs": [],
   "source": [
    "md = LanguageModelData(PATH, 1, vs, trn_dl, val_dl, bs=bs, bptt=bptt)"
   ]
  },
  {
   "cell_type": "markdown",
   "metadata": {},
   "source": [
    "We setup the dropouts for the model - these values have been chosen after experimentation. If you need to update them for custom LMs, you can change the weighting factor (0.7 here) based on the amount of data you have. For more data, you can reduce dropout factor and for small datasets, you can reduce overfitting by choosing a higher dropout factor. *No other dropout value requires tuning*"
   ]
  },
  {
   "cell_type": "markdown",
   "metadata": {},
   "source": [
    "Parâmetro a variar: 0.7 (Borela)"
   ]
  },
  {
   "cell_type": "code",
   "execution_count": 35,
   "metadata": {},
   "outputs": [],
   "source": [
    "drops = np.array([0.25, 0.1, 0.2, 0.02, 0.15])*0.7"
   ]
  },
  {
   "cell_type": "markdown",
   "metadata": {},
   "source": [
    "We first tune the last embedding layer so that the missing tokens initialized with mean weights get tuned properly. So we freeze everything except the last layer.\n",
    "\n",
    "We also keep track of the *accuracy* metric."
   ]
  },
  {
   "cell_type": "code",
   "execution_count": 36,
   "metadata": {},
   "outputs": [],
   "source": [
    "learner= md.get_model(opt_fn, em_sz, nh, nl, \n",
    "    dropouti=drops[0], dropout=drops[1], wdrop=drops[2], dropoute=drops[3], dropouth=drops[4])\n",
    "\n",
    "learner.metrics = [accuracy]\n",
    "learner.freeze_to(-1)"
   ]
  },
  {
   "cell_type": "code",
   "execution_count": 42,
   "metadata": {},
   "outputs": [
    {
     "name": "stdout",
     "output_type": "stream",
     "text": [
      "0.encoder.weight \n",
      "-2.4362e-01  9.8448e-02  8.2343e-02  ...   2.4960e-01 -5.6796e-03  4.6838e-02\n",
      "-5.1188e-02 -3.8364e-02 -4.3567e-01  ...  -5.9254e-02  6.2971e-03 -4.7083e-03\n",
      "-5.4711e-02  2.2545e-02 -1.9539e-01  ...   8.2766e-02 -3.8843e-02  7.3945e-02\n",
      "                ...                   ⋱                   ...                \n",
      "-1.6831e-01 -1.1835e-02 -4.7351e-01  ...  -8.5141e-02  2.7722e-02 -7.8397e-03\n",
      "-7.7045e-02 -5.8913e-02 -4.7609e-01  ...  -4.5969e-02  2.0786e-02 -2.5464e-02\n",
      "-1.1505e-01  3.8582e-02 -4.8247e-01  ...  -1.3447e-01 -2.4166e-02  7.1570e-02\n",
      "[torch.cuda.FloatTensor of size 8603x400 (GPU 0)]\n",
      "\n",
      "0.encoder_with_dropout.embed.weight \n",
      "-2.4362e-01  9.8448e-02  8.2343e-02  ...   2.4960e-01 -5.6796e-03  4.6838e-02\n",
      "-5.1188e-02 -3.8364e-02 -4.3567e-01  ...  -5.9254e-02  6.2971e-03 -4.7083e-03\n",
      "-5.4711e-02  2.2545e-02 -1.9539e-01  ...   8.2766e-02 -3.8843e-02  7.3945e-02\n",
      "                ...                   ⋱                   ...                \n",
      "-1.6831e-01 -1.1835e-02 -4.7351e-01  ...  -8.5141e-02  2.7722e-02 -7.8397e-03\n",
      "-7.7045e-02 -5.8913e-02 -4.7609e-01  ...  -4.5969e-02  2.0786e-02 -2.5464e-02\n",
      "-1.1505e-01  3.8582e-02 -4.8247e-01  ...  -1.3447e-01 -2.4166e-02  7.1570e-02\n",
      "[torch.cuda.FloatTensor of size 8603x400 (GPU 0)]\n",
      "\n",
      "0.rnns.0.module.weight_ih_l0 \n",
      " 9.2201e-02  5.0418e-02  1.0044e-02  ...  -1.5243e-01 -6.3355e-02  1.8644e-01\n",
      " 1.1587e-01  1.1236e-01  4.8728e-02  ...   1.4253e-01  1.1272e-02 -1.4503e-01\n",
      " 4.2957e-02  7.4864e-04 -4.0929e-02  ...  -8.8532e-02 -7.5207e-02  1.1121e-01\n",
      "                ...                   ⋱                   ...                \n",
      "-6.3147e-02 -1.0776e-01  8.4903e-03  ...  -3.8101e-02 -4.5869e-03 -3.2804e-02\n",
      "-8.3687e-02 -1.2541e-01 -2.5931e-01  ...  -6.0297e-02 -8.0749e-02  4.3903e-03\n",
      " 9.0732e-02  3.6011e-02  1.4562e-02  ...   1.8525e-02  1.1072e-01  1.6946e-02\n",
      "[torch.FloatTensor of size 4600x400]\n",
      "\n",
      "0.rnns.0.module.bias_ih_l0 \n",
      "-0.0509\n",
      " 0.2922\n",
      "-0.0400\n",
      "   ⋮   \n",
      " 0.1207\n",
      " 0.0426\n",
      " 0.0259\n",
      "[torch.FloatTensor of size 4600]\n",
      "\n",
      "0.rnns.0.module.bias_hh_l0 \n",
      "-3.8698e-02\n",
      " 2.6968e-01\n",
      "-1.9762e-02\n",
      "     ⋮     \n",
      " 1.1821e-01\n",
      " 1.6768e-02\n",
      " 5.6927e-02\n",
      "[torch.FloatTensor of size 4600]\n",
      "\n",
      "0.rnns.0.module.weight_hh_l0_raw \n",
      "-3.8329e-02  2.3987e-02  6.7509e-02  ...  -6.0326e-02 -4.2645e-02  6.1501e-03\n",
      " 8.9527e-02 -8.4604e-02 -1.8366e-01  ...   7.3041e-03  4.6521e-02 -4.7203e-03\n",
      " 2.0801e-02  5.0306e-02 -3.0557e-02  ...  -3.8397e-02  1.0237e-02  7.6957e-02\n",
      "                ...                   ⋱                   ...                \n",
      " 2.3537e-02 -1.2721e-01 -7.5506e-02  ...  -4.0642e-02  5.3309e-02  1.9655e-02\n",
      " 2.2084e-02  5.0942e-02 -2.3870e-02  ...   5.4950e-02  1.0076e-02  7.3476e-02\n",
      " 8.5773e-02  1.7844e-02 -1.1160e-01  ...   4.7121e-02 -2.2021e-02  9.1508e-03\n",
      "[torch.FloatTensor of size 4600x1150]\n",
      "\n",
      "0.rnns.1.module.weight_ih_l0 \n",
      " 4.4539e-02  3.5245e-02 -3.4014e-02  ...  -5.0218e-03  3.2394e-02  1.5900e-02\n",
      "-4.3403e-04 -2.5448e-02 -9.3271e-02  ...   1.6936e-02  7.7308e-02 -1.7972e-02\n",
      " 2.9657e-02 -8.2400e-03 -2.0074e-02  ...   2.0148e-02  3.9463e-03 -9.7338e-05\n",
      "                ...                   ⋱                   ...                \n",
      "-7.6832e-03 -3.1763e-02  3.4603e-02  ...   2.3455e-02  4.7604e-02  1.0909e-01\n",
      " 8.6798e-03  3.3171e-01  1.8027e-02  ...  -3.6746e-02 -8.4997e-02 -1.2482e-01\n",
      "-7.1560e-02 -9.6192e-02  1.4699e-02  ...   8.7072e-03 -3.8680e-02  2.0846e-02\n",
      "[torch.FloatTensor of size 4600x1150]\n",
      "\n",
      "0.rnns.1.module.bias_ih_l0 \n",
      " 0.0537\n",
      "-0.0087\n",
      " 0.0268\n",
      "   ⋮   \n",
      " 0.0447\n",
      "-0.0733\n",
      " 0.0218\n",
      "[torch.FloatTensor of size 4600]\n",
      "\n",
      "0.rnns.1.module.bias_hh_l0 \n",
      " 0.0344\n",
      "-0.0352\n",
      " 0.0580\n",
      "   ⋮   \n",
      " 0.0887\n",
      "-0.0381\n",
      " 0.0471\n",
      "[torch.FloatTensor of size 4600]\n",
      "\n",
      "0.rnns.1.module.weight_hh_l0_raw \n",
      " 7.6175e-02 -2.8975e-02  1.6440e-02  ...   2.3202e-02 -3.3575e-03  2.8412e-02\n",
      "-8.7673e-02  4.1590e-03 -7.8335e-03  ...  -2.1493e-02 -4.6690e-02 -1.7298e-02\n",
      " 8.8495e-03 -8.6372e-02 -4.0356e-02  ...   2.5890e-02 -2.9735e-02  4.3313e-02\n",
      "                ...                   ⋱                   ...                \n",
      " 8.4476e-05 -1.2085e-02  8.4314e-02  ...   3.7939e-02 -1.0327e-01  1.2771e-01\n",
      " 4.7174e-02  2.0432e-02 -7.3964e-02  ...   1.8212e-02  3.6571e-02 -2.7727e-04\n",
      " 2.5652e-02 -2.8497e-02  6.9943e-02  ...  -2.6300e-02 -3.5718e-03 -3.1918e-02\n",
      "[torch.FloatTensor of size 4600x1150]\n",
      "\n",
      "0.rnns.2.module.weight_ih_l0 \n",
      " 3.0612e-02 -8.2748e-02  4.2672e-02  ...  -9.3876e-02 -9.6808e-02  1.3702e-02\n",
      "-1.1283e-01 -4.0172e-02  6.3361e-02  ...  -5.0282e-02 -7.9151e-03 -2.3417e-01\n",
      " 3.5156e-03  4.4838e-03  3.3200e-02  ...  -2.0310e-02  4.7090e-02 -4.2086e-03\n",
      "                ...                   ⋱                   ...                \n",
      " 4.9748e-02 -8.0790e-02  6.9684e-02  ...   1.5787e-02 -1.2237e-01  6.1354e-02\n",
      " 3.8719e-03  2.4525e-02 -6.6043e-02  ...  -5.8893e-02 -4.3176e-02 -2.4565e-02\n",
      " 9.1108e-02 -8.7401e-02  3.8622e-02  ...  -1.0565e-01 -5.5344e-02  1.0138e-01\n",
      "[torch.FloatTensor of size 1600x1150]\n",
      "\n",
      "0.rnns.2.module.bias_ih_l0 \n",
      " 0.0552\n",
      "-0.0121\n",
      " 0.0031\n",
      "   ⋮   \n",
      " 0.1257\n",
      " 0.1097\n",
      " 0.0995\n",
      "[torch.FloatTensor of size 1600]\n",
      "\n",
      "0.rnns.2.module.bias_hh_l0 \n",
      " 0.0177\n",
      " 0.0620\n",
      " 0.0208\n",
      "   ⋮   \n",
      " 0.1375\n",
      " 0.0994\n",
      " 0.1274\n",
      "[torch.FloatTensor of size 1600]\n",
      "\n",
      "0.rnns.2.module.weight_hh_l0_raw \n",
      " 3.7857e-02  1.8701e-03 -4.9172e-03  ...   6.1163e-03 -1.2239e-02  9.3976e-02\n",
      "-1.3468e-02  5.0524e-02  1.0234e-01  ...  -3.4938e-02 -8.7868e-02 -2.4595e-02\n",
      " 2.4373e-02 -1.1393e-02  1.1691e-01  ...  -6.7824e-02  1.4283e-02 -1.0310e-02\n",
      "                ...                   ⋱                   ...                \n",
      "-5.9037e-02  1.9170e-02  8.1580e-02  ...   5.7554e-02 -6.3806e-03  1.6764e-02\n",
      " 1.4181e-01  6.4035e-02  3.5102e-02  ...  -1.8933e-02  1.7842e-02 -1.5910e-02\n",
      " 1.0309e-01  7.6621e-03  1.5513e-01  ...  -2.9553e-02  6.6563e-02  4.5021e-02\n",
      "[torch.FloatTensor of size 1600x400]\n",
      "\n",
      "1.decoder.weight \n",
      "-2.4362e-01  9.8448e-02  8.2343e-02  ...   2.4960e-01 -5.6796e-03  4.6838e-02\n",
      "-5.1188e-02 -3.8364e-02 -4.3567e-01  ...  -5.9254e-02  6.2971e-03 -4.7083e-03\n",
      "-5.4711e-02  2.2545e-02 -1.9539e-01  ...   8.2766e-02 -3.8843e-02  7.3945e-02\n",
      "                ...                   ⋱                   ...                \n",
      "-1.6831e-01 -1.1835e-02 -4.7351e-01  ...  -8.5141e-02  2.7722e-02 -7.8397e-03\n",
      "-7.7045e-02 -5.8913e-02 -4.7609e-01  ...  -4.5969e-02  2.0786e-02 -2.5464e-02\n",
      "-1.1505e-01  3.8582e-02 -4.8247e-01  ...  -1.3447e-01 -2.4166e-02  7.1570e-02\n",
      "[torch.cuda.FloatTensor of size 8603x400 (GPU 0)]\n",
      "\n"
     ]
    }
   ],
   "source": [
    "for name, param in wgts.items():\n",
    "    print(name, param)"
   ]
  },
  {
   "cell_type": "code",
   "execution_count": 37,
   "metadata": {
    "scrolled": true
   },
   "outputs": [
    {
     "data": {
      "text/plain": [
       "SequentialRNN(\n",
       "  (0): RNN_Encoder(\n",
       "    (encoder): Embedding(8603, 400, padding_idx=1)\n",
       "    (encoder_with_dropout): EmbeddingDropout(\n",
       "      (embed): Embedding(8603, 400, padding_idx=1)\n",
       "    )\n",
       "    (rnns): ModuleList(\n",
       "      (0): WeightDrop(\n",
       "        (module): LSTM(400, 1150)\n",
       "      )\n",
       "      (1): WeightDrop(\n",
       "        (module): LSTM(1150, 1150)\n",
       "      )\n",
       "      (2): WeightDrop(\n",
       "        (module): LSTM(1150, 400)\n",
       "      )\n",
       "    )\n",
       "    (dropouti): LockedDropout(\n",
       "    )\n",
       "    (dropouths): ModuleList(\n",
       "      (0): LockedDropout(\n",
       "      )\n",
       "      (1): LockedDropout(\n",
       "      )\n",
       "      (2): LockedDropout(\n",
       "      )\n",
       "    )\n",
       "  )\n",
       "  (1): LinearDecoder(\n",
       "    (decoder): Linear(in_features=400, out_features=8603, bias=False)\n",
       "    (dropout): LockedDropout(\n",
       "    )\n",
       "  )\n",
       ")"
      ]
     },
     "execution_count": 37,
     "metadata": {},
     "output_type": "execute_result"
    }
   ],
   "source": [
    "learner.model"
   ]
  },
  {
   "cell_type": "markdown",
   "metadata": {},
   "source": [
    "Usei parm strict=False"
   ]
  },
  {
   "cell_type": "code",
   "execution_count": 38,
   "metadata": {},
   "outputs": [],
   "source": [
    "learner.model.load_state_dict(wgts,strict=False)"
   ]
  },
  {
   "cell_type": "markdown",
   "metadata": {},
   "source": [
    "We set learning rates and fit our IMDB LM. We first run one epoch to tune the last layer which contains the embedding weights. This should help the missing tokens in the wikitext103 learn better weights."
   ]
  },
  {
   "cell_type": "code",
   "execution_count": 39,
   "metadata": {},
   "outputs": [],
   "source": [
    "lr=1e-3\n",
    "lrs = lr"
   ]
  },
  {
   "cell_type": "code",
   "execution_count": 40,
   "metadata": {
    "scrolled": true
   },
   "outputs": [
    {
     "data": {
      "application/vnd.jupyter.widget-view+json": {
       "model_id": "53120ef087ec45048e95f62f7480663b",
       "version_major": 2,
       "version_minor": 0
      },
      "text/html": [
       "<p>Failed to display Jupyter Widget of type <code>HBox</code>.</p>\n",
       "<p>\n",
       "  If you're reading this message in the Jupyter Notebook or JupyterLab Notebook, it may mean\n",
       "  that the widgets JavaScript is still loading. If this message persists, it\n",
       "  likely means that the widgets JavaScript library is either not installed or\n",
       "  not enabled. See the <a href=\"https://ipywidgets.readthedocs.io/en/stable/user_install.html\">Jupyter\n",
       "  Widgets Documentation</a> for setup instructions.\n",
       "</p>\n",
       "<p>\n",
       "  If you're reading this message in another frontend (for example, a static\n",
       "  rendering on GitHub or <a href=\"https://nbviewer.jupyter.org/\">NBViewer</a>),\n",
       "  it may mean that your frontend doesn't currently support widgets.\n",
       "</p>\n"
      ],
      "text/plain": [
       "HBox(children=(IntProgress(value=0, description='Epoch', max=1), HTML(value='')))"
      ]
     },
     "metadata": {},
     "output_type": "display_data"
    },
    {
     "name": "stdout",
     "output_type": "stream",
     "text": [
      "epoch      trn_loss   val_loss   accuracy                   \n",
      "    0      4.374345   4.097376   0.303523  \n",
      "\n",
      "CPU times: user 1min 3s, sys: 26.9 s, total: 1min 30s\n",
      "Wall time: 1min 30s\n"
     ]
    },
    {
     "data": {
      "text/plain": [
       "[array([4.09738]), 0.30352256015727397]"
      ]
     },
     "execution_count": 40,
     "metadata": {},
     "output_type": "execute_result"
    }
   ],
   "source": [
    "%%time\n",
    "learner.fit(lrs/2, 1, wds=wd, use_clr=(32,2), cycle_len=1)"
   ]
  },
  {
   "cell_type": "code",
   "execution_count": 58,
   "metadata": {},
   "outputs": [
    {
     "name": "stdout",
     "output_type": "stream",
     "text": [
      "/home/borela/svnview/ServicosCognitivos/Fontes/ClassifJurisprudencia/nlp-tcu-enunciados-master\r\n"
     ]
    }
   ],
   "source": [
    "!pwd"
   ]
  },
  {
   "cell_type": "markdown",
   "metadata": {},
   "source": [
    "Note that we print out accuracy and keep track of how often we end up predicting the target word correctly. While this is a good metric to check, it is not part of our loss function as it can get quite bumpy. We only minimize cross-entropy loss in the LM.\n",
    "\n",
    "The exponent of the cross-entropy loss is called the perplexity of the LM. (low perplexity is better)."
   ]
  },
  {
   "cell_type": "code",
   "execution_count": 41,
   "metadata": {},
   "outputs": [],
   "source": [
    "learner.save('/home/borela/svnview/ServicosCognitivos/Fontes/ClassifJurisprudencia/nlp-tcu-enunciados-master/'+PATH+'/lm_last_ft')"
   ]
  },
  {
   "cell_type": "code",
   "execution_count": 42,
   "metadata": {},
   "outputs": [],
   "source": [
    "learner.load('/home/borela/svnview/ServicosCognitivos/Fontes/ClassifJurisprudencia/nlp-tcu-enunciados-master/'+PATH+'/lm_last_ft')"
   ]
  },
  {
   "cell_type": "code",
   "execution_count": 43,
   "metadata": {},
   "outputs": [],
   "source": [
    "learner.unfreeze()"
   ]
  },
  {
   "cell_type": "code",
   "execution_count": 44,
   "metadata": {},
   "outputs": [
    {
     "data": {
      "application/vnd.jupyter.widget-view+json": {
       "model_id": "8590989c18b544ad914b2d280e099056",
       "version_major": 2,
       "version_minor": 0
      },
      "text/html": [
       "<p>Failed to display Jupyter Widget of type <code>HBox</code>.</p>\n",
       "<p>\n",
       "  If you're reading this message in the Jupyter Notebook or JupyterLab Notebook, it may mean\n",
       "  that the widgets JavaScript is still loading. If this message persists, it\n",
       "  likely means that the widgets JavaScript library is either not installed or\n",
       "  not enabled. See the <a href=\"https://ipywidgets.readthedocs.io/en/stable/user_install.html\">Jupyter\n",
       "  Widgets Documentation</a> for setup instructions.\n",
       "</p>\n",
       "<p>\n",
       "  If you're reading this message in another frontend (for example, a static\n",
       "  rendering on GitHub or <a href=\"https://nbviewer.jupyter.org/\">NBViewer</a>),\n",
       "  it may mean that your frontend doesn't currently support widgets.\n",
       "</p>\n"
      ],
      "text/plain": [
       "HBox(children=(IntProgress(value=0, description='Epoch', max=1), HTML(value='')))"
      ]
     },
     "metadata": {},
     "output_type": "display_data"
    },
    {
     "name": "stdout",
     "output_type": "stream",
     "text": [
      "epoch      trn_loss   val_loss   accuracy                   \n",
      "    0      3.710193   3.538772   0.342366  \n",
      "\n",
      "CPU times: user 1min 29s, sys: 36.4 s, total: 2min 6s\n",
      "Wall time: 2min 6s\n"
     ]
    }
   ],
   "source": [
    "%%time\n",
    "learner.lr_find(start_lr=lrs/10, end_lr=lrs*10, linear=True)"
   ]
  },
  {
   "cell_type": "code",
   "execution_count": 70,
   "metadata": {},
   "outputs": [
    {
     "name": "stdout",
     "output_type": "stream",
     "text": [
      "Perplexidade =  34.123967614754356\n"
     ]
    }
   ],
   "source": [
    "print('Perplexidade = ', np.exp(3.53))"
   ]
  },
  {
   "cell_type": "code",
   "execution_count": 65,
   "metadata": {},
   "outputs": [
    {
     "name": "stdout",
     "output_type": "stream",
     "text": [
      "Perplexidade =  35.51659315162847\n"
     ]
    }
   ],
   "source": [
    "print('Perplexidade = ', np.exp(3.57))"
   ]
  },
  {
   "cell_type": "code",
   "execution_count": 45,
   "metadata": {
    "scrolled": true
   },
   "outputs": [
    {
     "data": {
      "image/png": "[encoded data removed]",
      "text/plain": [
       "<Figure size 432x288 with 1 Axes>"
      ]
     },
     "metadata": {},
     "output_type": "display_data"
    }
   ],
   "source": [
    "learner.sched.plot()"
   ]
  },
  {
   "cell_type": "code",
   "execution_count": 46,
   "metadata": {},
   "outputs": [],
   "source": [
    "lr=0.01\n",
    "lrs = lr"
   ]
  },
  {
   "cell_type": "code",
   "execution_count": 47,
   "metadata": {
    "scrolled": true
   },
   "outputs": [
    {
     "data": {
      "application/vnd.jupyter.widget-view+json": {
       "model_id": "c57a9237cfea450088c1670fa68d6266",
       "version_major": 2,
       "version_minor": 0
      },
      "text/html": [
       "<p>Failed to display Jupyter Widget of type <code>HBox</code>.</p>\n",
       "<p>\n",
       "  If you're reading this message in the Jupyter Notebook or JupyterLab Notebook, it may mean\n",
       "  that the widgets JavaScript is still loading. If this message persists, it\n",
       "  likely means that the widgets JavaScript library is either not installed or\n",
       "  not enabled. See the <a href=\"https://ipywidgets.readthedocs.io/en/stable/user_install.html\">Jupyter\n",
       "  Widgets Documentation</a> for setup instructions.\n",
       "</p>\n",
       "<p>\n",
       "  If you're reading this message in another frontend (for example, a static\n",
       "  rendering on GitHub or <a href=\"https://nbviewer.jupyter.org/\">NBViewer</a>),\n",
       "  it may mean that your frontend doesn't currently support widgets.\n",
       "</p>\n"
      ],
      "text/plain": [
       "HBox(children=(IntProgress(value=0, description='Epoch', max=15), HTML(value='')))"
      ]
     },
     "metadata": {},
     "output_type": "display_data"
    },
    {
     "name": "stdout",
     "output_type": "stream",
     "text": [
      "epoch      trn_loss   val_loss   accuracy                   \n",
      "    0      3.689738   3.482855   0.34687   \n",
      "    1      3.458606   3.347167   0.362306                   \n",
      "    2      3.275273   3.25276    0.372309                   \n",
      "    3      3.129363   3.186645   0.382891                   \n",
      "    4      3.02427    3.154599   0.390616                   \n",
      "    5      2.907872   3.088911   0.402682                   \n",
      "    6      2.834921   3.044032   0.408087                   \n",
      "    7      2.726881   2.998308   0.419156                   \n",
      "    8      2.611259   2.967515   0.424806                   \n",
      "    9      2.524943   2.905901   0.436194                   \n",
      "    10     2.475414   2.863356   0.441908                   \n",
      "    11     2.363549   2.865761   0.446558                   \n",
      "    12     2.286135   2.83382    0.452594                   \n",
      "    13     2.190436   2.817053   0.458532                   \n",
      "    14     2.11436    2.796368   0.462774                   \n",
      "\n",
      "CPU times: user 22min 35s, sys: 9min 25s, total: 32min 1s\n",
      "Wall time: 32min 1s\n"
     ]
    },
    {
     "data": {
      "text/plain": [
       "[array([2.79637]), 0.46277414811284917]"
      ]
     },
     "execution_count": 47,
     "metadata": {},
     "output_type": "execute_result"
    }
   ],
   "source": [
    "%%time\n",
    "learner.fit(lrs, 1, wds=wd, use_clr=(20,10), cycle_len=15)"
   ]
  },
  {
   "cell_type": "code",
   "execution_count": 69,
   "metadata": {
    "collapsed": true
   },
   "outputs": [
    {
     "data": {
      "application/vnd.jupyter.widget-view+json": {
       "model_id": "5e6dc46022a946e5913b5ec8d3f9da39",
       "version_major": 2,
       "version_minor": 0
      },
      "text/html": [
       "<p>Failed to display Jupyter Widget of type <code>HBox</code>.</p>\n",
       "<p>\n",
       "  If you're reading this message in the Jupyter Notebook or JupyterLab Notebook, it may mean\n",
       "  that the widgets JavaScript is still loading. If this message persists, it\n",
       "  likely means that the widgets JavaScript library is either not installed or\n",
       "  not enabled. See the <a href=\"https://ipywidgets.readthedocs.io/en/stable/user_install.html\">Jupyter\n",
       "  Widgets Documentation</a> for setup instructions.\n",
       "</p>\n",
       "<p>\n",
       "  If you're reading this message in another frontend (for example, a static\n",
       "  rendering on GitHub or <a href=\"https://nbviewer.jupyter.org/\">NBViewer</a>),\n",
       "  it may mean that your frontend doesn't currently support widgets.\n",
       "</p>\n"
      ],
      "text/plain": [
       "HBox(children=(IntProgress(value=0, description='Epoch', max=15), HTML(value='')))"
      ]
     },
     "metadata": {},
     "output_type": "display_data"
    },
    {
     "name": "stdout",
     "output_type": "stream",
     "text": [
      "epoch      trn_loss   val_loss   accuracy                   \n",
      "    0      3.681597   3.482576   0.350882  \n",
      "    1      3.464359   3.34912    0.362991                   \n",
      "    2      3.272      3.24565    0.375739                   \n",
      "    3      3.139743   3.183317   0.383339                   \n",
      "    4      3.027907   3.152532   0.391752                   \n",
      "    5      2.913521   3.089938   0.400682                   \n",
      "    6      2.84061    3.035818   0.4102                     \n",
      "    7      2.734552   2.996945   0.41541                    \n",
      "    8      2.611044   2.952095   0.42732                    \n",
      "    9      2.528403   2.903243   0.435483                   \n",
      "    10     2.478574   2.861792   0.441412                   \n",
      "    11     2.373513   2.8681     0.446708                   \n",
      "    12     2.291196   2.828873   0.455242                   \n",
      "    13     2.194889   2.815135   0.457353                   \n",
      "    14     2.112274   2.792512   0.462792                   \n",
      "\n",
      "CPU times: user 22min 52s, sys: 9min 15s, total: 32min 8s\n",
      "Wall time: 32min 7s\n"
     ]
    },
    {
     "data": {
      "text/plain": [
       "[array([2.79251]), 0.46279198715561315]"
      ]
     },
     "execution_count": 69,
     "metadata": {},
     "output_type": "execute_result"
    }
   ],
   "source": [
    "# 1a execução\n",
    "%%time  \n",
    "#learner.fit(lrs, 1, wds=wd, use_clr=(20,10), cycle_len=15)"
   ]
  },
  {
   "cell_type": "code",
   "execution_count": 48,
   "metadata": {},
   "outputs": [],
   "source": [
    "learner.save('/home/borela/svnview/ServicosCognitivos/Fontes/ClassifJurisprudencia/nlp-tcu-enunciados-master/'+PATH+'/lm1')"
   ]
  },
  {
   "cell_type": "code",
   "execution_count": 49,
   "metadata": {
    "scrolled": true
   },
   "outputs": [
    {
     "data": {
      "image/png": "[encoded data removed]",
      "text/plain": [
       "<Figure size 432x288 with 1 Axes>"
      ]
     },
     "metadata": {},
     "output_type": "display_data"
    }
   ],
   "source": [
    "learner.sched.plot_loss()"
   ]
  },
  {
   "cell_type": "code",
   "execution_count": 50,
   "metadata": {},
   "outputs": [
    {
     "data": {
      "text/plain": [
       "<function matplotlib.pyplot.show>"
      ]
     },
     "execution_count": 50,
     "metadata": {},
     "output_type": "execute_result"
    },
    {
     "data": {
      "image/png": "[encoded data removed]",
      "text/plain": [
       "<Figure size 432x288 with 1 Axes>"
      ]
     },
     "metadata": {},
     "output_type": "display_data"
    }
   ],
   "source": [
    "import matplotlib.pyplot as plt\n",
    "plt.xlabel(\"iterations\")\n",
    "plt.ylabel(\"learning rate\")\n",
    "plt.plot(learner.sched.iterations, learner.sched.lrs)\n",
    "plt.show"
   ]
  },
  {
   "cell_type": "code",
   "execution_count": 60,
   "metadata": {},
   "outputs": [],
   "source": [
    "learner.load('/home/borela/svnview/ServicosCognitivos/Fontes/ClassifJurisprudencia/nlp-tcu-enunciados-master/'+PATH+'/lm1')"
   ]
  },
  {
   "cell_type": "code",
   "execution_count": 76,
   "metadata": {
    "scrolled": true
   },
   "outputs": [
    {
     "name": "stdout",
     "output_type": "stream",
     "text": [
      "Perplexidade =  17.46152693657999\n"
     ]
    }
   ],
   "source": [
    "print('Perplexidade = ', np.exp(2.86))"
   ]
  },
  {
   "cell_type": "code",
   "execution_count": 77,
   "metadata": {},
   "outputs": [
    {
     "name": "stdout",
     "output_type": "stream",
     "text": [
      "o cargo em comissão de consultor jurídico dos ministérios é de livre\n",
      "o 6\n",
      "cargo 86\n",
      "em 15\n",
      "comissão 259\n",
      "de 2\n",
      "consultor 5152\n",
      "jurídico 293\n",
      "dos 26\n",
      "ministérios 6601\n",
      "é 27\n",
      "de 2\n",
      "livre 2146\n",
      "[6, 86, 15, 259, 2, 5152, 293, 26, 6601, 27, 2, 2146]\n",
      "['o', 'cargo', 'em', 'comissão', 'de', 'consultor', 'jurídico', 'dos', 'ministérios', 'é', 'de', 'livre']\n"
     ]
    }
   ],
   "source": [
    "ss=\"\"\"o cargo em comissão de consultor jurídico dos ministérios é de livre \"\"\"\n",
    "s = [Tokenizer().spacy_tok(ss)]\n",
    "#print(s)\n",
    "#t=stoi[s]\n",
    "textoaux=' '.join(s[0])\n",
    "print(textoaux)\n",
    "tabnum=[]\n",
    "for it in s[0]:\n",
    "   tabnum.append(stoi[it])\n",
    "   print(it, stoi[it])\n",
    "print(tabnum)\n",
    "print([itos[o] for o in tabnum])"
   ]
  },
  {
   "cell_type": "code",
   "execution_count": 51,
   "metadata": {},
   "outputs": [],
   "source": [
    "def what_next(seq, res_len):\n",
    "    m = learner.model\n",
    "    # Turn off dropout\n",
    "    m.eval() # não fez diferença no teste\n",
    "    # Reset hidden state\n",
    "    m.reset()  \n",
    "    tok = Tokenizer().proc_text(seq)\n",
    "    ids = [stoi[word] for word in tok]\n",
    "    # print('stoi:', ids, end='\\n\\n')\n",
    "\n",
    "    \"\"\" deveria mostrar próximas 15 palavras candidatas, mas precisa ser revisto\n",
    "    proxima_palavra = []\n",
    "    res,*_ = m(V(T(np.array([ids]))))\n",
    "    [proxima_palavra.append(itos[o]) for o in to_np(torch.topk(res[-1], 15)[1])]\n",
    "    print('15 candidatas a proxima_palavra ', proxima_palavra, end='\\n\\n')\n",
    "    \"\"\"\n",
    "    \n",
    "    res = []\n",
    "    for i in ids:\n",
    "        x = V(np.array(i)).unsqueeze(0)\n",
    "        preds =m(x)\n",
    "        val,idx = preds[0].data.max(1)\n",
    "    for i in range(res_len):\n",
    "        res.append(idx[0])\n",
    "        x = V(idx).unsqueeze(0)\n",
    "        preds = m(x)\n",
    "        val,idx = preds[0].data.max(1)\n",
    "    return [itos[i] for i in res]\n"
   ]
  },
  {
   "cell_type": "code",
   "execution_count": 52,
   "metadata": {
    "scrolled": true
   },
   "outputs": [
    {
     "name": "stdout",
     "output_type": "stream",
     "text": [
      "['nomeação', ',', 'sendo', 'que', ',', 'no', 'caso', 'de', 'acumulação', 'ilegal', 'de', 'cargos']\n"
     ]
    }
   ],
   "source": [
    "s=\"\"\"o cargo em comissão de consultor jurídico dos ministérios é de livre \"\"\"\n",
    "print(what_next(s, 12))"
   ]
  },
  {
   "cell_type": "code",
   "execution_count": 87,
   "metadata": {},
   "outputs": [
    {
     "name": "stdout",
     "output_type": "stream",
     "text": [
      "stoi: [6, 86, 15, 259, 2, 5152, 293, 26, 6601, 27, 2, 2146]\n",
      "\n",
      "['nomeação', ',', 'não', 'sendo', 'possível', 'estender', 'o', 'servidor', 'cedido', '.', '\\n', 'xbos', 'xfld', '1', 'a']\n"
     ]
    }
   ],
   "source": [
    "s=\"\"\"o cargo em comissão de consultor jurídico dos ministérios é de livre \"\"\"\n",
    "print(what_next(s, 15))"
   ]
  },
  {
   "cell_type": "markdown",
   "metadata": {},
   "source": [
    "(versão original Fernando)\n",
    "%%time\n",
    "learner.fit(lrs, 1, wds=wd, use_clr=(20,10), cycle_len=15)\n",
    "\n",
    "\n",
    "HBox(children=(IntProgress(value=0, description='Epoch', max=15), HTML(value='')))\n",
    "epoch      trn_loss   val_loss   accuracy                   \n",
    "    0      4.346938   3.863956   0.318073  \n",
    "    1      3.889904   3.513234   0.352266                   \n",
    "    2      3.614359   3.316463   0.372923                   \n",
    "    3      3.432717   3.182624   0.387281                   \n",
    "    4      3.299603   3.090508   0.398573                   \n",
    "    5      3.19458    3.022937   0.406933                   \n",
    "    6      3.111347   2.963846   0.415421                   \n",
    "    7      3.024716   2.917209   0.421194                   \n",
    "    8      2.976804   2.882251   0.426415                   \n",
    "    9      2.932255   2.848631   0.431315                   \n",
    "    10     2.877682   2.828991   0.43471                    \n",
    "    11     2.862214   2.810855   0.437535                   \n",
    "    12     2.830114   2.798963   0.439408                   \n",
    "    13     2.783524   2.792671   0.440428                   \n",
    "    14     2.782638   2.786632   0.441947                   \n",
    "\n",
    "CPU times: user 7min 21s, sys: 1min 38s, total: 9min\n",
    "Wall time: 9min\n",
    "[array([2.78663]), 0.44194654571382624]"
   ]
  },
  {
   "cell_type": "markdown",
   "metadata": {},
   "source": [
    "We save the trained model weights and separately save the encoder part of the LM model as well. This will serve as our backbone in the classification task model."
   ]
  },
  {
   "cell_type": "code",
   "execution_count": 53,
   "metadata": {},
   "outputs": [],
   "source": [
    "learner.save_encoder('/home/borela/svnview/ServicosCognitivos/Fontes/ClassifJurisprudencia/nlp-tcu-enunciados-master/'+PATH+'/lm1_enc')"
   ]
  },
  {
   "cell_type": "code",
   "execution_count": 54,
   "metadata": {},
   "outputs": [
    {
     "data": {
      "image/png": "[encoded data removed]",
      "text/plain": [
       "<Figure size 432x288 with 1 Axes>"
      ]
     },
     "metadata": {},
     "output_type": "display_data"
    }
   ],
   "source": [
    "learner.sched.plot_loss()"
   ]
  },
  {
   "cell_type": "markdown",
   "metadata": {},
   "source": [
    "## Classifier tokens"
   ]
  },
  {
   "cell_type": "markdown",
   "metadata": {},
   "source": [
    "The classifier model is basically a linear layer custom head on top of the LM backbone. Setting up the classifier data is similar to the LM data setup except that we cannot use the unsup movie reviews this time."
   ]
  },
  {
   "cell_type": "code",
   "execution_count": 55,
   "metadata": {},
   "outputs": [],
   "source": [
    "tok_trn = np.load(CLAS_PATH/'tmp'/'tok_trn.npy')\n",
    "tok_val = np.load(CLAS_PATH/'tmp'/'tok_val.npy')"
   ]
  },
  {
   "cell_type": "code",
   "execution_count": 56,
   "metadata": {},
   "outputs": [
    {
     "data": {
      "text/plain": [
       "(9236, 1027)"
      ]
     },
     "execution_count": 56,
     "metadata": {},
     "output_type": "execute_result"
    }
   ],
   "source": [
    "len(tok_trn), len(tok_val)"
   ]
  },
  {
   "cell_type": "code",
   "execution_count": 57,
   "metadata": {},
   "outputs": [],
   "source": [
    "trn_clas = np.array([[stoi[o] for o in p] for p in tok_trn])\n",
    "val_clas = np.array([[stoi[o] for o in p] for p in tok_val])"
   ]
  },
  {
   "cell_type": "code",
   "execution_count": 112,
   "metadata": {},
   "outputs": [
    {
     "data": {
      "text/plain": [
       "array([list([10, 11, 12, 9, 4, 287, 133, 2, 85, 740, 3, 4, 6, 2958, 1029, 24, 6, 227, 49, 51, 3, 24, 571, 2, 1949, 76, 292, 71, 3, 331, 599, 4, 6, 284, 7, 415, 2, 518, 45, 13, 4, 612, 2, 131, 768, 40, 213, 22, 402, 5]),\n",
       "       list([10, 11, 12, 9, 4, 155, 2, 94, 327, 2, 813, 257, 18, 393, 2, 149, 2, 342, 84, 1669, 36, 1644, 40, 90, 39, 33, 3154, 3, 410, 15, 320, 14, 36, 716, 193, 3163, 17, 541, 13, 193, 3288, 17, 541, 3, 3341, 8, 968, 3, 4, 6, 7062, 4, 408, 18, 96, 14, 6644, 3, 31, 119, 7, 63, 3, 104, 111, 4836, 3562, 3, 6645, 6643, 4, 78, 2, 238, 128, 21, 84, 2, 149, 1821, 29, 1035, 2, 813, 257, 5]),\n",
       "       list([10, 11, 12, 9, 4, 455, 2, 201, 2, 580, 18, 908, 2, 50, 31, 44, 71, 51, 35, 32, 5, 887, 7, 28, 188, 17, 166, 34, 64, 33, 656, 343, 25, 97, 14, 3, 611, 16, 185, 4711, 7, 50, 3, 5279, 18, 4362, 6, 190, 5]),\n",
       "       ...,\n",
       "       list([10, 11, 12, 9, 27, 365, 4, 78, 2, 254, 3, 24, 99, 31, 28, 193, 1953, 17, 2339, 3, 4, 96, 4074, 2218, 4, 6, 125, 7, 20, 1946, 5, 238, 128, 104, 2119, 4, 1949, 334, 96, 24, 6, 1089, 7, 28, 193, 971, 17, 3216, 5]),\n",
       "       list([10, 11, 12, 9, 4, 1835, 4, 1144, 2, 182, 2, 77, 35, 6098, 34, 331, 2236, 3, 65, 256, 225, 35, 32, 5, 2674, 8, 174, 3402, 17, 1196, 34, 3, 25, 127, 7, 1253, 8, 55, 2534, 25, 91, 2532, 1351, 8, 107, 23, 7, 123, 5878, 13, 25, 128, 8, 187, 2534, 15, 143, 4, 19, 77, 510, 21, 209, 1629, 6, 56, 688, 432, 5]),\n",
       "       list([10, 11, 12, 9, 4, 370, 136, 2, 1512, 30, 20, 4049, 1520, 2776, 88, 6, 852, 8, 86, 285, 8, 90, 5])],\n",
       "      dtype=object)"
      ]
     },
     "execution_count": 112,
     "metadata": {},
     "output_type": "execute_result"
    }
   ],
   "source": [
    "trn_clas"
   ]
  },
  {
   "cell_type": "markdown",
   "metadata": {},
   "source": [
    "## Classifier"
   ]
  },
  {
   "cell_type": "markdown",
   "metadata": {},
   "source": [
    "Now we can create our final model, a classifier which is really a custom linear head over our trained IMDB backbone. The steps to create the classifier model are similar to the ones for the LM."
   ]
  },
  {
   "cell_type": "code",
   "execution_count": 58,
   "metadata": {},
   "outputs": [],
   "source": [
    "trn_clas = np.load(CLAS_PATH/'tmp'/'trn_ids.npy')\n",
    "val_clas = np.load(CLAS_PATH/'tmp'/'val_ids.npy')"
   ]
  },
  {
   "cell_type": "code",
   "execution_count": 59,
   "metadata": {},
   "outputs": [],
   "source": [
    "trn_labels = np.squeeze(np.load(CLAS_PATH/'tmp'/'trn_labels.npy'))\n",
    "val_labels = np.squeeze(np.load(CLAS_PATH/'tmp'/'val_labels.npy'))"
   ]
  },
  {
   "cell_type": "markdown",
   "metadata": {},
   "source": [
    "no LM usou bs = 52 (Borela)\n",
    "optim.Adam...\n",
    "Variar"
   ]
  },
  {
   "cell_type": "code",
   "execution_count": 60,
   "metadata": {},
   "outputs": [],
   "source": [
    "bptt,em_sz,nh,nl = 70,400,1150,3\n",
    "vs = len(itos)\n",
    "opt_fn = partial(optim.Adam, betas=(0.8, 0.99))\n",
    "bs = 12"
   ]
  },
  {
   "cell_type": "code",
   "execution_count": 61,
   "metadata": {},
   "outputs": [
    {
     "data": {
      "text/plain": [
       "8603"
      ]
     },
     "execution_count": 61,
     "metadata": {},
     "output_type": "execute_result"
    }
   ],
   "source": [
    "vs"
   ]
  },
  {
   "cell_type": "markdown",
   "metadata": {},
   "source": [
    "Pegando intervalo de números das classes (Borela)"
   ]
  },
  {
   "cell_type": "code",
   "execution_count": 62,
   "metadata": {},
   "outputs": [],
   "source": [
    "min_lbl = trn_labels.min()\n",
    "trn_labels -= min_lbl\n",
    "val_labels -= min_lbl\n",
    "c=int(trn_labels.max())+1"
   ]
  },
  {
   "cell_type": "code",
   "execution_count": 63,
   "metadata": {},
   "outputs": [
    {
     "data": {
      "text/plain": [
       "(0, 4)"
      ]
     },
     "execution_count": 63,
     "metadata": {},
     "output_type": "execute_result"
    }
   ],
   "source": [
    "min_lbl, c"
   ]
  },
  {
   "cell_type": "markdown",
   "metadata": {},
   "source": [
    "In the classifier, unlike LM, we need to read a movie review at a time and learn to predict the it's sentiment as pos/neg. We do not deal with equal bptt size batches, so we have to pad the sequences to the same length in each batch. To create batches of similar sized movie reviews, we use a sortish sampler method invented by [@Smerity](https://twitter.com/Smerity) and [@jekbradbury](https://twitter.com/jekbradbury)\n",
    "\n",
    "The sortishSampler cuts down the overall number of padding tokens the classifier ends up seeing."
   ]
  },
  {
   "cell_type": "code",
   "execution_count": 64,
   "metadata": {},
   "outputs": [],
   "source": [
    "trn_ds = TextDataset(trn_clas, trn_labels)\n",
    "val_ds = TextDataset(val_clas, val_labels)\n",
    "trn_samp = SortishSampler(trn_clas, key=lambda x: len(trn_clas[x]), bs=bs//2)\n",
    "val_samp = SortSampler(val_clas, key=lambda x: len(val_clas[x]))\n",
    "trn_dl = DataLoader(trn_ds, bs//2, transpose=True, num_workers=1, pad_idx=1, sampler=trn_samp)\n",
    "val_dl = DataLoader(val_ds, bs, transpose=True, num_workers=1, pad_idx=1, sampler=val_samp)\n",
    "md = ModelData(PATH, trn_dl, val_dl)"
   ]
  },
  {
   "cell_type": "markdown",
   "metadata": {},
   "source": [
    "?? Não entendi  2 linhas abaixo (Borela)"
   ]
  },
  {
   "cell_type": "code",
   "execution_count": 65,
   "metadata": {},
   "outputs": [],
   "source": [
    "# part 1\n",
    "dps = np.array([0.4, 0.5, 0.05, 0.3, 0.1])"
   ]
  },
  {
   "cell_type": "markdown",
   "metadata": {},
   "source": [
    "Passo para rexecução "
   ]
  },
  {
   "cell_type": "code",
   "execution_count": 66,
   "metadata": {},
   "outputs": [],
   "source": [
    "dps = np.array([0.4,0.5,0.05,0.3,0.4])*0.5"
   ]
  },
  {
   "cell_type": "markdown",
   "metadata": {},
   "source": [
    "Passo para rexecução "
   ]
  },
  {
   "cell_type": "code",
   "execution_count": 81,
   "metadata": {},
   "outputs": [],
   "source": [
    "m = get_rnn_classifier(bptt, 20*70, c, vs, emb_sz=em_sz, n_hid=nh, n_layers=nl, pad_token=1,\n",
    "          layers=[em_sz*3, 50, c], drops=[dps[4], 0.1],\n",
    "          dropouti=dps[0], wdrop=dps[1], dropoute=dps[2], dropouth=dps[3])"
   ]
  },
  {
   "cell_type": "markdown",
   "metadata": {},
   "source": [
    "Passo para rexecução "
   ]
  },
  {
   "cell_type": "code",
   "execution_count": 82,
   "metadata": {},
   "outputs": [],
   "source": [
    "opt_fn = partial(optim.Adam, betas=(0.7, 0.99))"
   ]
  },
  {
   "cell_type": "code",
   "execution_count": 83,
   "metadata": {},
   "outputs": [
    {
     "name": "stdout",
     "output_type": "stream",
     "text": [
      "<function cross_entropy at 0x7f452fb2dd08>\n"
     ]
    }
   ],
   "source": [
    "print(learn_clas.crit)\n",
    "# solution for error: http://forums.fast.ai/t/fix-f-binary-cross-entropy-keeps-crashing-the-gpu/15997/6\n",
    "#m.crit = nn.BCEWithLogitsLoss()\n",
    "#m.crit = F.binary_cross_entropy()"
   ]
  },
  {
   "cell_type": "markdown",
   "metadata": {},
   "source": [
    "Passo para rexecução "
   ]
  },
  {
   "cell_type": "code",
   "execution_count": 84,
   "metadata": {},
   "outputs": [],
   "source": [
    "learn_clas = RNN_Learner(md, TextModel(to_gpu(m)), opt_fn=opt_fn)\n",
    "learn_clas.reg_fn = partial(seq2seq_reg, alpha=2, beta=1)\n",
    "learn_clas.clip=25.\n",
    "learn_clas.metrics = [accuracy]"
   ]
  },
  {
   "cell_type": "markdown",
   "metadata": {},
   "source": [
    "Passo para rexecução "
   ]
  },
  {
   "cell_type": "code",
   "execution_count": 85,
   "metadata": {},
   "outputs": [],
   "source": [
    "lr=3e-3\n",
    "lrm = 2.6\n",
    "lrs = np.array([lr/(lrm**4), lr/(lrm**3), lr/(lrm**2), lr/lrm, lr])"
   ]
  },
  {
   "cell_type": "code",
   "execution_count": 86,
   "metadata": {},
   "outputs": [
    {
     "name": "stdout",
     "output_type": "stream",
     "text": [
      "[0.00007 0.00017 0.00044 0.00115 0.003  ]\n"
     ]
    }
   ],
   "source": [
    "print(lrs)"
   ]
  },
  {
   "cell_type": "markdown",
   "metadata": {},
   "source": [
    "antes tinha esse comsndo sbrepondo: \n",
    "  lrs=np.array([1e-4,1e-4,1e-4,1e-3,1e-2])"
   ]
  },
  {
   "cell_type": "code",
   "execution_count": 87,
   "metadata": {},
   "outputs": [],
   "source": [
    "lrs=np.array([1e-4,1e-4,1e-4,1e-3,1e-2])"
   ]
  },
  {
   "cell_type": "code",
   "execution_count": 88,
   "metadata": {},
   "outputs": [],
   "source": [
    "wd = 1e-7\n",
    "wd = 0\n",
    "learn_clas.load_encoder('/home/borela/svnview/ServicosCognitivos/Fontes/ClassifJurisprudencia/nlp-tcu-enunciados-master/'+PATH+'/lm1b_enc')"
   ]
  },
  {
   "cell_type": "code",
   "execution_count": 89,
   "metadata": {},
   "outputs": [],
   "source": [
    "learn_clas.freeze_to(-1)"
   ]
  },
  {
   "cell_type": "code",
   "execution_count": 90,
   "metadata": {
    "scrolled": true
   },
   "outputs": [
    {
     "data": {
      "application/vnd.jupyter.widget-view+json": {
       "model_id": "5e7ac649f14d490f87f7b4caa7145739",
       "version_major": 2,
       "version_minor": 0
      },
      "text/html": [
       "<p>Failed to display Jupyter Widget of type <code>HBox</code>.</p>\n",
       "<p>\n",
       "  If you're reading this message in the Jupyter Notebook or JupyterLab Notebook, it may mean\n",
       "  that the widgets JavaScript is still loading. If this message persists, it\n",
       "  likely means that the widgets JavaScript library is either not installed or\n",
       "  not enabled. See the <a href=\"https://ipywidgets.readthedocs.io/en/stable/user_install.html\">Jupyter\n",
       "  Widgets Documentation</a> for setup instructions.\n",
       "</p>\n",
       "<p>\n",
       "  If you're reading this message in another frontend (for example, a static\n",
       "  rendering on GitHub or <a href=\"https://nbviewer.jupyter.org/\">NBViewer</a>),\n",
       "  it may mean that your frontend doesn't currently support widgets.\n",
       "</p>\n"
      ],
      "text/plain": [
       "HBox(children=(IntProgress(value=0, description='Epoch', max=1), HTML(value='')))"
      ]
     },
     "metadata": {},
     "output_type": "display_data"
    },
    {
     "name": "stdout",
     "output_type": "stream",
     "text": [
      " 72%|███████▏  | 1106/1540 [01:52<00:44,  9.86it/s, loss=1.85] "
     ]
    }
   ],
   "source": [
    "learn_clas.lr_find(lrs/1000)\n"
   ]
  },
  {
   "cell_type": "code",
   "execution_count": 137,
   "metadata": {},
   "outputs": [],
   "source": []
  },
  {
   "cell_type": "code",
   "execution_count": 139,
   "metadata": {
    "scrolled": true
   },
   "outputs": [
    {
     "ename": "RuntimeError",
     "evalue": "cuda runtime error (59) : device-side assert triggered at /opt/conda/conda-bld/pytorch_1518244421288/work/torch/csrc/generic/serialization.cpp:38",
     "output_type": "error",
     "traceback": [
      "\u001b[0;31m---------------------------------------------------------------------------\u001b[0m",
      "\u001b[0;31mRuntimeError\u001b[0m                              Traceback (most recent call last)",
      "\u001b[0;32m<ipython-input-139-d72f6ecd7fd6>\u001b[0m in \u001b[0;36m<module>\u001b[0;34m()\u001b[0m\n\u001b[0;32m----> 1\u001b[0;31m \u001b[0mlearn_clas\u001b[0m\u001b[0;34m.\u001b[0m\u001b[0mlr_find\u001b[0m\u001b[0;34m(\u001b[0m\u001b[0mlrs\u001b[0m\u001b[0;34m/\u001b[0m\u001b[0;36m1000\u001b[0m\u001b[0;34m)\u001b[0m\u001b[0;34m\u001b[0m\u001b[0m\n\u001b[0m",
      "\u001b[0;32m~/svnview/ServicosCognitivos/Fontes/ClassifJurisprudencia/nlp-tcu-enunciados-master/fastai/learner.py\u001b[0m in \u001b[0;36mlr_find\u001b[0;34m(self, start_lr, end_lr, wds, linear, **kwargs)\u001b[0m\n\u001b[1;32m    342\u001b[0m \u001b[0;34m\u001b[0m\u001b[0m\n\u001b[1;32m    343\u001b[0m         \"\"\"\n\u001b[0;32m--> 344\u001b[0;31m         \u001b[0mself\u001b[0m\u001b[0;34m.\u001b[0m\u001b[0msave\u001b[0m\u001b[0;34m(\u001b[0m\u001b[0;34m'tmp'\u001b[0m\u001b[0;34m)\u001b[0m\u001b[0;34m\u001b[0m\u001b[0m\n\u001b[0m\u001b[1;32m    345\u001b[0m         \u001b[0mlayer_opt\u001b[0m \u001b[0;34m=\u001b[0m \u001b[0mself\u001b[0m\u001b[0;34m.\u001b[0m\u001b[0mget_layer_opt\u001b[0m\u001b[0;34m(\u001b[0m\u001b[0mstart_lr\u001b[0m\u001b[0;34m,\u001b[0m \u001b[0mwds\u001b[0m\u001b[0;34m)\u001b[0m\u001b[0;34m\u001b[0m\u001b[0m\n\u001b[1;32m    346\u001b[0m         \u001b[0mself\u001b[0m\u001b[0;34m.\u001b[0m\u001b[0msched\u001b[0m \u001b[0;34m=\u001b[0m \u001b[0mLR_Finder\u001b[0m\u001b[0;34m(\u001b[0m\u001b[0mlayer_opt\u001b[0m\u001b[0;34m,\u001b[0m \u001b[0mlen\u001b[0m\u001b[0;34m(\u001b[0m\u001b[0mself\u001b[0m\u001b[0;34m.\u001b[0m\u001b[0mdata\u001b[0m\u001b[0;34m.\u001b[0m\u001b[0mtrn_dl\u001b[0m\u001b[0;34m)\u001b[0m\u001b[0;34m,\u001b[0m \u001b[0mend_lr\u001b[0m\u001b[0;34m,\u001b[0m \u001b[0mlinear\u001b[0m\u001b[0;34m=\u001b[0m\u001b[0mlinear\u001b[0m\u001b[0;34m)\u001b[0m\u001b[0;34m\u001b[0m\u001b[0m\n",
      "\u001b[0;32m~/svnview/ServicosCognitivos/Fontes/ClassifJurisprudencia/nlp-tcu-enunciados-master/fastai/learner.py\u001b[0m in \u001b[0;36msave\u001b[0;34m(self, name)\u001b[0m\n\u001b[1;32m    101\u001b[0m \u001b[0;34m\u001b[0m\u001b[0m\n\u001b[1;32m    102\u001b[0m     \u001b[0;32mdef\u001b[0m \u001b[0msave\u001b[0m\u001b[0;34m(\u001b[0m\u001b[0mself\u001b[0m\u001b[0;34m,\u001b[0m \u001b[0mname\u001b[0m\u001b[0;34m)\u001b[0m\u001b[0;34m:\u001b[0m\u001b[0;34m\u001b[0m\u001b[0m\n\u001b[0;32m--> 103\u001b[0;31m         \u001b[0msave_model\u001b[0m\u001b[0;34m(\u001b[0m\u001b[0mself\u001b[0m\u001b[0;34m.\u001b[0m\u001b[0mmodel\u001b[0m\u001b[0;34m,\u001b[0m \u001b[0mself\u001b[0m\u001b[0;34m.\u001b[0m\u001b[0mget_model_path\u001b[0m\u001b[0;34m(\u001b[0m\u001b[0mname\u001b[0m\u001b[0;34m)\u001b[0m\u001b[0;34m)\u001b[0m\u001b[0;34m\u001b[0m\u001b[0m\n\u001b[0m\u001b[1;32m    104\u001b[0m         \u001b[0;32mif\u001b[0m \u001b[0mhasattr\u001b[0m\u001b[0;34m(\u001b[0m\u001b[0mself\u001b[0m\u001b[0;34m,\u001b[0m \u001b[0;34m'swa_model'\u001b[0m\u001b[0;34m)\u001b[0m\u001b[0;34m:\u001b[0m \u001b[0msave_model\u001b[0m\u001b[0;34m(\u001b[0m\u001b[0mself\u001b[0m\u001b[0;34m.\u001b[0m\u001b[0mswa_model\u001b[0m\u001b[0;34m,\u001b[0m \u001b[0mself\u001b[0m\u001b[0;34m.\u001b[0m\u001b[0mget_model_path\u001b[0m\u001b[0;34m(\u001b[0m\u001b[0mname\u001b[0m\u001b[0;34m)\u001b[0m\u001b[0;34m[\u001b[0m\u001b[0;34m:\u001b[0m\u001b[0;34m-\u001b[0m\u001b[0;36m3\u001b[0m\u001b[0;34m]\u001b[0m\u001b[0;34m+\u001b[0m\u001b[0;34m'-swa.h5'\u001b[0m\u001b[0;34m)\u001b[0m\u001b[0;34m\u001b[0m\u001b[0m\n\u001b[1;32m    105\u001b[0m \u001b[0;34m\u001b[0m\u001b[0m\n",
      "\u001b[0;32m~/svnview/ServicosCognitivos/Fontes/ClassifJurisprudencia/nlp-tcu-enunciados-master/fastai/torch_imports.py\u001b[0m in \u001b[0;36msave_model\u001b[0;34m(m, p)\u001b[0m\n\u001b[1;32m     30\u001b[0m \u001b[0;34m\u001b[0m\u001b[0m\n\u001b[1;32m     31\u001b[0m \u001b[0;32mdef\u001b[0m \u001b[0mchildren\u001b[0m\u001b[0;34m(\u001b[0m\u001b[0mm\u001b[0m\u001b[0;34m)\u001b[0m\u001b[0;34m:\u001b[0m \u001b[0;32mreturn\u001b[0m \u001b[0mm\u001b[0m \u001b[0;32mif\u001b[0m \u001b[0misinstance\u001b[0m\u001b[0;34m(\u001b[0m\u001b[0mm\u001b[0m\u001b[0;34m,\u001b[0m \u001b[0;34m(\u001b[0m\u001b[0mlist\u001b[0m\u001b[0;34m,\u001b[0m \u001b[0mtuple\u001b[0m\u001b[0;34m)\u001b[0m\u001b[0;34m)\u001b[0m \u001b[0;32melse\u001b[0m \u001b[0mlist\u001b[0m\u001b[0;34m(\u001b[0m\u001b[0mm\u001b[0m\u001b[0;34m.\u001b[0m\u001b[0mchildren\u001b[0m\u001b[0;34m(\u001b[0m\u001b[0;34m)\u001b[0m\u001b[0;34m)\u001b[0m\u001b[0;34m\u001b[0m\u001b[0m\n\u001b[0;32m---> 32\u001b[0;31m \u001b[0;32mdef\u001b[0m \u001b[0msave_model\u001b[0m\u001b[0;34m(\u001b[0m\u001b[0mm\u001b[0m\u001b[0;34m,\u001b[0m \u001b[0mp\u001b[0m\u001b[0;34m)\u001b[0m\u001b[0;34m:\u001b[0m \u001b[0mtorch\u001b[0m\u001b[0;34m.\u001b[0m\u001b[0msave\u001b[0m\u001b[0;34m(\u001b[0m\u001b[0mm\u001b[0m\u001b[0;34m.\u001b[0m\u001b[0mstate_dict\u001b[0m\u001b[0;34m(\u001b[0m\u001b[0;34m)\u001b[0m\u001b[0;34m,\u001b[0m \u001b[0mp\u001b[0m\u001b[0;34m)\u001b[0m\u001b[0;34m\u001b[0m\u001b[0m\n\u001b[0m\u001b[1;32m     33\u001b[0m \u001b[0;32mdef\u001b[0m \u001b[0mload_model\u001b[0m\u001b[0;34m(\u001b[0m\u001b[0mm\u001b[0m\u001b[0;34m,\u001b[0m \u001b[0mp\u001b[0m\u001b[0;34m)\u001b[0m\u001b[0;34m:\u001b[0m\u001b[0;34m\u001b[0m\u001b[0m\n\u001b[1;32m     34\u001b[0m     \u001b[0msd\u001b[0m \u001b[0;34m=\u001b[0m \u001b[0mtorch\u001b[0m\u001b[0;34m.\u001b[0m\u001b[0mload\u001b[0m\u001b[0;34m(\u001b[0m\u001b[0mp\u001b[0m\u001b[0;34m,\u001b[0m \u001b[0mmap_location\u001b[0m\u001b[0;34m=\u001b[0m\u001b[0;32mlambda\u001b[0m \u001b[0mstorage\u001b[0m\u001b[0;34m,\u001b[0m \u001b[0mloc\u001b[0m\u001b[0;34m:\u001b[0m \u001b[0mstorage\u001b[0m\u001b[0;34m)\u001b[0m\u001b[0;34m\u001b[0m\u001b[0m\n",
      "\u001b[0;32m~/anaconda3/envs/fastai/lib/python3.6/site-packages/torch/serialization.py\u001b[0m in \u001b[0;36msave\u001b[0;34m(obj, f, pickle_module, pickle_protocol)\u001b[0m\n\u001b[1;32m    133\u001b[0m         \u001b[0mpickle_protocol\u001b[0m\u001b[0;34m:\u001b[0m \u001b[0mcan\u001b[0m \u001b[0mbe\u001b[0m \u001b[0mspecified\u001b[0m \u001b[0mto\u001b[0m \u001b[0moverride\u001b[0m \u001b[0mthe\u001b[0m \u001b[0mdefault\u001b[0m \u001b[0mprotocol\u001b[0m\u001b[0;34m\u001b[0m\u001b[0m\n\u001b[1;32m    134\u001b[0m     \"\"\"\n\u001b[0;32m--> 135\u001b[0;31m     \u001b[0;32mreturn\u001b[0m \u001b[0m_with_file_like\u001b[0m\u001b[0;34m(\u001b[0m\u001b[0mf\u001b[0m\u001b[0;34m,\u001b[0m \u001b[0;34m\"wb\"\u001b[0m\u001b[0;34m,\u001b[0m \u001b[0;32mlambda\u001b[0m \u001b[0mf\u001b[0m\u001b[0;34m:\u001b[0m \u001b[0m_save\u001b[0m\u001b[0;34m(\u001b[0m\u001b[0mobj\u001b[0m\u001b[0;34m,\u001b[0m \u001b[0mf\u001b[0m\u001b[0;34m,\u001b[0m \u001b[0mpickle_module\u001b[0m\u001b[0;34m,\u001b[0m \u001b[0mpickle_protocol\u001b[0m\u001b[0;34m)\u001b[0m\u001b[0;34m)\u001b[0m\u001b[0;34m\u001b[0m\u001b[0m\n\u001b[0m\u001b[1;32m    136\u001b[0m \u001b[0;34m\u001b[0m\u001b[0m\n\u001b[1;32m    137\u001b[0m \u001b[0;34m\u001b[0m\u001b[0m\n",
      "\u001b[0;32m~/anaconda3/envs/fastai/lib/python3.6/site-packages/torch/serialization.py\u001b[0m in \u001b[0;36m_with_file_like\u001b[0;34m(f, mode, body)\u001b[0m\n\u001b[1;32m    115\u001b[0m         \u001b[0mf\u001b[0m \u001b[0;34m=\u001b[0m \u001b[0mopen\u001b[0m\u001b[0;34m(\u001b[0m\u001b[0mf\u001b[0m\u001b[0;34m,\u001b[0m \u001b[0mmode\u001b[0m\u001b[0;34m)\u001b[0m\u001b[0;34m\u001b[0m\u001b[0m\n\u001b[1;32m    116\u001b[0m     \u001b[0;32mtry\u001b[0m\u001b[0;34m:\u001b[0m\u001b[0;34m\u001b[0m\u001b[0m\n\u001b[0;32m--> 117\u001b[0;31m         \u001b[0;32mreturn\u001b[0m \u001b[0mbody\u001b[0m\u001b[0;34m(\u001b[0m\u001b[0mf\u001b[0m\u001b[0;34m)\u001b[0m\u001b[0;34m\u001b[0m\u001b[0m\n\u001b[0m\u001b[1;32m    118\u001b[0m     \u001b[0;32mfinally\u001b[0m\u001b[0;34m:\u001b[0m\u001b[0;34m\u001b[0m\u001b[0m\n\u001b[1;32m    119\u001b[0m         \u001b[0;32mif\u001b[0m \u001b[0mnew_fd\u001b[0m\u001b[0;34m:\u001b[0m\u001b[0;34m\u001b[0m\u001b[0m\n",
      "\u001b[0;32m~/anaconda3/envs/fastai/lib/python3.6/site-packages/torch/serialization.py\u001b[0m in \u001b[0;36m<lambda>\u001b[0;34m(f)\u001b[0m\n\u001b[1;32m    133\u001b[0m         \u001b[0mpickle_protocol\u001b[0m\u001b[0;34m:\u001b[0m \u001b[0mcan\u001b[0m \u001b[0mbe\u001b[0m \u001b[0mspecified\u001b[0m \u001b[0mto\u001b[0m \u001b[0moverride\u001b[0m \u001b[0mthe\u001b[0m \u001b[0mdefault\u001b[0m \u001b[0mprotocol\u001b[0m\u001b[0;34m\u001b[0m\u001b[0m\n\u001b[1;32m    134\u001b[0m     \"\"\"\n\u001b[0;32m--> 135\u001b[0;31m     \u001b[0;32mreturn\u001b[0m \u001b[0m_with_file_like\u001b[0m\u001b[0;34m(\u001b[0m\u001b[0mf\u001b[0m\u001b[0;34m,\u001b[0m \u001b[0;34m\"wb\"\u001b[0m\u001b[0;34m,\u001b[0m \u001b[0;32mlambda\u001b[0m \u001b[0mf\u001b[0m\u001b[0;34m:\u001b[0m \u001b[0m_save\u001b[0m\u001b[0;34m(\u001b[0m\u001b[0mobj\u001b[0m\u001b[0;34m,\u001b[0m \u001b[0mf\u001b[0m\u001b[0;34m,\u001b[0m \u001b[0mpickle_module\u001b[0m\u001b[0;34m,\u001b[0m \u001b[0mpickle_protocol\u001b[0m\u001b[0;34m)\u001b[0m\u001b[0;34m)\u001b[0m\u001b[0;34m\u001b[0m\u001b[0m\n\u001b[0m\u001b[1;32m    136\u001b[0m \u001b[0;34m\u001b[0m\u001b[0m\n\u001b[1;32m    137\u001b[0m \u001b[0;34m\u001b[0m\u001b[0m\n",
      "\u001b[0;32m~/anaconda3/envs/fastai/lib/python3.6/site-packages/torch/serialization.py\u001b[0m in \u001b[0;36m_save\u001b[0;34m(obj, f, pickle_module, pickle_protocol)\u001b[0m\n\u001b[1;32m    202\u001b[0m     \u001b[0mf\u001b[0m\u001b[0;34m.\u001b[0m\u001b[0mflush\u001b[0m\u001b[0;34m(\u001b[0m\u001b[0;34m)\u001b[0m\u001b[0;34m\u001b[0m\u001b[0m\n\u001b[1;32m    203\u001b[0m     \u001b[0;32mfor\u001b[0m \u001b[0mkey\u001b[0m \u001b[0;32min\u001b[0m \u001b[0mserialized_storage_keys\u001b[0m\u001b[0;34m:\u001b[0m\u001b[0;34m\u001b[0m\u001b[0m\n\u001b[0;32m--> 204\u001b[0;31m         \u001b[0mserialized_storages\u001b[0m\u001b[0;34m[\u001b[0m\u001b[0mkey\u001b[0m\u001b[0;34m]\u001b[0m\u001b[0;34m.\u001b[0m\u001b[0m_write_file\u001b[0m\u001b[0;34m(\u001b[0m\u001b[0mf\u001b[0m\u001b[0;34m)\u001b[0m\u001b[0;34m\u001b[0m\u001b[0m\n\u001b[0m\u001b[1;32m    205\u001b[0m \u001b[0;34m\u001b[0m\u001b[0m\n\u001b[1;32m    206\u001b[0m \u001b[0;34m\u001b[0m\u001b[0m\n",
      "\u001b[0;31mRuntimeError\u001b[0m: cuda runtime error (59) : device-side assert triggered at /opt/conda/conda-bld/pytorch_1518244421288/work/torch/csrc/generic/serialization.cpp:38"
     ]
    }
   ],
   "source": [
    "# errro anterior learn_clas.lr_find(lrs/1000)\n"
   ]
  },
  {
   "cell_type": "code",
   "execution_count": 91,
   "metadata": {
    "scrolled": true
   },
   "outputs": [
    {
     "data": {
      "image/png": "[encoded data removed]",
      "text/plain": [
       "<Figure size 432x288 with 1 Axes>"
      ]
     },
     "metadata": {},
     "output_type": "display_data"
    }
   ],
   "source": [
    "learn_clas.sched.plot()"
   ]
  },
  {
   "cell_type": "code",
   "execution_count": 97,
   "metadata": {},
   "outputs": [],
   "source": [
    "lr=1e-3"
   ]
  },
  {
   "cell_type": "markdown",
   "metadata": {},
   "source": [
    "??? Mudar lr para 5 10 -1 (Borela)  \n",
    "\n",
    "Rodamos o find e não alteramos rl depois ??"
   ]
  },
  {
   "cell_type": "code",
   "execution_count": 98,
   "metadata": {
    "scrolled": true
   },
   "outputs": [
    {
     "data": {
      "application/vnd.jupyter.widget-view+json": {
       "model_id": "541e159b568a4751a6b48e4724f6115b",
       "version_major": 2,
       "version_minor": 0
      },
      "text/html": [
       "<p>Failed to display Jupyter Widget of type <code>HBox</code>.</p>\n",
       "<p>\n",
       "  If you're reading this message in the Jupyter Notebook or JupyterLab Notebook, it may mean\n",
       "  that the widgets JavaScript is still loading. If this message persists, it\n",
       "  likely means that the widgets JavaScript library is either not installed or\n",
       "  not enabled. See the <a href=\"https://ipywidgets.readthedocs.io/en/stable/user_install.html\">Jupyter\n",
       "  Widgets Documentation</a> for setup instructions.\n",
       "</p>\n",
       "<p>\n",
       "  If you're reading this message in another frontend (for example, a static\n",
       "  rendering on GitHub or <a href=\"https://nbviewer.jupyter.org/\">NBViewer</a>),\n",
       "  it may mean that your frontend doesn't currently support widgets.\n",
       "</p>\n"
      ],
      "text/plain": [
       "HBox(children=(IntProgress(value=0, description='Epoch', max=1), HTML(value='')))"
      ]
     },
     "metadata": {},
     "output_type": "display_data"
    },
    {
     "name": "stdout",
     "output_type": "stream",
     "text": [
      "  5%|▍         | 70/1540 [00:07<02:44,  8.91it/s, loss=0.779] \n",
      "  5%|▍         | 71/1540 [00:08<02:47,  8.79it/s, loss=0.768]"
     ]
    },
    {
     "name": "stderr",
     "output_type": "stream",
     "text": [
      "Exception in thread Thread-26:\n",
      "Traceback (most recent call last):\n",
      "  File \"/home/borela/anaconda3/envs/fastai/lib/python3.6/threading.py\", line 916, in _bootstrap_inner\n",
      "    self.run()\n",
      "  File \"/home/borela/anaconda3/envs/fastai/lib/python3.6/site-packages/tqdm/_tqdm.py\", line 144, in run\n",
      "    for instance in self.tqdm_cls._instances:\n",
      "  File \"/home/borela/anaconda3/envs/fastai/lib/python3.6/_weakrefset.py\", line 60, in __iter__\n",
      "    for itemref in self.data:\n",
      "RuntimeError: Set changed size during iteration\n",
      "\n"
     ]
    },
    {
     "name": "stdout",
     "output_type": "stream",
     "text": [
      "epoch      trn_loss   val_loss   accuracy                      \n",
      "    0      0.449963   0.33789    0.873418  \n",
      "\n",
      "CPU times: user 2min 6s, sys: 56 s, total: 3min 2s\n",
      "Wall time: 3min 3s\n"
     ]
    },
    {
     "data": {
      "text/plain": [
       "[array([0.33789]), 0.8734177248851698]"
      ]
     },
     "execution_count": 98,
     "metadata": {},
     "output_type": "execute_result"
    }
   ],
   "source": [
    "%%time\n",
    "learn_clas.fit(lrs, 1, wds=wd, cycle_len=1, use_clr=(8,3))"
   ]
  },
  {
   "cell_type": "code",
   "execution_count": 103,
   "metadata": {},
   "outputs": [],
   "source": [
    "learn_clas.save('/home/borela/svnview/ServicosCognitivos/Fontes/ClassifJurisprudencia/nlp-tcu-enunciados-master/'+PATH+'/clas_0')"
   ]
  },
  {
   "cell_type": "code",
   "execution_count": 104,
   "metadata": {},
   "outputs": [],
   "source": [
    "learn_clas.load('/home/borela/svnview/ServicosCognitivos/Fontes/ClassifJurisprudencia/nlp-tcu-enunciados-master/'+PATH+'/clas_0')"
   ]
  },
  {
   "cell_type": "code",
   "execution_count": 105,
   "metadata": {},
   "outputs": [],
   "source": [
    "learn_clas.freeze_to(-2)"
   ]
  },
  {
   "cell_type": "code",
   "execution_count": 106,
   "metadata": {
    "scrolled": true
   },
   "outputs": [
    {
     "data": {
      "application/vnd.jupyter.widget-view+json": {
       "model_id": "b06024a69e294df9b89d823ffd9f2c75",
       "version_major": 2,
       "version_minor": 0
      },
      "text/html": [
       "<p>Failed to display Jupyter Widget of type <code>HBox</code>.</p>\n",
       "<p>\n",
       "  If you're reading this message in the Jupyter Notebook or JupyterLab Notebook, it may mean\n",
       "  that the widgets JavaScript is still loading. If this message persists, it\n",
       "  likely means that the widgets JavaScript library is either not installed or\n",
       "  not enabled. See the <a href=\"https://ipywidgets.readthedocs.io/en/stable/user_install.html\">Jupyter\n",
       "  Widgets Documentation</a> for setup instructions.\n",
       "</p>\n",
       "<p>\n",
       "  If you're reading this message in another frontend (for example, a static\n",
       "  rendering on GitHub or <a href=\"https://nbviewer.jupyter.org/\">NBViewer</a>),\n",
       "  it may mean that your frontend doesn't currently support widgets.\n",
       "</p>\n"
      ],
      "text/plain": [
       "HBox(children=(IntProgress(value=0, description='Epoch', max=1), HTML(value='')))"
      ]
     },
     "metadata": {},
     "output_type": "display_data"
    },
    {
     "name": "stdout",
     "output_type": "stream",
     "text": [
      "epoch      trn_loss   val_loss   accuracy                      \n",
      "    0      0.410438   0.600894   0.888023  \n",
      "\n",
      "CPU times: user 2min 40s, sys: 1min 12s, total: 3min 53s\n",
      "Wall time: 3min 53s\n"
     ]
    },
    {
     "data": {
      "text/plain": [
       "[array([0.60089]), 0.8880233718798711]"
      ]
     },
     "execution_count": 106,
     "metadata": {},
     "output_type": "execute_result"
    }
   ],
   "source": [
    "%%time\n",
    "learn_clas.fit(lrs, 1, wds=wd, cycle_len=1, use_clr=(8,3))"
   ]
  },
  {
   "cell_type": "code",
   "execution_count": 107,
   "metadata": {},
   "outputs": [],
   "source": [
    "learn_clas.save('/home/borela/svnview/ServicosCognitivos/Fontes/ClassifJurisprudencia/nlp-tcu-enunciados-master/'+PATH+'/clas_1')"
   ]
  },
  {
   "cell_type": "code",
   "execution_count": 110,
   "metadata": {},
   "outputs": [],
   "source": [
    "learn_clas.load('/home/borela/svnview/ServicosCognitivos/Fontes/ClassifJurisprudencia/nlp-tcu-enunciados-master/'+PATH+'/clas_1')"
   ]
  },
  {
   "cell_type": "code",
   "execution_count": 111,
   "metadata": {},
   "outputs": [],
   "source": [
    "learn_clas.unfreeze()"
   ]
  },
  {
   "cell_type": "markdown",
   "metadata": {},
   "source": [
    "Estava 24...\n",
    "Reduzi para 16 (Borela)\n",
    "variar"
   ]
  },
  {
   "cell_type": "code",
   "execution_count": 112,
   "metadata": {},
   "outputs": [],
   "source": [
    "bs=8"
   ]
  },
  {
   "cell_type": "markdown",
   "metadata": {},
   "source": [
    "# em caso de reexecução após load clas_1\n",
    "\n",
    "em_sz=400 \n",
    "nh = 1150 \n",
    "nl=3\n",
    "bptt=70\n",
    "bs=4    # estourou memória out of memory : 16, 52\n",
    "wd=1e-7\n",
    "opt_fn = partial(optim.Adam, betas=(0.8, 0.99))\n",
    "\n",
    "trn_dl = LanguageModelLoader(np.concatenate(trn_lm), bs, bptt)\n",
    "val_dl = LanguageModelLoader(np.concatenate(val_lm), bs, bptt)\n",
    "md = LanguageModelData(PATH, 1, vs, trn_dl, val_dl, bs=bs, bptt=bptt)\n",
    "\n",
    "\n",
    "drops = np.array([0.25, 0.1, 0.2, 0.02, 0.15])*0.3\n",
    "\n",
    "learner= md.get_model(opt_fn, em_sz, nh, nl, \n",
    "    dropouti=drops[0], dropout=drops[1], wdrop=drops[2], dropoute=drops[3], dropouth=drops[4])\n",
    "\n",
    "learner.metrics = [accuracy]"
   ]
  },
  {
   "cell_type": "code",
   "execution_count": 113,
   "metadata": {},
   "outputs": [
    {
     "data": {
      "text/plain": [
       "<function matplotlib.pyplot.show>"
      ]
     },
     "execution_count": 113,
     "metadata": {},
     "output_type": "execute_result"
    },
    {
     "data": {
      "image/png": "[encoded data removed]",
      "text/plain": [
       "<Figure size 432x288 with 1 Axes>"
      ]
     },
     "metadata": {},
     "output_type": "display_data"
    }
   ],
   "source": [
    "import matplotlib.pyplot as plt\n",
    "plt.xlabel(\"iterations\")\n",
    "plt.ylabel(\"learning rate\")\n",
    "plt.plot(learn_clas.sched.iterations, learn_clas.sched.lrs)\n",
    "plt.show"
   ]
  },
  {
   "cell_type": "code",
   "execution_count": 114,
   "metadata": {},
   "outputs": [
    {
     "data": {
      "image/png": "[encoded data removed]",
      "text/plain": [
       "<Figure size 432x288 with 1 Axes>"
      ]
     },
     "metadata": {},
     "output_type": "display_data"
    }
   ],
   "source": [
    "learn_clas.sched.plot_loss()"
   ]
  },
  {
   "cell_type": "code",
   "execution_count": null,
   "metadata": {
    "scrolled": true
   },
   "outputs": [
    {
     "data": {
      "application/vnd.jupyter.widget-view+json": {
       "model_id": "7616dbfe1dd142f2a8210abba0eada27",
       "version_major": 2,
       "version_minor": 0
      },
      "text/html": [
       "<p>Failed to display Jupyter Widget of type <code>HBox</code>.</p>\n",
       "<p>\n",
       "  If you're reading this message in the Jupyter Notebook or JupyterLab Notebook, it may mean\n",
       "  that the widgets JavaScript is still loading. If this message persists, it\n",
       "  likely means that the widgets JavaScript library is either not installed or\n",
       "  not enabled. See the <a href=\"https://ipywidgets.readthedocs.io/en/stable/user_install.html\">Jupyter\n",
       "  Widgets Documentation</a> for setup instructions.\n",
       "</p>\n",
       "<p>\n",
       "  If you're reading this message in another frontend (for example, a static\n",
       "  rendering on GitHub or <a href=\"https://nbviewer.jupyter.org/\">NBViewer</a>),\n",
       "  it may mean that your frontend doesn't currently support widgets.\n",
       "</p>\n"
      ],
      "text/plain": [
       "HBox(children=(IntProgress(value=0, description='Epoch', max=7), HTML(value='')))"
      ]
     },
     "metadata": {},
     "output_type": "display_data"
    },
    {
     "name": "stdout",
     "output_type": "stream",
     "text": [
      "epoch      trn_loss   val_loss   accuracy                      \n",
      "    0      0.674726   3.506892   0.890945  \n",
      " 32%|███▏      | 494/1540 [01:44<03:41,  4.71it/s, loss=0.442]"
     ]
    }
   ],
   "source": [
    "%%time\n",
    "learn_clas.fit(lrs, 1, wds=wd, cycle_len=7, use_clr=(32,10))"
   ]
  },
  {
   "cell_type": "code",
   "execution_count": 103,
   "metadata": {},
   "outputs": [],
   "source": [
    "learn_clas.save('/home/borela/svnview/ServicosCognitivos/Fontes/ClassifJurisprudencia/nlp-tcu-enunciados-master/'+PATH+'/clas_2')"
   ]
  },
  {
   "cell_type": "code",
   "execution_count": 104,
   "metadata": {},
   "outputs": [],
   "source": [
    "learn_clas.load('/home/borela/svnview/ServicosCognitivos/Fontes/ClassifJurisprudencia/nlp-tcu-enunciados-master/'+PATH+'/clas_2')"
   ]
  },
  {
   "cell_type": "code",
   "execution_count": 59,
   "metadata": {},
   "outputs": [
    {
     "data": {
      "image/png": "[encoded data removed]",
      "text/plain": [
       "<Figure size 432x288 with 1 Axes>"
      ]
     },
     "metadata": {},
     "output_type": "display_data"
    }
   ],
   "source": [
    "learn.sched.plot_loss()"
   ]
  },
  {
   "cell_type": "markdown",
   "metadata": {},
   "source": [
    "The previous state of the art result was 94.1% accuracy (5.9% error). With bidir we get 95.4% accuracy (4.6% error)."
   ]
  },
  {
   "cell_type": "markdown",
   "metadata": {},
   "source": [
    "## End"
   ]
  },
  {
   "cell_type": "code",
   "execution_count": null,
   "metadata": {},
   "outputs": [],
   "source": []
  }
 ],
 "metadata": {
  "kernelspec": {
   "display_name": "Python [conda env:fastai]",
   "language": "python",
   "name": "conda-env-fastai-py"
  },
  "language_info": {
   "codemirror_mode": {
    "name": "ipython",
    "version": 3
   },
   "file_extension": ".py",
   "mimetype": "text/x-python",
   "name": "python",
   "nbconvert_exporter": "python",
   "pygments_lexer": "ipython3",
   "version": "3.6.5"
  }
 },
 "nbformat": 4,
 "nbformat_minor": 2
}
